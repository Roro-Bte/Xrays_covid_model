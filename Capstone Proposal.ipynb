{
 "cells": [
  {
   "cell_type": "markdown",
   "metadata": {},
   "source": [
    "# Domain Background\n",
    "\n",
    "* novel corona virus data.\n",
    "* global catatrophe, should help.\n",
    "* tomography is best to see damage, but not as available as xray.\n",
    "* state of the art in computer vision for health.\n",
    "* future of western and chinese medicine\n",
    "\n",
    "As the covid-Sars-2 ravages throughout the world, scientists race to understand the characteristics of this new virus. \n",
    "\n",
    "# Problem Statement\n",
    "\n",
    "* Classification problem. Evaluate between normal, pneumonia caused by another virus, covid-19, and bacteria. \n",
    "* \n",
    "* \n",
    "\n",
    "# Datasets and Inputs\n",
    "\n",
    "* https://www.kaggle.com/praveengovi/coronahack-chest-xraydataset\n",
    "* Show summary table. \n",
    "* Describe table.\n",
    "* Show how this is relevant information.\n",
    "\n",
    "\n",
    "# Solution Statement\n",
    "\n",
    "* Augmentate covid data.\n",
    "* Apply pretrained, CNN model. \n",
    "* % of accuracy for each class.\n",
    "\n",
    "\n",
    "# Benchmark Model\n",
    "\n",
    "* Flower model classification.\n",
    "<img src=\"notebook_ims/vgg_16_architecture.png\" width=700px>\n",
    "\n",
    "# Evaluation Metrics\n",
    "\n",
    "* % of accuracy for each class.\n",
    "\n",
    "# Project Design\n",
    "\n",
    "* First augmentate data.\n",
    "* Eliminate classes that are not relevant and have few data.\n",
    "* AWS will be used to train with GPU, and host the predictor, if I decide to make available in a website. \n",
    "* (if hosted in a website) create lambda API\n",
    "* Upload to S3 trough a 3rd party.\n",
    "* Train last 6 layers of the CNN. Check overall test accuracy in this process.\n",
    "* Explore how the output of the VGG model to then deploy it. \n"
   ]
  },
  {
   "cell_type": "code",
   "execution_count": null,
   "metadata": {},
   "outputs": [],
   "source": []
  }
 ],
 "metadata": {
  "kernelspec": {
   "display_name": "Python 3",
   "language": "python",
   "name": "python3"
  },
  "language_info": {
   "codemirror_mode": {
    "name": "ipython",
    "version": 3
   },
   "file_extension": ".py",
   "mimetype": "text/x-python",
   "name": "python",
   "nbconvert_exporter": "python",
   "pygments_lexer": "ipython3",
   "version": "3.8.2"
  }
 },
 "nbformat": 4,
 "nbformat_minor": 4
}
