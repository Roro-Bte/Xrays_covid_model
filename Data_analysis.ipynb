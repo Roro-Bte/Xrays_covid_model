{
 "cells": [
  {
   "cell_type": "code",
   "execution_count": 81,
   "metadata": {},
   "outputs": [],
   "source": [
    "# Analysis of the data. \n",
    "\n",
    "import numpy as np\n",
    "import matplotlib.pyplot as plt\n",
    "from tqdm import tqdm, trange\n",
    "from pandas.plotting import register_matplotlib_converters\n",
    "\n",
    "import pandas as pd\n",
    "import os\n",
    "import glob\n",
    "import shutil\n",
    "from pathlib import Path\n",
    "from os import listdir\n",
    "from os.path import isfile, join\n",
    "import torch\n",
    "from torchvision import datasets, transforms, models\n",
    "from torch import nn, optim\n",
    "from torch.utils.data import Dataset\n",
    "import cv2\n",
    "\n",
    "import torch_model #helper functions\n",
    "import helper\n",
    "from helper import export\n",
    "\n",
    "# import albumentations as A\n",
    "# from albumentations.pytorch import ToTensor\n",
    "\n",
    "import random\n",
    "RANDOM_SEED = 42\n",
    "random.seed(RANDOM_SEED)\n",
    "np.random.seed(RANDOM_SEED)\n",
    "\n",
    "import importlib\n",
    "\n",
    "# Sagemaker\n",
    "import boto3\n",
    "import sagemaker\n",
    "from sagemaker import get_execution_role\n",
    "\n",
    "# Sound\n",
    "from IPython.display import Audio\n",
    "sound_file = 'Capture.mp3' # finish sound\n",
    "\n"
   ]
  },
  {
   "cell_type": "code",
   "execution_count": 4,
   "metadata": {},
   "outputs": [
    {
     "name": "stdout",
     "output_type": "stream",
     "text": [
      "Collecting cufflinks\n",
      "\u001b[?25l  Downloading https://files.pythonhosted.org/packages/1a/18/4d32edaaf31ba4af9745dac676c4a28c48d3fc539000c29e855bd8db3b86/cufflinks-0.17.3.tar.gz (81kB)\n",
      "\u001b[K    100% |████████████████████████████████| 81kB 10.0MB/s ta 0:00:01\n",
      "\u001b[?25hRequirement already satisfied: numpy>=1.9.2 in /home/ec2-user/anaconda3/envs/pytorch_p36/lib/python3.6/site-packages (from cufflinks) (1.15.4)\n",
      "Requirement already satisfied: pandas>=0.19.2 in /home/ec2-user/anaconda3/envs/pytorch_p36/lib/python3.6/site-packages (from cufflinks) (0.24.2)\n",
      "Requirement already satisfied: plotly>=4.1.1 in /home/ec2-user/anaconda3/envs/pytorch_p36/lib/python3.6/site-packages (from cufflinks) (4.5.2)\n",
      "Requirement already satisfied: six>=1.9.0 in /home/ec2-user/anaconda3/envs/pytorch_p36/lib/python3.6/site-packages (from cufflinks) (1.11.0)\n",
      "Collecting colorlover>=0.2.1 (from cufflinks)\n",
      "  Downloading https://files.pythonhosted.org/packages/9a/53/f696e4480b1d1de3b1523991dea71cf417c8b19fe70c704da164f3f90972/colorlover-0.3.0-py3-none-any.whl\n",
      "Requirement already satisfied: setuptools>=34.4.1 in /home/ec2-user/anaconda3/envs/pytorch_p36/lib/python3.6/site-packages (from cufflinks) (39.1.0)\n",
      "Requirement already satisfied: ipython>=5.3.0 in /home/ec2-user/anaconda3/envs/pytorch_p36/lib/python3.6/site-packages (from cufflinks) (6.4.0)\n",
      "Requirement already satisfied: ipywidgets>=7.0.0 in /home/ec2-user/anaconda3/envs/pytorch_p36/lib/python3.6/site-packages (from cufflinks) (7.4.0)\n",
      "Requirement already satisfied: python-dateutil>=2.5.0 in /home/ec2-user/anaconda3/envs/pytorch_p36/lib/python3.6/site-packages (from pandas>=0.19.2->cufflinks) (2.7.3)\n",
      "Requirement already satisfied: pytz>=2011k in /home/ec2-user/anaconda3/envs/pytorch_p36/lib/python3.6/site-packages (from pandas>=0.19.2->cufflinks) (2018.4)\n",
      "Requirement already satisfied: retrying>=1.3.3 in /home/ec2-user/anaconda3/envs/pytorch_p36/lib/python3.6/site-packages (from plotly>=4.1.1->cufflinks) (1.3.3)\n",
      "Requirement already satisfied: pickleshare in /home/ec2-user/anaconda3/envs/pytorch_p36/lib/python3.6/site-packages (from ipython>=5.3.0->cufflinks) (0.7.4)\n",
      "Requirement already satisfied: simplegeneric>0.8 in /home/ec2-user/anaconda3/envs/pytorch_p36/lib/python3.6/site-packages (from ipython>=5.3.0->cufflinks) (0.8.1)\n",
      "Requirement already satisfied: jedi>=0.10 in /home/ec2-user/anaconda3/envs/pytorch_p36/lib/python3.6/site-packages (from ipython>=5.3.0->cufflinks) (0.12.0)\n",
      "Requirement already satisfied: backcall in /home/ec2-user/anaconda3/envs/pytorch_p36/lib/python3.6/site-packages (from ipython>=5.3.0->cufflinks) (0.1.0)\n",
      "Requirement already satisfied: decorator in /home/ec2-user/anaconda3/envs/pytorch_p36/lib/python3.6/site-packages (from ipython>=5.3.0->cufflinks) (4.3.0)\n",
      "Requirement already satisfied: pexpect; sys_platform != \"win32\" in /home/ec2-user/anaconda3/envs/pytorch_p36/lib/python3.6/site-packages (from ipython>=5.3.0->cufflinks) (4.5.0)\n",
      "Requirement already satisfied: traitlets>=4.2 in /home/ec2-user/anaconda3/envs/pytorch_p36/lib/python3.6/site-packages (from ipython>=5.3.0->cufflinks) (4.3.2)\n",
      "Requirement already satisfied: pygments in /home/ec2-user/anaconda3/envs/pytorch_p36/lib/python3.6/site-packages (from ipython>=5.3.0->cufflinks) (2.2.0)\n",
      "Requirement already satisfied: prompt-toolkit<2.0.0,>=1.0.15 in /home/ec2-user/anaconda3/envs/pytorch_p36/lib/python3.6/site-packages (from ipython>=5.3.0->cufflinks) (1.0.15)\n",
      "Requirement already satisfied: nbformat>=4.2.0 in /home/ec2-user/anaconda3/envs/pytorch_p36/lib/python3.6/site-packages (from ipywidgets>=7.0.0->cufflinks) (4.4.0)\n",
      "Requirement already satisfied: ipykernel>=4.5.1 in /home/ec2-user/anaconda3/envs/pytorch_p36/lib/python3.6/site-packages (from ipywidgets>=7.0.0->cufflinks) (4.8.2)\n",
      "Requirement already satisfied: widgetsnbextension~=3.4.0 in /home/ec2-user/anaconda3/envs/pytorch_p36/lib/python3.6/site-packages (from ipywidgets>=7.0.0->cufflinks) (3.4.2)\n",
      "Requirement already satisfied: parso>=0.2.0 in /home/ec2-user/anaconda3/envs/pytorch_p36/lib/python3.6/site-packages (from jedi>=0.10->ipython>=5.3.0->cufflinks) (0.2.0)\n",
      "Requirement already satisfied: ptyprocess>=0.5 in /home/ec2-user/anaconda3/envs/pytorch_p36/lib/python3.6/site-packages (from pexpect; sys_platform != \"win32\"->ipython>=5.3.0->cufflinks) (0.5.2)\n",
      "Requirement already satisfied: ipython_genutils in /home/ec2-user/anaconda3/envs/pytorch_p36/lib/python3.6/site-packages (from traitlets>=4.2->ipython>=5.3.0->cufflinks) (0.2.0)\n",
      "Requirement already satisfied: wcwidth in /home/ec2-user/anaconda3/envs/pytorch_p36/lib/python3.6/site-packages (from prompt-toolkit<2.0.0,>=1.0.15->ipython>=5.3.0->cufflinks) (0.1.7)\n",
      "Requirement already satisfied: jsonschema!=2.5.0,>=2.4 in /home/ec2-user/anaconda3/envs/pytorch_p36/lib/python3.6/site-packages (from nbformat>=4.2.0->ipywidgets>=7.0.0->cufflinks) (2.6.0)\n",
      "Requirement already satisfied: jupyter_core in /home/ec2-user/anaconda3/envs/pytorch_p36/lib/python3.6/site-packages (from nbformat>=4.2.0->ipywidgets>=7.0.0->cufflinks) (4.4.0)\n",
      "Requirement already satisfied: jupyter_client in /home/ec2-user/anaconda3/envs/pytorch_p36/lib/python3.6/site-packages (from ipykernel>=4.5.1->ipywidgets>=7.0.0->cufflinks) (5.2.3)\n",
      "Requirement already satisfied: tornado>=4.0 in /home/ec2-user/anaconda3/envs/pytorch_p36/lib/python3.6/site-packages (from ipykernel>=4.5.1->ipywidgets>=7.0.0->cufflinks) (5.0.2)\n",
      "Requirement already satisfied: notebook>=4.4.1 in /home/ec2-user/anaconda3/envs/pytorch_p36/lib/python3.6/site-packages (from widgetsnbextension~=3.4.0->ipywidgets>=7.0.0->cufflinks) (5.5.0)\n",
      "Requirement already satisfied: pyzmq>=13 in /home/ec2-user/anaconda3/envs/pytorch_p36/lib/python3.6/site-packages (from jupyter_client->ipykernel>=4.5.1->ipywidgets>=7.0.0->cufflinks) (17.0.0)\n",
      "Requirement already satisfied: jinja2 in /home/ec2-user/anaconda3/envs/pytorch_p36/lib/python3.6/site-packages (from notebook>=4.4.1->widgetsnbextension~=3.4.0->ipywidgets>=7.0.0->cufflinks) (2.10)\n",
      "Requirement already satisfied: Send2Trash in /home/ec2-user/anaconda3/envs/pytorch_p36/lib/python3.6/site-packages (from notebook>=4.4.1->widgetsnbextension~=3.4.0->ipywidgets>=7.0.0->cufflinks) (1.5.0)\n",
      "Requirement already satisfied: terminado>=0.8.1 in /home/ec2-user/anaconda3/envs/pytorch_p36/lib/python3.6/site-packages (from notebook>=4.4.1->widgetsnbextension~=3.4.0->ipywidgets>=7.0.0->cufflinks) (0.8.1)\n",
      "Requirement already satisfied: nbconvert in /home/ec2-user/anaconda3/envs/pytorch_p36/lib/python3.6/site-packages (from notebook>=4.4.1->widgetsnbextension~=3.4.0->ipywidgets>=7.0.0->cufflinks) (5.4.1)\n",
      "Requirement already satisfied: MarkupSafe>=0.23 in /home/ec2-user/anaconda3/envs/pytorch_p36/lib/python3.6/site-packages (from jinja2->notebook>=4.4.1->widgetsnbextension~=3.4.0->ipywidgets>=7.0.0->cufflinks) (1.0)\n",
      "Requirement already satisfied: mistune>=0.8.1 in /home/ec2-user/anaconda3/envs/pytorch_p36/lib/python3.6/site-packages (from nbconvert->notebook>=4.4.1->widgetsnbextension~=3.4.0->ipywidgets>=7.0.0->cufflinks) (0.8.3)\n",
      "Requirement already satisfied: entrypoints>=0.2.2 in /home/ec2-user/anaconda3/envs/pytorch_p36/lib/python3.6/site-packages (from nbconvert->notebook>=4.4.1->widgetsnbextension~=3.4.0->ipywidgets>=7.0.0->cufflinks) (0.2.3)\n",
      "Requirement already satisfied: bleach in /home/ec2-user/anaconda3/envs/pytorch_p36/lib/python3.6/site-packages (from nbconvert->notebook>=4.4.1->widgetsnbextension~=3.4.0->ipywidgets>=7.0.0->cufflinks) (2.1.3)\n",
      "Requirement already satisfied: pandocfilters>=1.4.1 in /home/ec2-user/anaconda3/envs/pytorch_p36/lib/python3.6/site-packages (from nbconvert->notebook>=4.4.1->widgetsnbextension~=3.4.0->ipywidgets>=7.0.0->cufflinks) (1.4.2)\n",
      "Requirement already satisfied: testpath in /home/ec2-user/anaconda3/envs/pytorch_p36/lib/python3.6/site-packages (from nbconvert->notebook>=4.4.1->widgetsnbextension~=3.4.0->ipywidgets>=7.0.0->cufflinks) (0.3.1)\n",
      "Requirement already satisfied: defusedxml in /home/ec2-user/anaconda3/envs/pytorch_p36/lib/python3.6/site-packages (from nbconvert->notebook>=4.4.1->widgetsnbextension~=3.4.0->ipywidgets>=7.0.0->cufflinks) (0.6.0)\n",
      "Requirement already satisfied: html5lib!=1.0b1,!=1.0b2,!=1.0b3,!=1.0b4,!=1.0b5,!=1.0b6,!=1.0b7,!=1.0b8,>=0.99999999pre in /home/ec2-user/anaconda3/envs/pytorch_p36/lib/python3.6/site-packages (from bleach->nbconvert->notebook>=4.4.1->widgetsnbextension~=3.4.0->ipywidgets>=7.0.0->cufflinks) (1.0.1)\n",
      "Requirement already satisfied: webencodings in /home/ec2-user/anaconda3/envs/pytorch_p36/lib/python3.6/site-packages (from html5lib!=1.0b1,!=1.0b2,!=1.0b3,!=1.0b4,!=1.0b5,!=1.0b6,!=1.0b7,!=1.0b8,>=0.99999999pre->bleach->nbconvert->notebook>=4.4.1->widgetsnbextension~=3.4.0->ipywidgets>=7.0.0->cufflinks) (0.5.1)\n",
      "Building wheels for collected packages: cufflinks\n"
     ]
    },
    {
     "name": "stdout",
     "output_type": "stream",
     "text": [
      "  Running setup.py bdist_wheel for cufflinks ... \u001b[?25ldone\n",
      "\u001b[?25h  Stored in directory: /home/ec2-user/.cache/pip/wheels/7d/ba/8d/38b672c3e40d8bd22dd60b8e6e29965b43f2b4be4d064e44d5\n",
      "Successfully built cufflinks\n",
      "\u001b[31mfastai 1.0.60 requires nvidia-ml-py3, which is not installed.\u001b[0m\n",
      "Installing collected packages: colorlover, cufflinks\n",
      "Successfully installed colorlover-0.3.0 cufflinks-0.17.3\n",
      "\u001b[33mYou are using pip version 10.0.1, however version 20.2b1 is available.\n",
      "You should consider upgrading via the 'pip install --upgrade pip' command.\u001b[0m\n"
     ]
    }
   ],
   "source": [
    "!pip install cufflinks"
   ]
  },
  {
   "cell_type": "code",
   "execution_count": 82,
   "metadata": {},
   "outputs": [
    {
     "data": {
      "text/html": [
       "        <script type=\"text/javascript\">\n",
       "        window.PlotlyConfig = {MathJaxConfig: 'local'};\n",
       "        if (window.MathJax) {MathJax.Hub.Config({SVG: {font: \"STIX-Web\"}});}\n",
       "        if (typeof require !== 'undefined') {\n",
       "        require.undef(\"plotly\");\n",
       "        requirejs.config({\n",
       "            paths: {\n",
       "                'plotly': ['https://cdn.plot.ly/plotly-latest.min']\n",
       "            }\n",
       "        });\n",
       "        require(['plotly'], function(Plotly) {\n",
       "            window._Plotly = Plotly;\n",
       "        });\n",
       "        }\n",
       "        </script>\n",
       "        "
      ]
     },
     "metadata": {},
     "output_type": "display_data"
    }
   ],
   "source": [
    "# plotly standard imports\n",
    "import plotly.graph_objs as go\n",
    "# import chart_studio.plotly as py\n",
    "import cufflinks\n",
    "from plotly.offline import iplot\n",
    "cufflinks.go_offline()\n",
    "# Set global theme\n",
    "cufflinks.set_config_file(world_readable=True, theme='white')"
   ]
  },
  {
   "cell_type": "markdown",
   "metadata": {},
   "source": [
    "# Data processing and exploration\n",
    "* The data comes with two summaries: one for the dataset and another for the metadata"
   ]
  },
  {
   "cell_type": "code",
   "execution_count": 2,
   "metadata": {},
   "outputs": [
    {
     "name": "stdout",
     "output_type": "stream",
     "text": [
      "CPU times: user 9.57 ms, sys: 0 ns, total: 9.57 ms\n",
      "Wall time: 15.8 ms\n",
      "Chest_xray_Corona_dataset_Summary.csv  imported\n",
      "CPU times: user 8.93 ms, sys: 3.77 ms, total: 12.7 ms\n",
      "Wall time: 14.4 ms\n",
      "Chest_xray_Corona_Metadata.csv  imported\n"
     ]
    }
   ],
   "source": [
    "# Import dataset summary and metadata.\n",
    "\n",
    "dir_summary = Path(\"data\")\n",
    "fileName = 'Chest_xray_Corona_dataset_Summary.csv'\n",
    "%time data_summary = pd.read_csv(dir_summary / fileName)\n",
    "data_summary = data_summary.iloc[:,1:] # delete first column\n",
    "print(fileName, ' imported')\n",
    "\n",
    "fileName = 'Chest_xray_Corona_Metadata.csv'\n",
    "%time metadata = pd.read_csv(dir_summary / fileName)\n",
    "metadata = metadata.iloc[:,1:] # delete first column\n",
    "metadata = metadata.fillna(\"\")\n",
    "print(fileName, ' imported')\n",
    "metadata['folder'] = \"\"\n",
    "\n",
    "# Indicate a folder to each image\n",
    "for i in range(0,len(metadata)) :\n",
    "    if metadata.iloc[i,3] != \"\":\n",
    "        metadata.iloc[i,5] =  metadata.iloc[i,1] + \"-\" +  metadata.iloc[i,4] + \"-\" +  metadata.iloc[i,3]\n",
    "    elif metadata.iloc[i,4] != \"\":\n",
    "        metadata.iloc[i,5] =  metadata.iloc[i,1] + \"-\" +  metadata.iloc[i,4]\n",
    "    else:\n",
    "        metadata.iloc[i,5] =  metadata.iloc[i,1]"
   ]
  },
  {
   "cell_type": "code",
   "execution_count": 3,
   "metadata": {},
   "outputs": [
    {
     "name": "stdout",
     "output_type": "stream",
     "text": [
      "Data summary:\n"
     ]
    },
    {
     "data": {
      "text/html": [
       "<div>\n",
       "<style scoped>\n",
       "    .dataframe tbody tr th:only-of-type {\n",
       "        vertical-align: middle;\n",
       "    }\n",
       "\n",
       "    .dataframe tbody tr th {\n",
       "        vertical-align: top;\n",
       "    }\n",
       "\n",
       "    .dataframe thead th {\n",
       "        text-align: right;\n",
       "    }\n",
       "</style>\n",
       "<table border=\"1\" class=\"dataframe\">\n",
       "  <thead>\n",
       "    <tr style=\"text-align: right;\">\n",
       "      <th></th>\n",
       "      <th>Label</th>\n",
       "      <th>Label_1_Virus_category</th>\n",
       "      <th>Label_2_Virus_category</th>\n",
       "      <th>Image_Count</th>\n",
       "    </tr>\n",
       "  </thead>\n",
       "  <tbody>\n",
       "    <tr>\n",
       "      <th>0</th>\n",
       "      <td>Normal</td>\n",
       "      <td>NaN</td>\n",
       "      <td>NaN</td>\n",
       "      <td>1576</td>\n",
       "    </tr>\n",
       "    <tr>\n",
       "      <th>1</th>\n",
       "      <td>Pnemonia</td>\n",
       "      <td>Stress-Smoking</td>\n",
       "      <td>ARDS</td>\n",
       "      <td>2</td>\n",
       "    </tr>\n",
       "    <tr>\n",
       "      <th>2</th>\n",
       "      <td>Pnemonia</td>\n",
       "      <td>Virus</td>\n",
       "      <td>NaN</td>\n",
       "      <td>1493</td>\n",
       "    </tr>\n",
       "    <tr>\n",
       "      <th>3</th>\n",
       "      <td>Pnemonia</td>\n",
       "      <td>Virus</td>\n",
       "      <td>COVID-19</td>\n",
       "      <td>58</td>\n",
       "    </tr>\n",
       "    <tr>\n",
       "      <th>4</th>\n",
       "      <td>Pnemonia</td>\n",
       "      <td>Virus</td>\n",
       "      <td>SARS</td>\n",
       "      <td>4</td>\n",
       "    </tr>\n",
       "    <tr>\n",
       "      <th>5</th>\n",
       "      <td>Pnemonia</td>\n",
       "      <td>bacteria</td>\n",
       "      <td>NaN</td>\n",
       "      <td>2772</td>\n",
       "    </tr>\n",
       "    <tr>\n",
       "      <th>6</th>\n",
       "      <td>Pnemonia</td>\n",
       "      <td>bacteria</td>\n",
       "      <td>Streptococcus</td>\n",
       "      <td>5</td>\n",
       "    </tr>\n",
       "  </tbody>\n",
       "</table>\n",
       "</div>"
      ],
      "text/plain": [
       "      Label Label_1_Virus_category Label_2_Virus_category  Image_Count\n",
       "0    Normal                    NaN                    NaN         1576\n",
       "1  Pnemonia         Stress-Smoking                   ARDS            2\n",
       "2  Pnemonia                  Virus                    NaN         1493\n",
       "3  Pnemonia                  Virus               COVID-19           58\n",
       "4  Pnemonia                  Virus                   SARS            4\n",
       "5  Pnemonia               bacteria                    NaN         2772\n",
       "6  Pnemonia               bacteria          Streptococcus            5"
      ]
     },
     "metadata": {},
     "output_type": "display_data"
    },
    {
     "name": "stdout",
     "output_type": "stream",
     "text": [
      "Metadata:\n"
     ]
    },
    {
     "data": {
      "text/html": [
       "<div>\n",
       "<style scoped>\n",
       "    .dataframe tbody tr th:only-of-type {\n",
       "        vertical-align: middle;\n",
       "    }\n",
       "\n",
       "    .dataframe tbody tr th {\n",
       "        vertical-align: top;\n",
       "    }\n",
       "\n",
       "    .dataframe thead th {\n",
       "        text-align: right;\n",
       "    }\n",
       "</style>\n",
       "<table border=\"1\" class=\"dataframe\">\n",
       "  <thead>\n",
       "    <tr style=\"text-align: right;\">\n",
       "      <th></th>\n",
       "      <th>X_ray_image_name</th>\n",
       "      <th>Label</th>\n",
       "      <th>Dataset_type</th>\n",
       "      <th>Label_2_Virus_category</th>\n",
       "      <th>Label_1_Virus_category</th>\n",
       "      <th>folder</th>\n",
       "    </tr>\n",
       "  </thead>\n",
       "  <tbody>\n",
       "    <tr>\n",
       "      <th>0</th>\n",
       "      <td>IM-0128-0001.jpeg</td>\n",
       "      <td>Normal</td>\n",
       "      <td>TRAIN</td>\n",
       "      <td></td>\n",
       "      <td></td>\n",
       "      <td>Normal</td>\n",
       "    </tr>\n",
       "    <tr>\n",
       "      <th>1</th>\n",
       "      <td>IM-0127-0001.jpeg</td>\n",
       "      <td>Normal</td>\n",
       "      <td>TRAIN</td>\n",
       "      <td></td>\n",
       "      <td></td>\n",
       "      <td>Normal</td>\n",
       "    </tr>\n",
       "    <tr>\n",
       "      <th>2</th>\n",
       "      <td>IM-0125-0001.jpeg</td>\n",
       "      <td>Normal</td>\n",
       "      <td>TRAIN</td>\n",
       "      <td></td>\n",
       "      <td></td>\n",
       "      <td>Normal</td>\n",
       "    </tr>\n",
       "    <tr>\n",
       "      <th>3</th>\n",
       "      <td>IM-0122-0001.jpeg</td>\n",
       "      <td>Normal</td>\n",
       "      <td>TRAIN</td>\n",
       "      <td></td>\n",
       "      <td></td>\n",
       "      <td>Normal</td>\n",
       "    </tr>\n",
       "    <tr>\n",
       "      <th>4</th>\n",
       "      <td>IM-0119-0001.jpeg</td>\n",
       "      <td>Normal</td>\n",
       "      <td>TRAIN</td>\n",
       "      <td></td>\n",
       "      <td></td>\n",
       "      <td>Normal</td>\n",
       "    </tr>\n",
       "  </tbody>\n",
       "</table>\n",
       "</div>"
      ],
      "text/plain": [
       "    X_ray_image_name   Label Dataset_type Label_2_Virus_category  \\\n",
       "0  IM-0128-0001.jpeg  Normal        TRAIN                          \n",
       "1  IM-0127-0001.jpeg  Normal        TRAIN                          \n",
       "2  IM-0125-0001.jpeg  Normal        TRAIN                          \n",
       "3  IM-0122-0001.jpeg  Normal        TRAIN                          \n",
       "4  IM-0119-0001.jpeg  Normal        TRAIN                          \n",
       "\n",
       "  Label_1_Virus_category  folder  \n",
       "0                         Normal  \n",
       "1                         Normal  \n",
       "2                         Normal  \n",
       "3                         Normal  \n",
       "4                         Normal  "
      ]
     },
     "metadata": {},
     "output_type": "display_data"
    }
   ],
   "source": [
    "print(\"Data summary:\")\n",
    "display(data_summary)\n",
    "print(\"Metadata:\")\n",
    "display(metadata.head())"
   ]
  },
  {
   "cell_type": "code",
   "execution_count": null,
   "metadata": {},
   "outputs": [],
   "source": []
  },
  {
   "cell_type": "markdown",
   "metadata": {},
   "source": [
    "In the local PC, a folder is created for each of the classes. This will be later uploaded to the S3 bucket with Cyberduck"
   ]
  },
  {
   "cell_type": "code",
   "execution_count": null,
   "metadata": {},
   "outputs": [],
   "source": [
    "# Create folders to later use ImageFolder from torchvision. Only executed in local machine. \n",
    "\n",
    "os.makedirs(\"data/train/Normal\", exist_ok=True)\n",
    "os.makedirs(\"data/train/Pnemonia-bacteria\", exist_ok=True)\n",
    "os.makedirs(\"data/train/Pnemonia-Virus\", exist_ok=True)\n",
    "os.makedirs(\"data/train/Pnemonia-Virus-COVID-19\", exist_ok=True)"
   ]
  },
  {
   "cell_type": "markdown",
   "metadata": {},
   "source": [
    "Each picture is moved to a folder with the name of its class. The metadata table helps achieve this: "
   ]
  },
  {
   "cell_type": "code",
   "execution_count": null,
   "metadata": {},
   "outputs": [],
   "source": [
    "## First move images to train folder ##\n",
    "\n",
    "# Get images names\n",
    "src_folder = \"data/Coronahack-Chest-XRay-Dataset/train\"\n",
    "dest_folder = \"data/train\" \n",
    "images = [f for f in listdir(src_folder) if isfile(join(src_folder, f))]\n",
    "# Save each image in its corresponding class directory\n",
    "counter = 0\n",
    "for f in tqdm(images):\n",
    "    if metadata.loc[metadata['X_ray_image_name'] == f].shape[0] > 0:\n",
    "        class_folder = metadata.loc[metadata['X_ray_image_name'] == f, 'folder' ].to_list()[0]\n",
    "        shutil.copy(os.path.join(src_folder, f), os.path.join(dest_folder, class_folder))\n",
    "        counter += 1\n",
    "\n",
    "print(\"archives: \", counter)"
   ]
  },
  {
   "cell_type": "code",
   "execution_count": null,
   "metadata": {},
   "outputs": [],
   "source": [
    "## Second, move images to test folder ##\n",
    "\n",
    "# Get images names\n",
    "src_folder = \"data/Coronahack-Chest-XRay-Dataset/test\"\n",
    "dest_folder = \"data/test\" \n",
    "images = [f for f in listdir(src_folder) if isfile(join(src_folder, f))]\n",
    "# Save each image in its corresponding class directory\n",
    "counter = 0\n",
    "for f in tqdm(images):\n",
    "    if metadata.loc[metadata['X_ray_image_name'] == f].shape[0] > 0:\n",
    "        class_folder = metadata.loc[metadata['X_ray_image_name'] == f, 'folder' ].to_list()[0]\n",
    "        shutil.copy(os.path.join(src_folder, f), os.path.join(dest_folder, class_folder))\n",
    "        counter += 1\n",
    "\n",
    "print(\"archives: \", counter)"
   ]
  },
  {
   "cell_type": "code",
   "execution_count": 14,
   "metadata": {},
   "outputs": [],
   "source": [
    "# Compose transforms to explore the testing data. The training data is too large to store in the AWS notebook instance. \n",
    "\n",
    "batch_size = 10\n",
    "\n",
    "editions = transforms.Compose([transforms.Resize(224),\n",
    "                               transforms.CenterCrop(224),\n",
    "                               transforms.ToTensor(),\n",
    "                               transforms.Normalize((0.5, 0.5, 0.5), (0.5, 0.5, 0.5))                              \n",
    "                              ])\n",
    "test_data =  datasets.ImageFolder('data/test', transform=editions) # create the ImageFolder\n",
    "test_loader = torch.utils.data.DataLoader(test_data, batch_size=batch_size) "
   ]
  },
  {
   "cell_type": "code",
   "execution_count": 16,
   "metadata": {},
   "outputs": [
    {
     "data": {
      "image/png": "[encoded data removed]",
      "text/plain": [
       "<Figure size 720x288 with 2 Axes>"
      ]
     },
     "metadata": {},
     "output_type": "display_data"
    }
   ],
   "source": [
    "# change this to the trainloader or testloader \n",
    "data_iter = iter(test_loader)\n",
    "\n",
    "images, labels = next(data_iter)\n",
    "fig, axes = plt.subplots(figsize=(10,4), ncols=2)\n",
    "for ii in range(2):\n",
    "    ax = axes[ii]\n",
    "    helper.imshow(images[ii], ax=ax)"
   ]
  },
  {
   "cell_type": "markdown",
   "metadata": {},
   "source": [
    "# Data augmentation\n",
    "\n",
    "The data augmentation is carried out on the local pc with the albumentations package. https://albumentations-demo.herokuapp.com/ is an excelent website to see what each of the composes is doing.\n",
    "Since there are only 58 images in the covid xrays, 8 are taken to the dataset, leaving 50 for training."
   ]
  },
  {
   "cell_type": "code",
   "execution_count": null,
   "metadata": {},
   "outputs": [],
   "source": [
    "doc_aug = A.Compose([\n",
    "                    A.HorizontalFlip(p=0.5),\n",
    "                    A.RandomGamma(gamma_limit=(20, 300), p=0.5),\n",
    "                    A.Blur(always_apply=False, p=1.0, blur_limit=(3, 7)),\n",
    "                    A.RandomBrightnessContrast(p=0.85),\n",
    "                    A.Rotate(limit=4, p=0.9),\n",
    "                    A.GaussNoise(p=0.25),\n",
    "                    A.HueSaturationValue(p=0.5, hue_shift_limit=(-20, 20), sat_shift_limit=(-30, 30), val_shift_limit=(-20, 20))\n",
    "                    ])"
   ]
  },
  {
   "cell_type": "code",
   "execution_count": null,
   "metadata": {},
   "outputs": [],
   "source": [
    "# Augmentate training Pnemonia-Virus-COVID-19 images\n",
    "\n",
    "src_folder = \"data/train/Pnemonia-Virus-COVID-19\"\n",
    "DATASET_PATH = 'data/augmented'\n",
    "IMAGES_PATH = f'{DATASET_PATH}/Pnemonia-Virus-COVID-19'\n",
    "os.makedirs(DATASET_PATH, exist_ok=True)\n",
    "os.makedirs(IMAGES_PATH, exist_ok=True)\n",
    "images = [f for f in listdir(src_folder) if isfile(join(src_folder, f))] # get images names\n",
    "\n",
    "for i in trange(50): # Augmentate 50 test images from covid. \n",
    "    xray = cv2.imread( os.path.join(\"data/train/Pnemonia-Virus-COVID-19\", images[i]) )\n",
    "    for k in range(25): # 25 augmentations per image will produce enough pictures to balance the training dataset. \n",
    "        augmented = doc_aug(image=xray)\n",
    "        file_name = f'foto_aug_{i}_{k}.jpg'\n",
    "        cv2.imwrite(f'{IMAGES_PATH}/{file_name}', augmented['image'])"
   ]
  },
  {
   "cell_type": "code",
   "execution_count": null,
   "metadata": {},
   "outputs": [],
   "source": [
    "# Augmentate test Pnemonia-Virus-COVID-19 images\n",
    "\n",
    "src_folder = \"data/test/Pnemonia-Virus-COVID-19\"\n",
    "DATASET_PATH = 'data/augmented/test'\n",
    "IMAGES_PATH = f'{DATASET_PATH}/Pnemonia-Virus-COVID-19'\n",
    "os.makedirs(DATASET_PATH, exist_ok=True)\n",
    "os.makedirs(IMAGES_PATH, exist_ok=True)\n",
    "images = [f for f in listdir(src_folder) if isfile(join(src_folder, f))] # get images names\n",
    "\n",
    "for i in trange(8): # Augmentate 8 test images from covid. \n",
    "    xray = cv2.imread( os.path.join(src_folder, images[i]) )\n",
    "    for k in range(25): # 25 augmentations per image will produce enough pictures to balance the test dataset. \n",
    "        augmented = doc_aug(image=xray)\n",
    "        file_name = f'foto_aug_{i}_{k}.jpg'\n",
    "        cv2.imwrite(f'{IMAGES_PATH}/{file_name}', augmented['image'])"
   ]
  },
  {
   "cell_type": "markdown",
   "metadata": {},
   "source": [
    "# CNN with transfer learning\n",
    "\n",
    "After uploading the data to the S3 bucket and the test dataset to the notebook instance, the model convolutional neural network is created. "
   ]
  },
  {
   "cell_type": "code",
   "execution_count": 6,
   "metadata": {},
   "outputs": [],
   "source": [
    "# sagemaker session, role\n",
    "sagemaker_session = sagemaker.Session()\n",
    "role = sagemaker.get_execution_role()\n",
    "\n",
    "# S3 bucket name\n",
    "bucket = 'sagemaker-us-east-1-737841296628'\n",
    "\n",
    "# Path to training data\n",
    "train_url = 's3://{}/{}/{}'.format(bucket, 'data', 'train')\n",
    "# train_url = 's3://{}/{}'.format(bucket, 'Testing')\n",
    "# Path to testing data\n",
    "# test_url = 's3://{}/{}/{}'.format(bucket, 'data', 'test')\n",
    "# test_url = 's3://{}/{}'.format(bucket, 'Testing')\n",
    "\n",
    "# Output path\n",
    "prefix_out = \"xray_model_output\"\n",
    "output_path = 's3://{}/{}'.format(bucket, prefix_out)"
   ]
  },
  {
   "cell_type": "code",
   "execution_count": 71,
   "metadata": {},
   "outputs": [],
   "source": [
    "# instantiate a pytorch estimator\n",
    "from sagemaker.pytorch import PyTorch\n",
    "\n",
    "model_name = 'CNN_lr_0001'\n",
    "cnn_estimator = PyTorch(entry_point='train.py',\n",
    "                    source_dir='CNN', \n",
    "                    role=role,\n",
    "                    framework_version='1.0',\n",
    "                    train_instance_count=1,\n",
    "                    train_instance_type='ml.p2.xlarge',\n",
    "                    output_path=output_path,\n",
    "                    sagemaker_session=sagemaker_session,\n",
    "                    hyperparameters={\n",
    "#                         'n_inputs': ,  # input features. Will use default value. \n",
    "                        'epochs': 10, # could change to higher\n",
    "                        'n_classes': 4, # output classifications\n",
    "                        'freeze_all': 'True', # Freeze training for all \"features\" layers\n",
    "                        'model_name': model_name,\n",
    "                        'lr':0.001\n",
    "                    })"
   ]
  },
  {
   "cell_type": "code",
   "execution_count": null,
   "metadata": {
    "scrolled": true
   },
   "outputs": [
    {
     "name": "stdout",
     "output_type": "stream",
     "text": [
      "2020-06-23 22:30:04 Starting - Starting the training job...\n",
      "2020-06-23 22:30:06 Starting - Launching requested ML instances............\n",
      "2020-06-23 22:32:28 Starting - Preparing the instances for training.........\n",
      "2020-06-23 22:33:43 Downloading - Downloading input data...............\n",
      "2020-06-23 22:36:34 Training - Training image download completed. Training in progress..\u001b[34mbash: cannot set terminal process group (-1): Inappropriate ioctl for device\u001b[0m\n",
      "\u001b[34mbash: no job control in this shell\u001b[0m\n",
      "\u001b[34m2020-06-23 22:36:36,188 sagemaker-containers INFO     Imported framework sagemaker_pytorch_container.training\u001b[0m\n",
      "\u001b[34m2020-06-23 22:36:36,215 sagemaker_pytorch_container.training INFO     Block until all host DNS lookups succeed.\u001b[0m\n",
      "\u001b[34m2020-06-23 22:36:36,216 sagemaker_pytorch_container.training INFO     Invoking user training script.\u001b[0m\n",
      "\u001b[34m2020-06-23 22:36:36,447 sagemaker-containers INFO     Module train does not provide a setup.py. \u001b[0m\n",
      "\u001b[34mGenerating setup.py\u001b[0m\n",
      "\u001b[34m2020-06-23 22:36:36,447 sagemaker-containers INFO     Generating setup.cfg\u001b[0m\n",
      "\u001b[34m2020-06-23 22:36:36,448 sagemaker-containers INFO     Generating MANIFEST.in\u001b[0m\n",
      "\u001b[34m2020-06-23 22:36:36,448 sagemaker-containers INFO     Installing module with the following command:\u001b[0m\n",
      "\u001b[34m/usr/bin/python -m pip install -U . \u001b[0m\n",
      "\u001b[34mProcessing /opt/ml/code\u001b[0m\n",
      "\u001b[34mBuilding wheels for collected packages: train\n",
      "  Running setup.py bdist_wheel for train: started\n",
      "  Running setup.py bdist_wheel for train: finished with status 'done'\n",
      "  Stored in directory: /tmp/pip-ephem-wheel-cache-7ner2pzw/wheels/35/24/16/37574d11bf9bde50616c67372a334f94fa8356bc7164af8ca3\u001b[0m\n",
      "\u001b[34mSuccessfully built train\u001b[0m\n",
      "\u001b[34mInstalling collected packages: train\u001b[0m\n",
      "\u001b[34mSuccessfully installed train-1.0.0\u001b[0m\n",
      "\u001b[34mYou are using pip version 18.1, however version 20.2b1 is available.\u001b[0m\n",
      "\u001b[34mYou should consider upgrading via the 'pip install --upgrade pip' command.\u001b[0m\n",
      "\u001b[34m2020-06-23 22:36:38,383 sagemaker-containers INFO     Invoking user script\n",
      "\u001b[0m\n",
      "\u001b[34mTraining Env:\n",
      "\u001b[0m\n",
      "\u001b[34m{\n",
      "    \"additional_framework_parameters\": {},\n",
      "    \"channel_input_dirs\": {\n",
      "        \"training\": \"/opt/ml/input/data/training\"\n",
      "    },\n",
      "    \"current_host\": \"algo-1\",\n",
      "    \"framework_module\": \"sagemaker_pytorch_container.training:main\",\n",
      "    \"hosts\": [\n",
      "        \"algo-1\"\n",
      "    ],\n",
      "    \"hyperparameters\": {\n",
      "        \"model_name\": \"CNN_lr_0001\",\n",
      "        \"lr\": 0.001,\n",
      "        \"freeze_all\": \"True\",\n",
      "        \"epochs\": 10,\n",
      "        \"n_classes\": 4\n",
      "    },\n",
      "    \"input_config_dir\": \"/opt/ml/input/config\",\n",
      "    \"input_data_config\": {\n",
      "        \"training\": {\n",
      "            \"TrainingInputMode\": \"File\",\n",
      "            \"S3DistributionType\": \"FullyReplicated\",\n",
      "            \"RecordWrapperType\": \"None\"\n",
      "        }\n",
      "    },\n",
      "    \"input_dir\": \"/opt/ml/input\",\n",
      "    \"is_master\": true,\n",
      "    \"job_name\": \"sagemaker-pytorch-2020-06-23-22-30-03-882\",\n",
      "    \"log_level\": 20,\n",
      "    \"master_hostname\": \"algo-1\",\n",
      "    \"model_dir\": \"/opt/ml/model\",\n",
      "    \"module_dir\": \"s3://sagemaker-us-east-1-737841296628/sagemaker-pytorch-2020-06-23-22-30-03-882/source/sourcedir.tar.gz\",\n",
      "    \"module_name\": \"train\",\n",
      "    \"network_interface_name\": \"eth0\",\n",
      "    \"num_cpus\": 4,\n",
      "    \"num_gpus\": 1,\n",
      "    \"output_data_dir\": \"/opt/ml/output/data\",\n",
      "    \"output_dir\": \"/opt/ml/output\",\n",
      "    \"output_intermediate_dir\": \"/opt/ml/output/intermediate\",\n",
      "    \"resource_config\": {\n",
      "        \"current_host\": \"algo-1\",\n",
      "        \"hosts\": [\n",
      "            \"algo-1\"\n",
      "        ],\n",
      "        \"network_interface_name\": \"eth0\"\n",
      "    },\n",
      "    \"user_entry_point\": \"train.py\"\u001b[0m\n",
      "\u001b[34m}\n",
      "\u001b[0m\n",
      "\u001b[34mEnvironment variables:\n",
      "\u001b[0m\n",
      "\u001b[34mSM_HOSTS=[\"algo-1\"]\u001b[0m\n",
      "\u001b[34mSM_NETWORK_INTERFACE_NAME=eth0\u001b[0m\n",
      "\u001b[34mSM_HPS={\"epochs\":10,\"freeze_all\":\"True\",\"lr\":0.001,\"model_name\":\"CNN_lr_0001\",\"n_classes\":4}\u001b[0m\n",
      "\u001b[34mSM_USER_ENTRY_POINT=train.py\u001b[0m\n",
      "\u001b[34mSM_FRAMEWORK_PARAMS={}\u001b[0m\n",
      "\u001b[34mSM_RESOURCE_CONFIG={\"current_host\":\"algo-1\",\"hosts\":[\"algo-1\"],\"network_interface_name\":\"eth0\"}\u001b[0m\n",
      "\u001b[34mSM_INPUT_DATA_CONFIG={\"training\":{\"RecordWrapperType\":\"None\",\"S3DistributionType\":\"FullyReplicated\",\"TrainingInputMode\":\"File\"}}\u001b[0m\n",
      "\u001b[34mSM_OUTPUT_DATA_DIR=/opt/ml/output/data\u001b[0m\n",
      "\u001b[34mSM_CHANNELS=[\"training\"]\u001b[0m\n",
      "\u001b[34mSM_CURRENT_HOST=algo-1\u001b[0m\n",
      "\u001b[34mSM_MODULE_NAME=train\u001b[0m\n",
      "\u001b[34mSM_LOG_LEVEL=20\u001b[0m\n",
      "\u001b[34mSM_FRAMEWORK_MODULE=sagemaker_pytorch_container.training:main\u001b[0m\n",
      "\u001b[34mSM_INPUT_DIR=/opt/ml/input\u001b[0m\n",
      "\u001b[34mSM_INPUT_CONFIG_DIR=/opt/ml/input/config\u001b[0m\n",
      "\u001b[34mSM_OUTPUT_DIR=/opt/ml/output\u001b[0m\n",
      "\u001b[34mSM_NUM_CPUS=4\u001b[0m\n",
      "\u001b[34mSM_NUM_GPUS=1\u001b[0m\n",
      "\u001b[34mSM_MODEL_DIR=/opt/ml/model\u001b[0m\n",
      "\u001b[34mSM_MODULE_DIR=s3://sagemaker-us-east-1-737841296628/sagemaker-pytorch-2020-06-23-22-30-03-882/source/sourcedir.tar.gz\u001b[0m\n",
      "\u001b[34mSM_TRAINING_ENV={\"additional_framework_parameters\":{},\"channel_input_dirs\":{\"training\":\"/opt/ml/input/data/training\"},\"current_host\":\"algo-1\",\"framework_module\":\"sagemaker_pytorch_container.training:main\",\"hosts\":[\"algo-1\"],\"hyperparameters\":{\"epochs\":10,\"freeze_all\":\"True\",\"lr\":0.001,\"model_name\":\"CNN_lr_0001\",\"n_classes\":4},\"input_config_dir\":\"/opt/ml/input/config\",\"input_data_config\":{\"training\":{\"RecordWrapperType\":\"None\",\"S3DistributionType\":\"FullyReplicated\",\"TrainingInputMode\":\"File\"}},\"input_dir\":\"/opt/ml/input\",\"is_master\":true,\"job_name\":\"sagemaker-pytorch-2020-06-23-22-30-03-882\",\"log_level\":20,\"master_hostname\":\"algo-1\",\"model_dir\":\"/opt/ml/model\",\"module_dir\":\"s3://sagemaker-us-east-1-737841296628/sagemaker-pytorch-2020-06-23-22-30-03-882/source/sourcedir.tar.gz\",\"module_name\":\"train\",\"network_interface_name\":\"eth0\",\"num_cpus\":4,\"num_gpus\":1,\"output_data_dir\":\"/opt/ml/output/data\",\"output_dir\":\"/opt/ml/output\",\"output_intermediate_dir\":\"/opt/ml/output/intermediate\",\"resource_config\":{\"current_host\":\"algo-1\",\"hosts\":[\"algo-1\"],\"network_interface_name\":\"eth0\"},\"user_entry_point\":\"train.py\"}\u001b[0m\n",
      "\u001b[34mSM_USER_ARGS=[\"--epochs\",\"10\",\"--freeze_all\",\"True\",\"--lr\",\"0.001\",\"--model_name\",\"CNN_lr_0001\",\"--n_classes\",\"4\"]\u001b[0m\n",
      "\u001b[34mSM_OUTPUT_INTERMEDIATE_DIR=/opt/ml/output/intermediate\u001b[0m\n",
      "\u001b[34mSM_CHANNEL_TRAINING=/opt/ml/input/data/training\u001b[0m\n",
      "\u001b[34mSM_HP_MODEL_NAME=CNN_lr_0001\u001b[0m\n",
      "\u001b[34mSM_HP_LR=0.001\u001b[0m\n",
      "\u001b[34mSM_HP_FREEZE_ALL=True\u001b[0m\n",
      "\u001b[34mSM_HP_EPOCHS=10\u001b[0m\n",
      "\u001b[34mSM_HP_N_CLASSES=4\u001b[0m\n",
      "\u001b[34mPYTHONPATH=/usr/local/bin:/usr/lib/python36.zip:/usr/lib/python3.6:/usr/lib/python3.6/lib-dynload:/usr/local/lib/python3.6/dist-packages:/usr/lib/python3/dist-packages\n",
      "\u001b[0m\n",
      "\u001b[34mInvoking script with the following command:\n",
      "\u001b[0m\n",
      "\u001b[34m/usr/bin/python -m train --epochs 10 --freeze_all True --lr 0.001 --model_name CNN_lr_0001 --n_classes 4\n",
      "\n",
      "\u001b[0m\n",
      "\u001b[34mGet data loader.\u001b[0m\n",
      "\u001b[34mClasses and their index:\u001b[0m\n",
      "\u001b[34m{'Normal': 0, 'Pnemonia-Virus': 1, 'Pnemonia-Virus-COVID-19': 2, 'Pnemonia-bacteria': 3}\u001b[0m\n",
      "\u001b[34mNum of batches in train data:  279\u001b[0m\n",
      "\u001b[34mNum of batches in validation data:  50\u001b[0m\n",
      "\u001b[34mFreezing training for all \"features\" layers\u001b[0m\n",
      "\u001b[34mLearning rate: 0.001\u001b[0m\n",
      "\u001b[34mStarting training with 10 epochs\u001b[0m\n",
      "\u001b[34mEpoch: 1/10..  Training Loss: 0.875..  Validation Loss: 0.649..  Test Accuracy: 0.777\u001b[0m\n",
      "\u001b[34mValidation loss decreased (inf --> 0.648656).  Saving model ...\u001b[0m\n",
      "\u001b[34mSaving the model.\u001b[0m\n",
      "\u001b[34mEpoch: 2/10..  Training Loss: 0.625..  Validation Loss: 0.551..  Test Accuracy: 0.780\u001b[0m\n",
      "\u001b[34mValidation loss decreased (0.648656 --> 0.551017).  Saving model ...\u001b[0m\n",
      "\u001b[34mSaving the model.\u001b[0m\n",
      "\u001b[34mEpoch: 3/10..  Training Loss: 0.545..  Validation Loss: 0.480..  Test Accuracy: 0.817\u001b[0m\n",
      "\u001b[34mValidation loss decreased (0.551017 --> 0.480481).  Saving model ...\u001b[0m\n",
      "\u001b[34mSaving the model.\u001b[0m\n"
     ]
    }
   ],
   "source": [
    "cnn_estimator.fit({'training': train_url})\n",
    "Audio(sound_file, autoplay=True)"
   ]
  },
  {
   "cell_type": "markdown",
   "metadata": {},
   "source": [
    "# try with smaller validation size"
   ]
  },
  {
   "cell_type": "markdown",
   "metadata": {},
   "source": [
    "## Testing\n",
    "We create a custom script to run the predictions, but use the data from the notebook instance instead of the S3 bucket. "
   ]
  },
  {
   "cell_type": "code",
   "execution_count": 73,
   "metadata": {},
   "outputs": [
    {
     "data": {
      "text/plain": [
       "'s3://sagemaker-us-east-1-737841296628/xray_model_output/sagemaker-pytorch-2020-06-23-22-30-03-882/output/model.tar.gz'"
      ]
     },
     "execution_count": 73,
     "metadata": {},
     "output_type": "execute_result"
    }
   ],
   "source": [
    "# It is important to know the uri from the trained model to later on deploy it. \n",
    "cnn_estimator.model_data"
   ]
  },
  {
   "cell_type": "code",
   "execution_count": 74,
   "metadata": {},
   "outputs": [],
   "source": [
    "# uri from the CNN trained model\n",
    "CNN_freeze_all_features = 's3://sagemaker-us-east-1-737841296628/xray_model_output/sagemaker-pytorch-2020-06-23-11-27-23-493/output/model.tar.gz'\n",
    "CNN_unfreeze_all_features = 's3://sagemaker-us-east-1-737841296628/xray_model_output/sagemaker-pytorch-2020-06-23-14-26-25-447/output/model.tar.gz'\n",
    "CNN_lr_01 = 's3://sagemaker-us-east-1-737841296628/xray_model_output/sagemaker-pytorch-2020-06-23-19-44-17-036/output/model.tar.gz'\n",
    "CNN_lr_0001 = 's3://sagemaker-us-east-1-737841296628/xray_model_output/sagemaker-pytorch-2020-06-23-22-30-03-882/output/model.tar.gz'"
   ]
  },
  {
   "cell_type": "code",
   "execution_count": 75,
   "metadata": {},
   "outputs": [],
   "source": [
    "# Extract the summary from the model output.\n",
    "data_dir = 'model_data'\n",
    "os.makedirs(data_dir, exist_ok=True)\n",
    "summary = 'xray_model_output/{}/output/output.tar.gz'.format(cnn_estimator.latest_training_job.name)\n",
    "sagemaker_session.download_data(path=data_dir, bucket=bucket, key_prefix=summary)\n",
    "!tar --extract --file model_data/output.tar.gz -C model_data"
   ]
  },
  {
   "cell_type": "code",
   "execution_count": 76,
   "metadata": {},
   "outputs": [],
   "source": [
    "stats_df = pd.read_csv(os.path.join(data_dir,model_name + \"_summary.csv\"))\n",
    "stats_df = stats_df.drop(columns=['Unnamed: 0'])"
   ]
  },
  {
   "cell_type": "code",
   "execution_count": 79,
   "metadata": {},
   "outputs": [
    {
     "data": {
      "text/html": [
       "<div>\n",
       "<style scoped>\n",
       "    .dataframe tbody tr th:only-of-type {\n",
       "        vertical-align: middle;\n",
       "    }\n",
       "\n",
       "    .dataframe tbody tr th {\n",
       "        vertical-align: top;\n",
       "    }\n",
       "\n",
       "    .dataframe thead th {\n",
       "        text-align: right;\n",
       "    }\n",
       "</style>\n",
       "<table border=\"1\" class=\"dataframe\">\n",
       "  <thead>\n",
       "    <tr style=\"text-align: right;\">\n",
       "      <th></th>\n",
       "      <th>epoch</th>\n",
       "      <th>train_loss</th>\n",
       "      <th>valid_loss</th>\n",
       "    </tr>\n",
       "  </thead>\n",
       "  <tbody>\n",
       "    <tr>\n",
       "      <th>0</th>\n",
       "      <td>1</td>\n",
       "      <td>0.875308</td>\n",
       "      <td>0.648656</td>\n",
       "    </tr>\n",
       "    <tr>\n",
       "      <th>1</th>\n",
       "      <td>2</td>\n",
       "      <td>0.625243</td>\n",
       "      <td>0.551017</td>\n",
       "    </tr>\n",
       "    <tr>\n",
       "      <th>2</th>\n",
       "      <td>3</td>\n",
       "      <td>0.544941</td>\n",
       "      <td>0.480481</td>\n",
       "    </tr>\n",
       "    <tr>\n",
       "      <th>3</th>\n",
       "      <td>4</td>\n",
       "      <td>0.499844</td>\n",
       "      <td>0.456159</td>\n",
       "    </tr>\n",
       "    <tr>\n",
       "      <th>4</th>\n",
       "      <td>5</td>\n",
       "      <td>0.477628</td>\n",
       "      <td>0.435278</td>\n",
       "    </tr>\n",
       "    <tr>\n",
       "      <th>5</th>\n",
       "      <td>6</td>\n",
       "      <td>0.450930</td>\n",
       "      <td>0.413640</td>\n",
       "    </tr>\n",
       "    <tr>\n",
       "      <th>6</th>\n",
       "      <td>7</td>\n",
       "      <td>0.428965</td>\n",
       "      <td>0.405502</td>\n",
       "    </tr>\n",
       "    <tr>\n",
       "      <th>7</th>\n",
       "      <td>8</td>\n",
       "      <td>0.408036</td>\n",
       "      <td>0.395885</td>\n",
       "    </tr>\n",
       "    <tr>\n",
       "      <th>8</th>\n",
       "      <td>9</td>\n",
       "      <td>0.404858</td>\n",
       "      <td>0.384118</td>\n",
       "    </tr>\n",
       "    <tr>\n",
       "      <th>9</th>\n",
       "      <td>10</td>\n",
       "      <td>0.388412</td>\n",
       "      <td>0.369755</td>\n",
       "    </tr>\n",
       "  </tbody>\n",
       "</table>\n",
       "</div>"
      ],
      "text/plain": [
       "   epoch  train_loss  valid_loss\n",
       "0      1    0.875308    0.648656\n",
       "1      2    0.625243    0.551017\n",
       "2      3    0.544941    0.480481\n",
       "3      4    0.499844    0.456159\n",
       "4      5    0.477628    0.435278\n",
       "5      6    0.450930    0.413640\n",
       "6      7    0.428965    0.405502\n",
       "7      8    0.408036    0.395885\n",
       "8      9    0.404858    0.384118\n",
       "9     10    0.388412    0.369755"
      ]
     },
     "execution_count": 79,
     "metadata": {},
     "output_type": "execute_result"
    }
   ],
   "source": [
    "stats_df"
   ]
  },
  {
   "cell_type": "code",
   "execution_count": 80,
   "metadata": {},
   "outputs": [
    {
     "data": {
      "application/vnd.plotly.v1+json": {
       "config": {
        "linkText": "Export to plot.ly",
        "plotlyServerURL": "https://plot.ly",
        "showLink": true
       },
       "data": [
        {
         "line": {
          "color": "rgba(255, 153, 51, 1.0)",
          "dash": "solid",
          "shape": "linear",
          "width": 1.3
         },
         "mode": "lines",
         "name": "train_loss",
         "text": "",
         "type": "scatter",
         "x": [
          1,
          2,
          3,
          4,
          5,
          6,
          7,
          8,
          9,
          10
         ],
         "y": [
          0.8753079385123375,
          0.6252428638666437,
          0.5449413474010558,
          0.4998441727182258,
          0.4776284109585113,
          0.4509295196791296,
          0.4289652544268713,
          0.40803573609454336,
          0.4048579257758079,
          0.3884124630054079
         ]
        },
        {
         "line": {
          "color": "rgba(55, 128, 191, 1.0)",
          "dash": "solid",
          "shape": "linear",
          "width": 1.3
         },
         "mode": "lines",
         "name": "valid_loss",
         "text": "",
         "type": "scatter",
         "x": [
          1,
          2,
          3,
          4,
          5,
          6,
          7,
          8,
          9,
          10
         ],
         "y": [
          0.6486561325463381,
          0.5510168795515911,
          0.4804809293546877,
          0.4561590199741829,
          0.4352777760383512,
          0.4136397434091841,
          0.40550165760312495,
          0.3958846739122084,
          0.3841179320938028,
          0.3697547623479132
         ]
        }
       ],
       "layout": {
        "legend": {
         "bgcolor": "#FFFFFF",
         "font": {
          "color": "#4D5663"
         }
        },
        "paper_bgcolor": "#FFFFFF",
        "plot_bgcolor": "#FFFFFF",
        "template": {
         "data": {
          "bar": [
           {
            "error_x": {
             "color": "#2a3f5f"
            },
            "error_y": {
             "color": "#2a3f5f"
            },
            "marker": {
             "line": {
              "color": "#E5ECF6",
              "width": 0.5
             }
            },
            "type": "bar"
           }
          ],
          "barpolar": [
           {
            "marker": {
             "line": {
              "color": "#E5ECF6",
              "width": 0.5
             }
            },
            "type": "barpolar"
           }
          ],
          "carpet": [
           {
            "aaxis": {
             "endlinecolor": "#2a3f5f",
             "gridcolor": "white",
             "linecolor": "white",
             "minorgridcolor": "white",
             "startlinecolor": "#2a3f5f"
            },
            "baxis": {
             "endlinecolor": "#2a3f5f",
             "gridcolor": "white",
             "linecolor": "white",
             "minorgridcolor": "white",
             "startlinecolor": "#2a3f5f"
            },
            "type": "carpet"
           }
          ],
          "choropleth": [
           {
            "colorbar": {
             "outlinewidth": 0,
             "ticks": ""
            },
            "type": "choropleth"
           }
          ],
          "contour": [
           {
            "colorbar": {
             "outlinewidth": 0,
             "ticks": ""
            },
            "colorscale": [
             [
              0,
              "#0d0887"
             ],
             [
              0.1111111111111111,
              "#46039f"
             ],
             [
              0.2222222222222222,
              "#7201a8"
             ],
             [
              0.3333333333333333,
              "#9c179e"
             ],
             [
              0.4444444444444444,
              "#bd3786"
             ],
             [
              0.5555555555555556,
              "#d8576b"
             ],
             [
              0.6666666666666666,
              "#ed7953"
             ],
             [
              0.7777777777777778,
              "#fb9f3a"
             ],
             [
              0.8888888888888888,
              "#fdca26"
             ],
             [
              1,
              "#f0f921"
             ]
            ],
            "type": "contour"
           }
          ],
          "contourcarpet": [
           {
            "colorbar": {
             "outlinewidth": 0,
             "ticks": ""
            },
            "type": "contourcarpet"
           }
          ],
          "heatmap": [
           {
            "colorbar": {
             "outlinewidth": 0,
             "ticks": ""
            },
            "colorscale": [
             [
              0,
              "#0d0887"
             ],
             [
              0.1111111111111111,
              "#46039f"
             ],
             [
              0.2222222222222222,
              "#7201a8"
             ],
             [
              0.3333333333333333,
              "#9c179e"
             ],
             [
              0.4444444444444444,
              "#bd3786"
             ],
             [
              0.5555555555555556,
              "#d8576b"
             ],
             [
              0.6666666666666666,
              "#ed7953"
             ],
             [
              0.7777777777777778,
              "#fb9f3a"
             ],
             [
              0.8888888888888888,
              "#fdca26"
             ],
             [
              1,
              "#f0f921"
             ]
            ],
            "type": "heatmap"
           }
          ],
          "heatmapgl": [
           {
            "colorbar": {
             "outlinewidth": 0,
             "ticks": ""
            },
            "colorscale": [
             [
              0,
              "#0d0887"
             ],
             [
              0.1111111111111111,
              "#46039f"
             ],
             [
              0.2222222222222222,
              "#7201a8"
             ],
             [
              0.3333333333333333,
              "#9c179e"
             ],
             [
              0.4444444444444444,
              "#bd3786"
             ],
             [
              0.5555555555555556,
              "#d8576b"
             ],
             [
              0.6666666666666666,
              "#ed7953"
             ],
             [
              0.7777777777777778,
              "#fb9f3a"
             ],
             [
              0.8888888888888888,
              "#fdca26"
             ],
             [
              1,
              "#f0f921"
             ]
            ],
            "type": "heatmapgl"
           }
          ],
          "histogram": [
           {
            "marker": {
             "colorbar": {
              "outlinewidth": 0,
              "ticks": ""
             }
            },
            "type": "histogram"
           }
          ],
          "histogram2d": [
           {
            "colorbar": {
             "outlinewidth": 0,
             "ticks": ""
            },
            "colorscale": [
             [
              0,
              "#0d0887"
             ],
             [
              0.1111111111111111,
              "#46039f"
             ],
             [
              0.2222222222222222,
              "#7201a8"
             ],
             [
              0.3333333333333333,
              "#9c179e"
             ],
             [
              0.4444444444444444,
              "#bd3786"
             ],
             [
              0.5555555555555556,
              "#d8576b"
             ],
             [
              0.6666666666666666,
              "#ed7953"
             ],
             [
              0.7777777777777778,
              "#fb9f3a"
             ],
             [
              0.8888888888888888,
              "#fdca26"
             ],
             [
              1,
              "#f0f921"
             ]
            ],
            "type": "histogram2d"
           }
          ],
          "histogram2dcontour": [
           {
            "colorbar": {
             "outlinewidth": 0,
             "ticks": ""
            },
            "colorscale": [
             [
              0,
              "#0d0887"
             ],
             [
              0.1111111111111111,
              "#46039f"
             ],
             [
              0.2222222222222222,
              "#7201a8"
             ],
             [
              0.3333333333333333,
              "#9c179e"
             ],
             [
              0.4444444444444444,
              "#bd3786"
             ],
             [
              0.5555555555555556,
              "#d8576b"
             ],
             [
              0.6666666666666666,
              "#ed7953"
             ],
             [
              0.7777777777777778,
              "#fb9f3a"
             ],
             [
              0.8888888888888888,
              "#fdca26"
             ],
             [
              1,
              "#f0f921"
             ]
            ],
            "type": "histogram2dcontour"
           }
          ],
          "mesh3d": [
           {
            "colorbar": {
             "outlinewidth": 0,
             "ticks": ""
            },
            "type": "mesh3d"
           }
          ],
          "parcoords": [
           {
            "line": {
             "colorbar": {
              "outlinewidth": 0,
              "ticks": ""
             }
            },
            "type": "parcoords"
           }
          ],
          "pie": [
           {
            "automargin": true,
            "type": "pie"
           }
          ],
          "scatter": [
           {
            "marker": {
             "colorbar": {
              "outlinewidth": 0,
              "ticks": ""
             }
            },
            "type": "scatter"
           }
          ],
          "scatter3d": [
           {
            "line": {
             "colorbar": {
              "outlinewidth": 0,
              "ticks": ""
             }
            },
            "marker": {
             "colorbar": {
              "outlinewidth": 0,
              "ticks": ""
             }
            },
            "type": "scatter3d"
           }
          ],
          "scattercarpet": [
           {
            "marker": {
             "colorbar": {
              "outlinewidth": 0,
              "ticks": ""
             }
            },
            "type": "scattercarpet"
           }
          ],
          "scattergeo": [
           {
            "marker": {
             "colorbar": {
              "outlinewidth": 0,
              "ticks": ""
             }
            },
            "type": "scattergeo"
           }
          ],
          "scattergl": [
           {
            "marker": {
             "colorbar": {
              "outlinewidth": 0,
              "ticks": ""
             }
            },
            "type": "scattergl"
           }
          ],
          "scattermapbox": [
           {
            "marker": {
             "colorbar": {
              "outlinewidth": 0,
              "ticks": ""
             }
            },
            "type": "scattermapbox"
           }
          ],
          "scatterpolar": [
           {
            "marker": {
             "colorbar": {
              "outlinewidth": 0,
              "ticks": ""
             }
            },
            "type": "scatterpolar"
           }
          ],
          "scatterpolargl": [
           {
            "marker": {
             "colorbar": {
              "outlinewidth": 0,
              "ticks": ""
             }
            },
            "type": "scatterpolargl"
           }
          ],
          "scatterternary": [
           {
            "marker": {
             "colorbar": {
              "outlinewidth": 0,
              "ticks": ""
             }
            },
            "type": "scatterternary"
           }
          ],
          "surface": [
           {
            "colorbar": {
             "outlinewidth": 0,
             "ticks": ""
            },
            "colorscale": [
             [
              0,
              "#0d0887"
             ],
             [
              0.1111111111111111,
              "#46039f"
             ],
             [
              0.2222222222222222,
              "#7201a8"
             ],
             [
              0.3333333333333333,
              "#9c179e"
             ],
             [
              0.4444444444444444,
              "#bd3786"
             ],
             [
              0.5555555555555556,
              "#d8576b"
             ],
             [
              0.6666666666666666,
              "#ed7953"
             ],
             [
              0.7777777777777778,
              "#fb9f3a"
             ],
             [
              0.8888888888888888,
              "#fdca26"
             ],
             [
              1,
              "#f0f921"
             ]
            ],
            "type": "surface"
           }
          ],
          "table": [
           {
            "cells": {
             "fill": {
              "color": "#EBF0F8"
             },
             "line": {
              "color": "white"
             }
            },
            "header": {
             "fill": {
              "color": "#C8D4E3"
             },
             "line": {
              "color": "white"
             }
            },
            "type": "table"
           }
          ]
         },
         "layout": {
          "annotationdefaults": {
           "arrowcolor": "#2a3f5f",
           "arrowhead": 0,
           "arrowwidth": 1
          },
          "coloraxis": {
           "colorbar": {
            "outlinewidth": 0,
            "ticks": ""
           }
          },
          "colorscale": {
           "diverging": [
            [
             0,
             "#8e0152"
            ],
            [
             0.1,
             "#c51b7d"
            ],
            [
             0.2,
             "#de77ae"
            ],
            [
             0.3,
             "#f1b6da"
            ],
            [
             0.4,
             "#fde0ef"
            ],
            [
             0.5,
             "#f7f7f7"
            ],
            [
             0.6,
             "#e6f5d0"
            ],
            [
             0.7,
             "#b8e186"
            ],
            [
             0.8,
             "#7fbc41"
            ],
            [
             0.9,
             "#4d9221"
            ],
            [
             1,
             "#276419"
            ]
           ],
           "sequential": [
            [
             0,
             "#0d0887"
            ],
            [
             0.1111111111111111,
             "#46039f"
            ],
            [
             0.2222222222222222,
             "#7201a8"
            ],
            [
             0.3333333333333333,
             "#9c179e"
            ],
            [
             0.4444444444444444,
             "#bd3786"
            ],
            [
             0.5555555555555556,
             "#d8576b"
            ],
            [
             0.6666666666666666,
             "#ed7953"
            ],
            [
             0.7777777777777778,
             "#fb9f3a"
            ],
            [
             0.8888888888888888,
             "#fdca26"
            ],
            [
             1,
             "#f0f921"
            ]
           ],
           "sequentialminus": [
            [
             0,
             "#0d0887"
            ],
            [
             0.1111111111111111,
             "#46039f"
            ],
            [
             0.2222222222222222,
             "#7201a8"
            ],
            [
             0.3333333333333333,
             "#9c179e"
            ],
            [
             0.4444444444444444,
             "#bd3786"
            ],
            [
             0.5555555555555556,
             "#d8576b"
            ],
            [
             0.6666666666666666,
             "#ed7953"
            ],
            [
             0.7777777777777778,
             "#fb9f3a"
            ],
            [
             0.8888888888888888,
             "#fdca26"
            ],
            [
             1,
             "#f0f921"
            ]
           ]
          },
          "colorway": [
           "#636efa",
           "#EF553B",
           "#00cc96",
           "#ab63fa",
           "#FFA15A",
           "#19d3f3",
           "#FF6692",
           "#B6E880",
           "#FF97FF",
           "#FECB52"
          ],
          "font": {
           "color": "#2a3f5f"
          },
          "geo": {
           "bgcolor": "white",
           "lakecolor": "white",
           "landcolor": "#E5ECF6",
           "showlakes": true,
           "showland": true,
           "subunitcolor": "white"
          },
          "hoverlabel": {
           "align": "left"
          },
          "hovermode": "closest",
          "mapbox": {
           "style": "light"
          },
          "paper_bgcolor": "white",
          "plot_bgcolor": "#E5ECF6",
          "polar": {
           "angularaxis": {
            "gridcolor": "white",
            "linecolor": "white",
            "ticks": ""
           },
           "bgcolor": "#E5ECF6",
           "radialaxis": {
            "gridcolor": "white",
            "linecolor": "white",
            "ticks": ""
           }
          },
          "scene": {
           "xaxis": {
            "backgroundcolor": "#E5ECF6",
            "gridcolor": "white",
            "gridwidth": 2,
            "linecolor": "white",
            "showbackground": true,
            "ticks": "",
            "zerolinecolor": "white"
           },
           "yaxis": {
            "backgroundcolor": "#E5ECF6",
            "gridcolor": "white",
            "gridwidth": 2,
            "linecolor": "white",
            "showbackground": true,
            "ticks": "",
            "zerolinecolor": "white"
           },
           "zaxis": {
            "backgroundcolor": "#E5ECF6",
            "gridcolor": "white",
            "gridwidth": 2,
            "linecolor": "white",
            "showbackground": true,
            "ticks": "",
            "zerolinecolor": "white"
           }
          },
          "shapedefaults": {
           "line": {
            "color": "#2a3f5f"
           }
          },
          "ternary": {
           "aaxis": {
            "gridcolor": "white",
            "linecolor": "white",
            "ticks": ""
           },
           "baxis": {
            "gridcolor": "white",
            "linecolor": "white",
            "ticks": ""
           },
           "bgcolor": "#E5ECF6",
           "caxis": {
            "gridcolor": "white",
            "linecolor": "white",
            "ticks": ""
           }
          },
          "title": {
           "x": 0.05
          },
          "xaxis": {
           "automargin": true,
           "gridcolor": "white",
           "linecolor": "white",
           "ticks": "",
           "title": {
            "standoff": 15
           },
           "zerolinecolor": "white",
           "zerolinewidth": 2
          },
          "yaxis": {
           "automargin": true,
           "gridcolor": "white",
           "linecolor": "white",
           "ticks": "",
           "title": {
            "standoff": 15
           },
           "zerolinecolor": "white",
           "zerolinewidth": 2
          }
         }
        },
        "title": {
         "font": {
          "color": "#4D5663"
         }
        },
        "xaxis": {
         "gridcolor": "#E1E5ED",
         "range": [
          0,
          10
         ],
         "showgrid": true,
         "tickfont": {
          "color": "#4D5663"
         },
         "title": {
          "font": {
           "color": "#4D5663"
          },
          "text": "Epoch"
         },
         "zerolinecolor": "#E1E5ED"
        },
        "yaxis": {
         "gridcolor": "#E1E5ED",
         "showgrid": true,
         "tickfont": {
          "color": "#4D5663"
         },
         "title": {
          "font": {
           "color": "#4D5663"
          },
          "text": "Loss"
         },
         "zerolinecolor": "#E1E5ED"
        }
       }
      },
      "text/html": [
       "<div>\n",
       "        \n",
       "        \n",
       "            <div id=\"d4b51c35-de15-4d07-94a6-c15aaec0d7d3\" class=\"plotly-graph-div\" style=\"height:525px; width:100%;\"></div>\n",
       "            <script type=\"text/javascript\">\n",
       "                require([\"plotly\"], function(Plotly) {\n",
       "                    window.PLOTLYENV=window.PLOTLYENV || {};\n",
       "                    window.PLOTLYENV.BASE_URL='https://plot.ly';\n",
       "                    \n",
       "                if (document.getElementById(\"d4b51c35-de15-4d07-94a6-c15aaec0d7d3\")) {\n",
       "                    Plotly.newPlot(\n",
       "                        'd4b51c35-de15-4d07-94a6-c15aaec0d7d3',\n",
       "                        [{\"line\": {\"color\": \"rgba(255, 153, 51, 1.0)\", \"dash\": \"solid\", \"shape\": \"linear\", \"width\": 1.3}, \"mode\": \"lines\", \"name\": \"train_loss\", \"text\": \"\", \"type\": \"scatter\", \"x\": [1, 2, 3, 4, 5, 6, 7, 8, 9, 10], \"y\": [0.8753079385123375, 0.6252428638666437, 0.5449413474010558, 0.4998441727182258, 0.4776284109585113, 0.4509295196791296, 0.4289652544268713, 0.40803573609454336, 0.4048579257758079, 0.3884124630054079]}, {\"line\": {\"color\": \"rgba(55, 128, 191, 1.0)\", \"dash\": \"solid\", \"shape\": \"linear\", \"width\": 1.3}, \"mode\": \"lines\", \"name\": \"valid_loss\", \"text\": \"\", \"type\": \"scatter\", \"x\": [1, 2, 3, 4, 5, 6, 7, 8, 9, 10], \"y\": [0.6486561325463381, 0.5510168795515911, 0.4804809293546877, 0.4561590199741829, 0.4352777760383512, 0.4136397434091841, 0.40550165760312495, 0.3958846739122084, 0.3841179320938028, 0.3697547623479132]}],\n",
       "                        {\"legend\": {\"bgcolor\": \"#FFFFFF\", \"font\": {\"color\": \"#4D5663\"}}, \"paper_bgcolor\": \"#FFFFFF\", \"plot_bgcolor\": \"#FFFFFF\", \"template\": {\"data\": {\"bar\": [{\"error_x\": {\"color\": \"#2a3f5f\"}, \"error_y\": {\"color\": \"#2a3f5f\"}, \"marker\": {\"line\": {\"color\": \"#E5ECF6\", \"width\": 0.5}}, \"type\": \"bar\"}], \"barpolar\": [{\"marker\": {\"line\": {\"color\": \"#E5ECF6\", \"width\": 0.5}}, \"type\": \"barpolar\"}], \"carpet\": [{\"aaxis\": {\"endlinecolor\": \"#2a3f5f\", \"gridcolor\": \"white\", \"linecolor\": \"white\", \"minorgridcolor\": \"white\", \"startlinecolor\": \"#2a3f5f\"}, \"baxis\": {\"endlinecolor\": \"#2a3f5f\", \"gridcolor\": \"white\", \"linecolor\": \"white\", \"minorgridcolor\": \"white\", \"startlinecolor\": \"#2a3f5f\"}, \"type\": \"carpet\"}], \"choropleth\": [{\"colorbar\": {\"outlinewidth\": 0, \"ticks\": \"\"}, \"type\": \"choropleth\"}], \"contour\": [{\"colorbar\": {\"outlinewidth\": 0, \"ticks\": \"\"}, \"colorscale\": [[0.0, \"#0d0887\"], [0.1111111111111111, \"#46039f\"], [0.2222222222222222, \"#7201a8\"], [0.3333333333333333, \"#9c179e\"], [0.4444444444444444, \"#bd3786\"], [0.5555555555555556, \"#d8576b\"], [0.6666666666666666, \"#ed7953\"], [0.7777777777777778, \"#fb9f3a\"], [0.8888888888888888, \"#fdca26\"], [1.0, \"#f0f921\"]], \"type\": \"contour\"}], \"contourcarpet\": [{\"colorbar\": {\"outlinewidth\": 0, \"ticks\": \"\"}, \"type\": \"contourcarpet\"}], \"heatmap\": [{\"colorbar\": {\"outlinewidth\": 0, \"ticks\": \"\"}, \"colorscale\": [[0.0, \"#0d0887\"], [0.1111111111111111, \"#46039f\"], [0.2222222222222222, \"#7201a8\"], [0.3333333333333333, \"#9c179e\"], [0.4444444444444444, \"#bd3786\"], [0.5555555555555556, \"#d8576b\"], [0.6666666666666666, \"#ed7953\"], [0.7777777777777778, \"#fb9f3a\"], [0.8888888888888888, \"#fdca26\"], [1.0, \"#f0f921\"]], \"type\": \"heatmap\"}], \"heatmapgl\": [{\"colorbar\": {\"outlinewidth\": 0, \"ticks\": \"\"}, \"colorscale\": [[0.0, \"#0d0887\"], [0.1111111111111111, \"#46039f\"], [0.2222222222222222, \"#7201a8\"], [0.3333333333333333, \"#9c179e\"], [0.4444444444444444, \"#bd3786\"], [0.5555555555555556, \"#d8576b\"], [0.6666666666666666, \"#ed7953\"], [0.7777777777777778, \"#fb9f3a\"], [0.8888888888888888, \"#fdca26\"], [1.0, \"#f0f921\"]], \"type\": \"heatmapgl\"}], \"histogram\": [{\"marker\": {\"colorbar\": {\"outlinewidth\": 0, \"ticks\": \"\"}}, \"type\": \"histogram\"}], \"histogram2d\": [{\"colorbar\": {\"outlinewidth\": 0, \"ticks\": \"\"}, \"colorscale\": [[0.0, \"#0d0887\"], [0.1111111111111111, \"#46039f\"], [0.2222222222222222, \"#7201a8\"], [0.3333333333333333, \"#9c179e\"], [0.4444444444444444, \"#bd3786\"], [0.5555555555555556, \"#d8576b\"], [0.6666666666666666, \"#ed7953\"], [0.7777777777777778, \"#fb9f3a\"], [0.8888888888888888, \"#fdca26\"], [1.0, \"#f0f921\"]], \"type\": \"histogram2d\"}], \"histogram2dcontour\": [{\"colorbar\": {\"outlinewidth\": 0, \"ticks\": \"\"}, \"colorscale\": [[0.0, \"#0d0887\"], [0.1111111111111111, \"#46039f\"], [0.2222222222222222, \"#7201a8\"], [0.3333333333333333, \"#9c179e\"], [0.4444444444444444, \"#bd3786\"], [0.5555555555555556, \"#d8576b\"], [0.6666666666666666, \"#ed7953\"], [0.7777777777777778, \"#fb9f3a\"], [0.8888888888888888, \"#fdca26\"], [1.0, \"#f0f921\"]], \"type\": \"histogram2dcontour\"}], \"mesh3d\": [{\"colorbar\": {\"outlinewidth\": 0, \"ticks\": \"\"}, \"type\": \"mesh3d\"}], \"parcoords\": [{\"line\": {\"colorbar\": {\"outlinewidth\": 0, \"ticks\": \"\"}}, \"type\": \"parcoords\"}], \"pie\": [{\"automargin\": true, \"type\": \"pie\"}], \"scatter\": [{\"marker\": {\"colorbar\": {\"outlinewidth\": 0, \"ticks\": \"\"}}, \"type\": \"scatter\"}], \"scatter3d\": [{\"line\": {\"colorbar\": {\"outlinewidth\": 0, \"ticks\": \"\"}}, \"marker\": {\"colorbar\": {\"outlinewidth\": 0, \"ticks\": \"\"}}, \"type\": \"scatter3d\"}], \"scattercarpet\": [{\"marker\": {\"colorbar\": {\"outlinewidth\": 0, \"ticks\": \"\"}}, \"type\": \"scattercarpet\"}], \"scattergeo\": [{\"marker\": {\"colorbar\": {\"outlinewidth\": 0, \"ticks\": \"\"}}, \"type\": \"scattergeo\"}], \"scattergl\": [{\"marker\": {\"colorbar\": {\"outlinewidth\": 0, \"ticks\": \"\"}}, \"type\": \"scattergl\"}], \"scattermapbox\": [{\"marker\": {\"colorbar\": {\"outlinewidth\": 0, \"ticks\": \"\"}}, \"type\": \"scattermapbox\"}], \"scatterpolar\": [{\"marker\": {\"colorbar\": {\"outlinewidth\": 0, \"ticks\": \"\"}}, \"type\": \"scatterpolar\"}], \"scatterpolargl\": [{\"marker\": {\"colorbar\": {\"outlinewidth\": 0, \"ticks\": \"\"}}, \"type\": \"scatterpolargl\"}], \"scatterternary\": [{\"marker\": {\"colorbar\": {\"outlinewidth\": 0, \"ticks\": \"\"}}, \"type\": \"scatterternary\"}], \"surface\": [{\"colorbar\": {\"outlinewidth\": 0, \"ticks\": \"\"}, \"colorscale\": [[0.0, \"#0d0887\"], [0.1111111111111111, \"#46039f\"], [0.2222222222222222, \"#7201a8\"], [0.3333333333333333, \"#9c179e\"], [0.4444444444444444, \"#bd3786\"], [0.5555555555555556, \"#d8576b\"], [0.6666666666666666, \"#ed7953\"], [0.7777777777777778, \"#fb9f3a\"], [0.8888888888888888, \"#fdca26\"], [1.0, \"#f0f921\"]], \"type\": \"surface\"}], \"table\": [{\"cells\": {\"fill\": {\"color\": \"#EBF0F8\"}, \"line\": {\"color\": \"white\"}}, \"header\": {\"fill\": {\"color\": \"#C8D4E3\"}, \"line\": {\"color\": \"white\"}}, \"type\": \"table\"}]}, \"layout\": {\"annotationdefaults\": {\"arrowcolor\": \"#2a3f5f\", \"arrowhead\": 0, \"arrowwidth\": 1}, \"coloraxis\": {\"colorbar\": {\"outlinewidth\": 0, \"ticks\": \"\"}}, \"colorscale\": {\"diverging\": [[0, \"#8e0152\"], [0.1, \"#c51b7d\"], [0.2, \"#de77ae\"], [0.3, \"#f1b6da\"], [0.4, \"#fde0ef\"], [0.5, \"#f7f7f7\"], [0.6, \"#e6f5d0\"], [0.7, \"#b8e186\"], [0.8, \"#7fbc41\"], [0.9, \"#4d9221\"], [1, \"#276419\"]], \"sequential\": [[0.0, \"#0d0887\"], [0.1111111111111111, \"#46039f\"], [0.2222222222222222, \"#7201a8\"], [0.3333333333333333, \"#9c179e\"], [0.4444444444444444, \"#bd3786\"], [0.5555555555555556, \"#d8576b\"], [0.6666666666666666, \"#ed7953\"], [0.7777777777777778, \"#fb9f3a\"], [0.8888888888888888, \"#fdca26\"], [1.0, \"#f0f921\"]], \"sequentialminus\": [[0.0, \"#0d0887\"], [0.1111111111111111, \"#46039f\"], [0.2222222222222222, \"#7201a8\"], [0.3333333333333333, \"#9c179e\"], [0.4444444444444444, \"#bd3786\"], [0.5555555555555556, \"#d8576b\"], [0.6666666666666666, \"#ed7953\"], [0.7777777777777778, \"#fb9f3a\"], [0.8888888888888888, \"#fdca26\"], [1.0, \"#f0f921\"]]}, \"colorway\": [\"#636efa\", \"#EF553B\", \"#00cc96\", \"#ab63fa\", \"#FFA15A\", \"#19d3f3\", \"#FF6692\", \"#B6E880\", \"#FF97FF\", \"#FECB52\"], \"font\": {\"color\": \"#2a3f5f\"}, \"geo\": {\"bgcolor\": \"white\", \"lakecolor\": \"white\", \"landcolor\": \"#E5ECF6\", \"showlakes\": true, \"showland\": true, \"subunitcolor\": \"white\"}, \"hoverlabel\": {\"align\": \"left\"}, \"hovermode\": \"closest\", \"mapbox\": {\"style\": \"light\"}, \"paper_bgcolor\": \"white\", \"plot_bgcolor\": \"#E5ECF6\", \"polar\": {\"angularaxis\": {\"gridcolor\": \"white\", \"linecolor\": \"white\", \"ticks\": \"\"}, \"bgcolor\": \"#E5ECF6\", \"radialaxis\": {\"gridcolor\": \"white\", \"linecolor\": \"white\", \"ticks\": \"\"}}, \"scene\": {\"xaxis\": {\"backgroundcolor\": \"#E5ECF6\", \"gridcolor\": \"white\", \"gridwidth\": 2, \"linecolor\": \"white\", \"showbackground\": true, \"ticks\": \"\", \"zerolinecolor\": \"white\"}, \"yaxis\": {\"backgroundcolor\": \"#E5ECF6\", \"gridcolor\": \"white\", \"gridwidth\": 2, \"linecolor\": \"white\", \"showbackground\": true, \"ticks\": \"\", \"zerolinecolor\": \"white\"}, \"zaxis\": {\"backgroundcolor\": \"#E5ECF6\", \"gridcolor\": \"white\", \"gridwidth\": 2, \"linecolor\": \"white\", \"showbackground\": true, \"ticks\": \"\", \"zerolinecolor\": \"white\"}}, \"shapedefaults\": {\"line\": {\"color\": \"#2a3f5f\"}}, \"ternary\": {\"aaxis\": {\"gridcolor\": \"white\", \"linecolor\": \"white\", \"ticks\": \"\"}, \"baxis\": {\"gridcolor\": \"white\", \"linecolor\": \"white\", \"ticks\": \"\"}, \"bgcolor\": \"#E5ECF6\", \"caxis\": {\"gridcolor\": \"white\", \"linecolor\": \"white\", \"ticks\": \"\"}}, \"title\": {\"x\": 0.05}, \"xaxis\": {\"automargin\": true, \"gridcolor\": \"white\", \"linecolor\": \"white\", \"ticks\": \"\", \"title\": {\"standoff\": 15}, \"zerolinecolor\": \"white\", \"zerolinewidth\": 2}, \"yaxis\": {\"automargin\": true, \"gridcolor\": \"white\", \"linecolor\": \"white\", \"ticks\": \"\", \"title\": {\"standoff\": 15}, \"zerolinecolor\": \"white\", \"zerolinewidth\": 2}}}, \"title\": {\"font\": {\"color\": \"#4D5663\"}}, \"xaxis\": {\"gridcolor\": \"#E1E5ED\", \"range\": [0, 10], \"showgrid\": true, \"tickfont\": {\"color\": \"#4D5663\"}, \"title\": {\"font\": {\"color\": \"#4D5663\"}, \"text\": \"Epoch\"}, \"zerolinecolor\": \"#E1E5ED\"}, \"yaxis\": {\"gridcolor\": \"#E1E5ED\", \"showgrid\": true, \"tickfont\": {\"color\": \"#4D5663\"}, \"title\": {\"font\": {\"color\": \"#4D5663\"}, \"text\": \"Loss\"}, \"zerolinecolor\": \"#E1E5ED\"}},\n",
       "                        {\"showLink\": true, \"linkText\": \"Export to plot.ly\", \"plotlyServerURL\": \"https://plot.ly\", \"responsive\": true}\n",
       "                    ).then(function(){\n",
       "                            \n",
       "var gd = document.getElementById('d4b51c35-de15-4d07-94a6-c15aaec0d7d3');\n",
       "var x = new MutationObserver(function (mutations, observer) {{\n",
       "        var display = window.getComputedStyle(gd).display;\n",
       "        if (!display || display === 'none') {{\n",
       "            console.log([gd, 'removed!']);\n",
       "            Plotly.purge(gd);\n",
       "            observer.disconnect();\n",
       "        }}\n",
       "}});\n",
       "\n",
       "// Listen for the removal of the full notebook cells\n",
       "var notebookContainer = gd.closest('#notebook-container');\n",
       "if (notebookContainer) {{\n",
       "    x.observe(notebookContainer, {childList: true});\n",
       "}}\n",
       "\n",
       "// Listen for the clearing of the current output cell\n",
       "var outputEl = gd.closest('.output');\n",
       "if (outputEl) {{\n",
       "    x.observe(outputEl, {childList: true});\n",
       "}}\n",
       "\n",
       "                        })\n",
       "                };\n",
       "                });\n",
       "            </script>\n",
       "        </div>"
      ]
     },
     "metadata": {},
     "output_type": "display_data"
    }
   ],
   "source": [
    "stats_df.iplot(\n",
    "                mode='lines',\n",
    "    #                                 kind = 'bar',\n",
    "    #                                 barmode = 'stack',\n",
    "                opacity=0.8,\n",
    "                size=8,\n",
    "                symbol=1,\n",
    "                xTitle='Epoch',\n",
    "                yTitle='Loss',\n",
    "                x = 'epoch',\n",
    "                xrange = [0,10],\n",
    "#                 yrange = [0,16000],\n",
    "                y = ['train_loss', 'valid_loss'],\n",
    "#                 title='Test model'#,\n",
    "    #                                 fill = True\n",
    "                )"
   ]
  },
  {
   "cell_type": "code",
   "execution_count": 83,
   "metadata": {},
   "outputs": [],
   "source": [
    "# importing PyTorchModel\n",
    "from sagemaker.pytorch import PyTorchModel\n",
    "\n",
    "# Create a model from the trained estimator data\n",
    "# And point to the prediction script\n",
    "cnn_model = PyTorchModel(model_data=CNN_lr_0001, # change this name when switching model!!\n",
    "                     role = role,\n",
    "                     framework_version='1.0',\n",
    "                     entry_point='predict.py',\n",
    "                     source_dir='CNN')"
   ]
  },
  {
   "cell_type": "code",
   "execution_count": 84,
   "metadata": {},
   "outputs": [
    {
     "name": "stdout",
     "output_type": "stream",
     "text": [
      "-----------------!CPU times: user 406 ms, sys: 29.1 ms, total: 435 ms\n",
      "Wall time: 8min 33s\n"
     ]
    },
    {
     "data": {
      "text/html": [
       "\n",
       "                <audio controls=\"controls\" autoplay=\"autoplay\">\n",
       "                    <source src=\"data:audio/mpeg;base64,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\" type=\"audio/mpeg\" />\n",
       "                    Your browser does not support the audio element.\n",
       "                </audio>\n",
       "              "
      ],
      "text/plain": [
       "<IPython.lib.display.Audio object>"
      ]
     },
     "execution_count": 84,
     "metadata": {},
     "output_type": "execute_result"
    }
   ],
   "source": [
    "# Deploy model for predictions (about 8 min)\n",
    "%time cnn_predictor = cnn_model.deploy(initial_instance_count=1, instance_type='ml.m4.xlarge') # ml.p2.xlarge did not work\n",
    "\n",
    "Audio(sound_file, autoplay=True) # Notify when finished"
   ]
  },
  {
   "cell_type": "code",
   "execution_count": 66,
   "metadata": {},
   "outputs": [],
   "source": [
    "# os.makedirs(\"data/test/Normal\", exist_ok=True)\n",
    "# os.makedirs(\"data/test/Pnemonia-bacteria\", exist_ok=True)\n",
    "# os.makedirs(\"data/test/Pnemonia-bacteria-Streptococcus\", exist_ok=True)\n",
    "# os.makedirs(\"data/test/Pnemonia-Stress-Smoking-ARDS\", exist_ok=True)\n",
    "# os.makedirs(\"data/test/Pnemonia-Virus\", exist_ok=True)\n",
    "# os.makedirs(\"data/test/Pnemonia-Virus-COVID-19\", exist_ok=True)\n"
   ]
  },
  {
   "cell_type": "code",
   "execution_count": 85,
   "metadata": {
    "scrolled": true
   },
   "outputs": [],
   "source": [
    "# Compose transforms\n",
    "\n",
    "batch_size = 2 # if bigger, it causes trouble when reading the last batch. \n",
    "\n",
    "editions = transforms.Compose([transforms.Resize(224),\n",
    "                               transforms.CenterCrop(224),\n",
    "                               transforms.ToTensor(),\n",
    "                               transforms.Normalize((0.5, 0.5, 0.5), (0.5, 0.5, 0.5))   # new thing                            \n",
    "                              ])\n",
    "test_data =  datasets.ImageFolder('data/test', transform=editions) # create the ImageFolder\n",
    "test_loader = torch.utils.data.DataLoader(test_data, batch_size=batch_size) "
   ]
  },
  {
   "cell_type": "code",
   "execution_count": 136,
   "metadata": {},
   "outputs": [
    {
     "data": {
      "text/plain": [
       "array([[[[-0.78039217, -0.77254903, -0.78039217, ..., -0.77254903,\n",
       "          -0.77254903, -0.77254903],\n",
       "         [-0.7882353 , -0.78039217, -0.78039217, ..., -0.77254903,\n",
       "          -0.77254903, -0.77254903],\n",
       "         [-0.7882353 , -0.7882353 , -0.7882353 , ..., -0.77254903,\n",
       "          -0.77254903, -0.77254903],\n",
       "         ...,\n",
       "         [-0.40392154, -0.31764704, -0.2235294 , ...,  0.1686275 ,\n",
       "           0.27843142,  0.3411765 ],\n",
       "         [-0.42745095, -0.3333333 , -0.23137254, ...,  0.19215691,\n",
       "           0.2313726 ,  0.32549024],\n",
       "         [-0.44313723, -0.35686272, -0.24705881, ...,  0.20784318,\n",
       "           0.19215691,  0.28627455]],\n",
       "\n",
       "        [[-0.78039217, -0.77254903, -0.78039217, ..., -0.77254903,\n",
       "          -0.77254903, -0.77254903],\n",
       "         [-0.7882353 , -0.78039217, -0.78039217, ..., -0.77254903,\n",
       "          -0.77254903, -0.77254903],\n",
       "         [-0.7882353 , -0.7882353 , -0.7882353 , ..., -0.77254903,\n",
       "          -0.77254903, -0.77254903],\n",
       "         ...,\n",
       "         [-0.40392154, -0.31764704, -0.2235294 , ...,  0.1686275 ,\n",
       "           0.27843142,  0.3411765 ],\n",
       "         [-0.42745095, -0.3333333 , -0.23137254, ...,  0.19215691,\n",
       "           0.2313726 ,  0.32549024],\n",
       "         [-0.44313723, -0.35686272, -0.24705881, ...,  0.20784318,\n",
       "           0.19215691,  0.28627455]],\n",
       "\n",
       "        [[-0.78039217, -0.77254903, -0.78039217, ..., -0.77254903,\n",
       "          -0.77254903, -0.77254903],\n",
       "         [-0.7882353 , -0.78039217, -0.78039217, ..., -0.77254903,\n",
       "          -0.77254903, -0.77254903],\n",
       "         [-0.7882353 , -0.7882353 , -0.7882353 , ..., -0.77254903,\n",
       "          -0.77254903, -0.77254903],\n",
       "         ...,\n",
       "         [-0.40392154, -0.31764704, -0.2235294 , ...,  0.1686275 ,\n",
       "           0.27843142,  0.3411765 ],\n",
       "         [-0.42745095, -0.3333333 , -0.23137254, ...,  0.19215691,\n",
       "           0.2313726 ,  0.32549024],\n",
       "         [-0.44313723, -0.35686272, -0.24705881, ...,  0.20784318,\n",
       "           0.19215691,  0.28627455]]],\n",
       "\n",
       "\n",
       "       [[[ 0.41960788,  0.43529415,  0.43529415, ...,  0.26274514,\n",
       "           0.2313726 ,  0.19215691],\n",
       "         [ 0.41176474,  0.41176474,  0.4431373 , ...,  0.32549024,\n",
       "           0.32549024,  0.27843142],\n",
       "         [ 0.41960788,  0.4039216 ,  0.43529415, ...,  0.30980396,\n",
       "           0.28627455,  0.30980396],\n",
       "         ...,\n",
       "         [ 0.427451  ,  0.41176474,  0.2941177 , ...,  0.15294123,\n",
       "           0.18431377,  0.3803922 ],\n",
       "         [ 0.45098042,  0.34901965,  0.28627455, ...,  0.19215691,\n",
       "           0.254902  ,  0.39607847],\n",
       "         [ 0.4666667 ,  0.30980396,  0.2941177 , ...,  0.26274514,\n",
       "           0.3411765 ,  0.39607847]],\n",
       "\n",
       "        [[ 0.41960788,  0.43529415,  0.43529415, ...,  0.26274514,\n",
       "           0.2313726 ,  0.19215691],\n",
       "         [ 0.41176474,  0.41176474,  0.4431373 , ...,  0.32549024,\n",
       "           0.32549024,  0.27843142],\n",
       "         [ 0.41960788,  0.4039216 ,  0.43529415, ...,  0.30980396,\n",
       "           0.28627455,  0.30980396],\n",
       "         ...,\n",
       "         [ 0.427451  ,  0.41176474,  0.2941177 , ...,  0.15294123,\n",
       "           0.18431377,  0.3803922 ],\n",
       "         [ 0.45098042,  0.34901965,  0.28627455, ...,  0.19215691,\n",
       "           0.254902  ,  0.39607847],\n",
       "         [ 0.4666667 ,  0.30980396,  0.2941177 , ...,  0.26274514,\n",
       "           0.3411765 ,  0.39607847]],\n",
       "\n",
       "        [[ 0.41960788,  0.43529415,  0.43529415, ...,  0.26274514,\n",
       "           0.2313726 ,  0.19215691],\n",
       "         [ 0.41176474,  0.41176474,  0.4431373 , ...,  0.32549024,\n",
       "           0.32549024,  0.27843142],\n",
       "         [ 0.41960788,  0.4039216 ,  0.43529415, ...,  0.30980396,\n",
       "           0.28627455,  0.30980396],\n",
       "         ...,\n",
       "         [ 0.427451  ,  0.41176474,  0.2941177 , ...,  0.15294123,\n",
       "           0.18431377,  0.3803922 ],\n",
       "         [ 0.45098042,  0.34901965,  0.28627455, ...,  0.19215691,\n",
       "           0.254902  ,  0.39607847],\n",
       "         [ 0.4666667 ,  0.30980396,  0.2941177 , ...,  0.26274514,\n",
       "           0.3411765 ,  0.39607847]]],\n",
       "\n",
       "\n",
       "       [[[-0.73333335, -0.73333335, -0.7411765 , ..., -0.7647059 ,\n",
       "          -0.77254903, -0.7647059 ],\n",
       "         [-0.7490196 , -0.7411765 , -0.7490196 , ..., -0.77254903,\n",
       "          -0.77254903, -0.7647059 ],\n",
       "         [-0.7490196 , -0.7411765 , -0.75686276, ..., -0.77254903,\n",
       "          -0.78039217, -0.77254903],\n",
       "         ...,\n",
       "         [-0.7882353 , -0.7882353 , -0.79607844, ..., -0.77254903,\n",
       "          -0.78039217, -0.77254903],\n",
       "         [-0.7882353 , -0.7882353 , -0.7882353 , ..., -0.77254903,\n",
       "          -0.77254903, -0.77254903],\n",
       "         [-0.7882353 , -0.7882353 , -0.7882353 , ..., -0.78039217,\n",
       "          -0.77254903, -0.77254903]],\n",
       "\n",
       "        [[-0.73333335, -0.73333335, -0.7411765 , ..., -0.7647059 ,\n",
       "          -0.77254903, -0.7647059 ],\n",
       "         [-0.7490196 , -0.7411765 , -0.7490196 , ..., -0.77254903,\n",
       "          -0.77254903, -0.7647059 ],\n",
       "         [-0.7490196 , -0.7411765 , -0.75686276, ..., -0.77254903,\n",
       "          -0.78039217, -0.77254903],\n",
       "         ...,\n",
       "         [-0.7882353 , -0.7882353 , -0.79607844, ..., -0.77254903,\n",
       "          -0.78039217, -0.77254903],\n",
       "         [-0.7882353 , -0.7882353 , -0.7882353 , ..., -0.77254903,\n",
       "          -0.77254903, -0.77254903],\n",
       "         [-0.7882353 , -0.7882353 , -0.7882353 , ..., -0.78039217,\n",
       "          -0.77254903, -0.77254903]],\n",
       "\n",
       "        [[-0.73333335, -0.73333335, -0.7411765 , ..., -0.7647059 ,\n",
       "          -0.77254903, -0.7647059 ],\n",
       "         [-0.7490196 , -0.7411765 , -0.7490196 , ..., -0.77254903,\n",
       "          -0.77254903, -0.7647059 ],\n",
       "         [-0.7490196 , -0.7411765 , -0.75686276, ..., -0.77254903,\n",
       "          -0.78039217, -0.77254903],\n",
       "         ...,\n",
       "         [-0.7882353 , -0.7882353 , -0.79607844, ..., -0.77254903,\n",
       "          -0.78039217, -0.77254903],\n",
       "         [-0.7882353 , -0.7882353 , -0.7882353 , ..., -0.77254903,\n",
       "          -0.77254903, -0.77254903],\n",
       "         [-0.7882353 , -0.7882353 , -0.7882353 , ..., -0.78039217,\n",
       "          -0.77254903, -0.77254903]]],\n",
       "\n",
       "\n",
       "       ...,\n",
       "\n",
       "\n",
       "       [[[-0.8980392 , -0.8901961 , -0.8901961 , ..., -0.8039216 ,\n",
       "          -0.8666667 , -0.9372549 ],\n",
       "         [-0.8980392 , -0.8901961 , -0.8901961 , ..., -0.73333335,\n",
       "          -0.7490196 , -0.7882353 ],\n",
       "         [-0.8901961 , -0.8980392 , -0.8980392 , ..., -0.67058825,\n",
       "          -0.6784314 , -0.70980394],\n",
       "         ...,\n",
       "         [-0.9764706 , -0.9843137 , -0.81960785, ..., -0.92941177,\n",
       "          -0.92156863, -0.9137255 ],\n",
       "         [-0.9764706 , -0.99215686, -0.8352941 , ..., -0.92941177,\n",
       "          -0.92156863, -0.90588236],\n",
       "         [-0.9764706 , -0.99215686, -0.85882354, ..., -0.92941177,\n",
       "          -0.92156863, -0.90588236]],\n",
       "\n",
       "        [[-0.8980392 , -0.8901961 , -0.8901961 , ..., -0.8039216 ,\n",
       "          -0.8666667 , -0.9372549 ],\n",
       "         [-0.8980392 , -0.8901961 , -0.8901961 , ..., -0.73333335,\n",
       "          -0.7490196 , -0.7882353 ],\n",
       "         [-0.8901961 , -0.8980392 , -0.8980392 , ..., -0.67058825,\n",
       "          -0.6784314 , -0.70980394],\n",
       "         ...,\n",
       "         [-0.9764706 , -0.9843137 , -0.81960785, ..., -0.92941177,\n",
       "          -0.92156863, -0.9137255 ],\n",
       "         [-0.9764706 , -0.99215686, -0.8352941 , ..., -0.92941177,\n",
       "          -0.92156863, -0.90588236],\n",
       "         [-0.9764706 , -0.99215686, -0.85882354, ..., -0.92941177,\n",
       "          -0.92156863, -0.90588236]],\n",
       "\n",
       "        [[-0.8980392 , -0.8901961 , -0.8901961 , ..., -0.8039216 ,\n",
       "          -0.8666667 , -0.9372549 ],\n",
       "         [-0.8980392 , -0.8901961 , -0.8901961 , ..., -0.73333335,\n",
       "          -0.7490196 , -0.7882353 ],\n",
       "         [-0.8901961 , -0.8980392 , -0.8980392 , ..., -0.67058825,\n",
       "          -0.6784314 , -0.70980394],\n",
       "         ...,\n",
       "         [-0.9764706 , -0.9843137 , -0.81960785, ..., -0.92941177,\n",
       "          -0.92156863, -0.9137255 ],\n",
       "         [-0.9764706 , -0.99215686, -0.8352941 , ..., -0.92941177,\n",
       "          -0.92156863, -0.90588236],\n",
       "         [-0.9764706 , -0.99215686, -0.85882354, ..., -0.92941177,\n",
       "          -0.92156863, -0.90588236]]],\n",
       "\n",
       "\n",
       "       [[[-0.8745098 , -0.88235295, -0.88235295, ..., -0.85882354,\n",
       "          -0.8509804 , -0.8509804 ],\n",
       "         [-0.8745098 , -0.88235295, -0.88235295, ..., -0.8509804 ,\n",
       "          -0.8509804 , -0.85882354],\n",
       "         [-0.88235295, -0.88235295, -0.88235295, ..., -0.85882354,\n",
       "          -0.85882354, -0.8509804 ],\n",
       "         ...,\n",
       "         [-0.827451  , -0.8509804 , -0.88235295, ..., -0.85882354,\n",
       "          -0.85882354, -0.8666667 ],\n",
       "         [-0.81960785, -0.84313726, -0.88235295, ..., -0.8352941 ,\n",
       "          -0.8352941 , -0.8352941 ],\n",
       "         [-0.8117647 , -0.8352941 , -0.8666667 , ..., -0.79607844,\n",
       "          -0.79607844, -0.79607844]],\n",
       "\n",
       "        [[-0.8745098 , -0.88235295, -0.88235295, ..., -0.85882354,\n",
       "          -0.8509804 , -0.8509804 ],\n",
       "         [-0.8745098 , -0.88235295, -0.88235295, ..., -0.8509804 ,\n",
       "          -0.8509804 , -0.85882354],\n",
       "         [-0.88235295, -0.88235295, -0.88235295, ..., -0.85882354,\n",
       "          -0.85882354, -0.8509804 ],\n",
       "         ...,\n",
       "         [-0.827451  , -0.8509804 , -0.88235295, ..., -0.85882354,\n",
       "          -0.85882354, -0.8666667 ],\n",
       "         [-0.81960785, -0.84313726, -0.88235295, ..., -0.8352941 ,\n",
       "          -0.8352941 , -0.8352941 ],\n",
       "         [-0.8117647 , -0.8352941 , -0.8666667 , ..., -0.79607844,\n",
       "          -0.79607844, -0.79607844]],\n",
       "\n",
       "        [[-0.8745098 , -0.88235295, -0.88235295, ..., -0.85882354,\n",
       "          -0.8509804 , -0.8509804 ],\n",
       "         [-0.8745098 , -0.88235295, -0.88235295, ..., -0.8509804 ,\n",
       "          -0.8509804 , -0.85882354],\n",
       "         [-0.88235295, -0.88235295, -0.88235295, ..., -0.85882354,\n",
       "          -0.85882354, -0.8509804 ],\n",
       "         ...,\n",
       "         [-0.827451  , -0.8509804 , -0.88235295, ..., -0.85882354,\n",
       "          -0.85882354, -0.8666667 ],\n",
       "         [-0.81960785, -0.84313726, -0.88235295, ..., -0.8352941 ,\n",
       "          -0.8352941 , -0.8352941 ],\n",
       "         [-0.8117647 , -0.8352941 , -0.8666667 , ..., -0.79607844,\n",
       "          -0.79607844, -0.79607844]]],\n",
       "\n",
       "\n",
       "       [[[-0.8509804 , -0.8509804 , -0.84313726, ..., -0.8666667 ,\n",
       "          -0.8666667 , -0.8666667 ],\n",
       "         [-0.8509804 , -0.85882354, -0.84313726, ..., -0.8745098 ,\n",
       "          -0.8666667 , -0.8666667 ],\n",
       "         [-0.8509804 , -0.8509804 , -0.8509804 , ..., -0.88235295,\n",
       "          -0.8745098 , -0.8666667 ],\n",
       "         ...,\n",
       "         [-0.85882354, -0.8666667 , -0.8745098 , ..., -0.84313726,\n",
       "          -0.8352941 , -0.8352941 ],\n",
       "         [-0.8509804 , -0.85882354, -0.8745098 , ..., -0.8352941 ,\n",
       "          -0.8352941 , -0.827451  ],\n",
       "         [-0.8509804 , -0.85882354, -0.8666667 , ..., -0.827451  ,\n",
       "          -0.827451  , -0.81960785]],\n",
       "\n",
       "        [[-0.8509804 , -0.8509804 , -0.84313726, ..., -0.8666667 ,\n",
       "          -0.8666667 , -0.8666667 ],\n",
       "         [-0.8509804 , -0.85882354, -0.84313726, ..., -0.8745098 ,\n",
       "          -0.8666667 , -0.8666667 ],\n",
       "         [-0.8509804 , -0.8509804 , -0.8509804 , ..., -0.88235295,\n",
       "          -0.8745098 , -0.8666667 ],\n",
       "         ...,\n",
       "         [-0.85882354, -0.8666667 , -0.8745098 , ..., -0.84313726,\n",
       "          -0.8352941 , -0.8352941 ],\n",
       "         [-0.8509804 , -0.85882354, -0.8745098 , ..., -0.8352941 ,\n",
       "          -0.8352941 , -0.827451  ],\n",
       "         [-0.8509804 , -0.85882354, -0.8666667 , ..., -0.827451  ,\n",
       "          -0.827451  , -0.81960785]],\n",
       "\n",
       "        [[-0.8509804 , -0.8509804 , -0.84313726, ..., -0.8666667 ,\n",
       "          -0.8666667 , -0.8666667 ],\n",
       "         [-0.8509804 , -0.85882354, -0.84313726, ..., -0.8745098 ,\n",
       "          -0.8666667 , -0.8666667 ],\n",
       "         [-0.8509804 , -0.8509804 , -0.8509804 , ..., -0.88235295,\n",
       "          -0.8745098 , -0.8666667 ],\n",
       "         ...,\n",
       "         [-0.85882354, -0.8666667 , -0.8745098 , ..., -0.84313726,\n",
       "          -0.8352941 , -0.8352941 ],\n",
       "         [-0.8509804 , -0.85882354, -0.8745098 , ..., -0.8352941 ,\n",
       "          -0.8352941 , -0.827451  ],\n",
       "         [-0.8509804 , -0.85882354, -0.8666667 , ..., -0.827451  ,\n",
       "          -0.827451  , -0.81960785]]]], dtype=float32)"
      ]
     },
     "execution_count": 136,
     "metadata": {},
     "output_type": "execute_result"
    }
   ],
   "source": [
    "# Explore format of the input images\n",
    "dataiter = iter(test_loader)\n",
    "images, labels = dataiter.next()\n",
    "images.numpy()"
   ]
  },
  {
   "cell_type": "code",
   "execution_count": 143,
   "metadata": {},
   "outputs": [
    {
     "data": {
      "text/plain": [
       "tensor(0)"
      ]
     },
     "execution_count": 143,
     "metadata": {},
     "output_type": "execute_result"
    }
   ],
   "source": [
    "labels.data[3]"
   ]
  },
  {
   "cell_type": "code",
   "execution_count": 125,
   "metadata": {},
   "outputs": [],
   "source": [
    "# Explore output of predictor\n",
    "output = cnn_predictor.predict(images)\n",
    "\n",
    "# print(labels[1])"
   ]
  },
  {
   "cell_type": "code",
   "execution_count": 128,
   "metadata": {},
   "outputs": [
    {
     "data": {
      "text/plain": [
       "array([[ 2.6822252 ,  0.21832854, -2.8939404 ,  0.06830128],\n",
       "       [ 3.5298753 ,  0.15273398, -3.3427687 ,  0.17726411],\n",
       "       [ 5.187379  , -0.32000798, -4.661146  , -0.02821359],\n",
       "       [-3.2633731 ,  2.358542  , -2.3593538 ,  3.3248444 ],\n",
       "       [ 5.30944   , -0.2560891 , -4.195779  , -0.7937871 ],\n",
       "       [ 5.0530868 ,  0.8841881 , -6.20458   ,  0.5221791 ],\n",
       "       [ 3.262228  , -0.5997563 , -3.2529352 ,  0.67728084],\n",
       "       [ 3.7789412 , -0.1315236 , -4.609997  ,  1.003515  ],\n",
       "       [ 1.7277694 ,  1.4712102 , -5.041195  ,  1.8918152 ],\n",
       "       [ 5.2805433 , -0.35680118, -4.6307335 , -0.28985697]],\n",
       "      dtype=float32)"
      ]
     },
     "execution_count": 128,
     "metadata": {},
     "output_type": "execute_result"
    }
   ],
   "source": [
    "output"
   ]
  },
  {
   "cell_type": "code",
   "execution_count": 129,
   "metadata": {},
   "outputs": [
    {
     "data": {
      "text/plain": [
       "tensor([[ 2.6822,  0.2183, -2.8939,  0.0683],\n",
       "        [ 3.5299,  0.1527, -3.3428,  0.1773],\n",
       "        [ 5.1874, -0.3200, -4.6611, -0.0282],\n",
       "        [-3.2634,  2.3585, -2.3594,  3.3248],\n",
       "        [ 5.3094, -0.2561, -4.1958, -0.7938],\n",
       "        [ 5.0531,  0.8842, -6.2046,  0.5222],\n",
       "        [ 3.2622, -0.5998, -3.2529,  0.6773],\n",
       "        [ 3.7789, -0.1315, -4.6100,  1.0035],\n",
       "        [ 1.7278,  1.4712, -5.0412,  1.8918],\n",
       "        [ 5.2805, -0.3568, -4.6307, -0.2899]])"
      ]
     },
     "execution_count": 129,
     "metadata": {},
     "output_type": "execute_result"
    }
   ],
   "source": [
    "torch.from_numpy(output.astype('float32'))"
   ]
  },
  {
   "cell_type": "code",
   "execution_count": 80,
   "metadata": {},
   "outputs": [],
   "source": [
    "data_dir = 'data'\n",
    "prefix = 'data/test/' # it does not want to accept a folder."
   ]
  },
  {
   "cell_type": "code",
   "execution_count": 59,
   "metadata": {},
   "outputs": [
    {
     "data": {
      "text/plain": [
       "['data/test/',\n",
       " 'data/test/Normal/',\n",
       " 'data/test/Normal/IM-0001-0001.jpeg',\n",
       " 'data/test/Normal/IM-0003-0001.jpeg',\n",
       " 'data/test/Normal/IM-0005-0001.jpeg',\n",
       " 'data/test/Normal/IM-0006-0001.jpeg',\n",
       " 'data/test/Normal/IM-0007-0001.jpeg',\n",
       " 'data/test/Normal/IM-0009-0001.jpeg',\n",
       " 'data/test/Normal/IM-0010-0001.jpeg',\n",
       " 'data/test/Normal/IM-0011-0001-0001.jpeg',\n",
       " 'data/test/Normal/IM-0011-0001-0002.jpeg',\n",
       " 'data/test/Normal/IM-0011-0001.jpeg',\n",
       " 'data/test/Normal/IM-0013-0001.jpeg',\n",
       " 'data/test/Normal/IM-0015-0001.jpeg',\n",
       " 'data/test/Normal/IM-0016-0001.jpeg',\n",
       " 'data/test/Normal/IM-0017-0001.jpeg',\n",
       " 'data/test/Normal/IM-0019-0001.jpeg',\n",
       " 'data/test/Normal/IM-0021-0001.jpeg',\n",
       " 'data/test/Normal/IM-0022-0001.jpeg',\n",
       " 'data/test/Normal/IM-0023-0001.jpeg',\n",
       " 'data/test/Normal/IM-0025-0001.jpeg',\n",
       " 'data/test/Normal/IM-0027-0001.jpeg',\n",
       " 'data/test/Normal/IM-0028-0001.jpeg',\n",
       " 'data/test/Normal/IM-0029-0001.jpeg',\n",
       " 'data/test/Normal/IM-0030-0001.jpeg',\n",
       " 'data/test/Normal/IM-0031-0001.jpeg',\n",
       " 'data/test/Normal/IM-0033-0001-0001.jpeg',\n",
       " 'data/test/Normal/IM-0033-0001-0002.jpeg',\n",
       " 'data/test/Normal/IM-0033-0001.jpeg',\n",
       " 'data/test/Normal/IM-0035-0001.jpeg',\n",
       " 'data/test/Normal/IM-0036-0001.jpeg',\n",
       " 'data/test/Normal/IM-0037-0001.jpeg',\n",
       " 'data/test/Normal/IM-0039-0001.jpeg',\n",
       " 'data/test/Normal/IM-0041-0001.jpeg',\n",
       " 'data/test/Normal/IM-0043-0001.jpeg',\n",
       " 'data/test/Normal/IM-0045-0001.jpeg',\n",
       " 'data/test/Normal/IM-0046-0001.jpeg',\n",
       " 'data/test/Normal/IM-0049-0001.jpeg',\n",
       " 'data/test/Normal/IM-0050-0001.jpeg',\n",
       " 'data/test/Normal/IM-0059-0001.jpeg',\n",
       " 'data/test/Normal/IM-0061-0001.jpeg',\n",
       " 'data/test/Normal/IM-0063-0001.jpeg',\n",
       " 'data/test/Normal/IM-0065-0001.jpeg',\n",
       " 'data/test/Normal/IM-0067-0001.jpeg',\n",
       " 'data/test/Normal/IM-0069-0001.jpeg',\n",
       " 'data/test/Normal/IM-0070-0001.jpeg',\n",
       " 'data/test/Normal/IM-0071-0001.jpeg',\n",
       " 'data/test/Normal/IM-0073-0001.jpeg',\n",
       " 'data/test/Normal/IM-0075-0001.jpeg',\n",
       " 'data/test/Normal/IM-0077-0001.jpeg',\n",
       " 'data/test/Normal/IM-0079-0001.jpeg',\n",
       " 'data/test/Normal/IM-0081-0001.jpeg',\n",
       " 'data/test/Normal/IM-0083-0001.jpeg',\n",
       " 'data/test/Normal/IM-0084-0001.jpeg',\n",
       " 'data/test/Normal/IM-0085-0001.jpeg',\n",
       " 'data/test/Normal/IM-0086-0001.jpeg',\n",
       " 'data/test/Normal/IM-0087-0001.jpeg',\n",
       " 'data/test/Normal/IM-0089-0001.jpeg',\n",
       " 'data/test/Normal/IM-0091-0001.jpeg',\n",
       " 'data/test/Normal/IM-0093-0001.jpeg',\n",
       " 'data/test/Normal/IM-0095-0001.jpeg',\n",
       " 'data/test/Normal/IM-0097-0001.jpeg',\n",
       " 'data/test/Normal/IM-0099-0001.jpeg',\n",
       " 'data/test/Normal/IM-0101-0001.jpeg',\n",
       " 'data/test/Normal/IM-0102-0001.jpeg',\n",
       " 'data/test/Normal/IM-0103-0001.jpeg',\n",
       " 'data/test/Normal/IM-0105-0001.jpeg',\n",
       " 'data/test/Normal/IM-0107-0001.jpeg',\n",
       " 'data/test/Normal/IM-0109-0001.jpeg',\n",
       " 'data/test/Normal/IM-0110-0001.jpeg',\n",
       " 'data/test/Normal/IM-0111-0001.jpeg',\n",
       " 'data/test/Normal/NORMAL2-IM-0007-0001.jpeg',\n",
       " 'data/test/Normal/NORMAL2-IM-0012-0001.jpeg',\n",
       " 'data/test/Normal/NORMAL2-IM-0013-0001.jpeg',\n",
       " 'data/test/Normal/NORMAL2-IM-0019-0001.jpeg',\n",
       " 'data/test/Normal/NORMAL2-IM-0023-0001.jpeg',\n",
       " 'data/test/Normal/NORMAL2-IM-0027-0001.jpeg',\n",
       " 'data/test/Normal/NORMAL2-IM-0028-0001.jpeg',\n",
       " 'data/test/Normal/NORMAL2-IM-0029-0001.jpeg',\n",
       " 'data/test/Normal/NORMAL2-IM-0030-0001.jpeg',\n",
       " 'data/test/Normal/NORMAL2-IM-0033-0001.jpeg',\n",
       " 'data/test/Normal/NORMAL2-IM-0035-0001.jpeg',\n",
       " 'data/test/Normal/NORMAL2-IM-0041-0001.jpeg',\n",
       " 'data/test/Normal/NORMAL2-IM-0045-0001.jpeg',\n",
       " 'data/test/Normal/NORMAL2-IM-0051-0001.jpeg',\n",
       " 'data/test/Normal/NORMAL2-IM-0052-0001.jpeg',\n",
       " 'data/test/Normal/NORMAL2-IM-0058-0001.jpeg',\n",
       " 'data/test/Normal/NORMAL2-IM-0059-0001.jpeg',\n",
       " 'data/test/Normal/NORMAL2-IM-0060-0001.jpeg',\n",
       " 'data/test/Normal/NORMAL2-IM-0066-0001.jpeg',\n",
       " 'data/test/Normal/NORMAL2-IM-0072-0001.jpeg',\n",
       " 'data/test/Normal/NORMAL2-IM-0073-0001.jpeg',\n",
       " 'data/test/Normal/NORMAL2-IM-0079-0001.jpeg',\n",
       " 'data/test/Normal/NORMAL2-IM-0081-0001.jpeg',\n",
       " 'data/test/Normal/NORMAL2-IM-0086-0001.jpeg',\n",
       " 'data/test/Normal/NORMAL2-IM-0092-0001.jpeg',\n",
       " 'data/test/Normal/NORMAL2-IM-0095-0001.jpeg',\n",
       " 'data/test/Normal/NORMAL2-IM-0096-0001.jpeg',\n",
       " 'data/test/Normal/NORMAL2-IM-0098-0001.jpeg',\n",
       " 'data/test/Normal/NORMAL2-IM-0102-0001.jpeg',\n",
       " 'data/test/Normal/NORMAL2-IM-0105-0001.jpeg',\n",
       " 'data/test/Normal/NORMAL2-IM-0107-0001.jpeg',\n",
       " 'data/test/Normal/NORMAL2-IM-0110-0001.jpeg',\n",
       " 'data/test/Normal/NORMAL2-IM-0111-0001.jpeg',\n",
       " 'data/test/Normal/NORMAL2-IM-0112-0001.jpeg',\n",
       " 'data/test/Normal/NORMAL2-IM-0117-0001.jpeg',\n",
       " 'data/test/Normal/NORMAL2-IM-0120-0001.jpeg',\n",
       " 'data/test/Normal/NORMAL2-IM-0123-0001.jpeg',\n",
       " 'data/test/Normal/NORMAL2-IM-0129-0001.jpeg',\n",
       " 'data/test/Normal/NORMAL2-IM-0130-0001.jpeg',\n",
       " 'data/test/Normal/NORMAL2-IM-0131-0001.jpeg',\n",
       " 'data/test/Normal/NORMAL2-IM-0132-0001.jpeg',\n",
       " 'data/test/Normal/NORMAL2-IM-0135-0001.jpeg',\n",
       " 'data/test/Normal/NORMAL2-IM-0139-0001.jpeg',\n",
       " 'data/test/Normal/NORMAL2-IM-0141-0001.jpeg',\n",
       " 'data/test/Normal/NORMAL2-IM-0145-0001.jpeg',\n",
       " 'data/test/Normal/NORMAL2-IM-0146-0001.jpeg',\n",
       " 'data/test/Normal/NORMAL2-IM-0150-0001.jpeg',\n",
       " 'data/test/Normal/NORMAL2-IM-0171-0001.jpeg',\n",
       " 'data/test/Normal/NORMAL2-IM-0173-0001-0001.jpeg',\n",
       " 'data/test/Normal/NORMAL2-IM-0173-0001-0002.jpeg',\n",
       " 'data/test/Normal/NORMAL2-IM-0195-0001.jpeg',\n",
       " 'data/test/Normal/NORMAL2-IM-0196-0001.jpeg',\n",
       " 'data/test/Normal/NORMAL2-IM-0198-0001.jpeg',\n",
       " 'data/test/Normal/NORMAL2-IM-0199-0001.jpeg',\n",
       " 'data/test/Normal/NORMAL2-IM-0201-0001.jpeg',\n",
       " 'data/test/Normal/NORMAL2-IM-0206-0001.jpeg',\n",
       " 'data/test/Normal/NORMAL2-IM-0207-0001.jpeg',\n",
       " 'data/test/Normal/NORMAL2-IM-0210-0001.jpeg',\n",
       " 'data/test/Normal/NORMAL2-IM-0213-0001.jpeg',\n",
       " 'data/test/Normal/NORMAL2-IM-0217-0001.jpeg',\n",
       " 'data/test/Normal/NORMAL2-IM-0219-0001.jpeg',\n",
       " 'data/test/Normal/NORMAL2-IM-0221-0001.jpeg',\n",
       " 'data/test/Normal/NORMAL2-IM-0222-0001.jpeg',\n",
       " 'data/test/Normal/NORMAL2-IM-0229-0001.jpeg',\n",
       " 'data/test/Normal/NORMAL2-IM-0232-0001.jpeg',\n",
       " 'data/test/Normal/NORMAL2-IM-0233-0001.jpeg',\n",
       " 'data/test/Normal/NORMAL2-IM-0237-0001.jpeg',\n",
       " 'data/test/Normal/NORMAL2-IM-0238-0001.jpeg',\n",
       " 'data/test/Normal/NORMAL2-IM-0241-0001.jpeg',\n",
       " 'data/test/Normal/NORMAL2-IM-0246-0001-0001.jpeg',\n",
       " 'data/test/Normal/NORMAL2-IM-0246-0001-0002.jpeg',\n",
       " 'data/test/Normal/NORMAL2-IM-0246-0001.jpeg',\n",
       " 'data/test/Normal/NORMAL2-IM-0249-0001.jpeg',\n",
       " 'data/test/Normal/NORMAL2-IM-0251-0001.jpeg',\n",
       " 'data/test/Normal/NORMAL2-IM-0252-0001.jpeg',\n",
       " 'data/test/Normal/NORMAL2-IM-0256-0001.jpeg',\n",
       " 'data/test/Normal/NORMAL2-IM-0259-0001.jpeg',\n",
       " 'data/test/Normal/NORMAL2-IM-0267-0001.jpeg',\n",
       " 'data/test/Normal/NORMAL2-IM-0271-0001.jpeg',\n",
       " 'data/test/Normal/NORMAL2-IM-0272-0001.jpeg',\n",
       " 'data/test/Normal/NORMAL2-IM-0273-0001.jpeg',\n",
       " 'data/test/Normal/NORMAL2-IM-0274-0001.jpeg',\n",
       " 'data/test/Normal/NORMAL2-IM-0275-0001.jpeg',\n",
       " 'data/test/Normal/NORMAL2-IM-0276-0001.jpeg',\n",
       " 'data/test/Normal/NORMAL2-IM-0277-0001.jpeg',\n",
       " 'data/test/Normal/NORMAL2-IM-0278-0001.jpeg',\n",
       " 'data/test/Normal/NORMAL2-IM-0279-0001.jpeg',\n",
       " 'data/test/Normal/NORMAL2-IM-0280-0001.jpeg',\n",
       " 'data/test/Normal/NORMAL2-IM-0281-0001.jpeg',\n",
       " 'data/test/Normal/NORMAL2-IM-0282-0001.jpeg',\n",
       " 'data/test/Normal/NORMAL2-IM-0283-0001.jpeg',\n",
       " 'data/test/Normal/NORMAL2-IM-0285-0001.jpeg',\n",
       " 'data/test/Normal/NORMAL2-IM-0286-0001.jpeg',\n",
       " 'data/test/Normal/NORMAL2-IM-0287-0001.jpeg',\n",
       " 'data/test/Normal/NORMAL2-IM-0288-0001.jpeg',\n",
       " 'data/test/Normal/NORMAL2-IM-0289-0001.jpeg',\n",
       " 'data/test/Normal/NORMAL2-IM-0290-0001.jpeg',\n",
       " 'data/test/Normal/NORMAL2-IM-0292-0001.jpeg',\n",
       " 'data/test/Normal/NORMAL2-IM-0294-0001.jpeg',\n",
       " 'data/test/Normal/NORMAL2-IM-0297-0001.jpeg',\n",
       " 'data/test/Normal/NORMAL2-IM-0300-0001.jpeg',\n",
       " 'data/test/Normal/NORMAL2-IM-0301-0001.jpeg',\n",
       " 'data/test/Normal/NORMAL2-IM-0302-0001.jpeg',\n",
       " 'data/test/Normal/NORMAL2-IM-0303-0001.jpeg',\n",
       " 'data/test/Normal/NORMAL2-IM-0304-0001.jpeg',\n",
       " 'data/test/Normal/NORMAL2-IM-0305-0001.jpeg',\n",
       " 'data/test/Normal/NORMAL2-IM-0307-0001.jpeg',\n",
       " 'data/test/Normal/NORMAL2-IM-0309-0001.jpeg',\n",
       " 'data/test/Normal/NORMAL2-IM-0310-0001.jpeg',\n",
       " 'data/test/Normal/NORMAL2-IM-0311-0001.jpeg',\n",
       " 'data/test/Normal/NORMAL2-IM-0312-0001.jpeg',\n",
       " 'data/test/Normal/NORMAL2-IM-0313-0001.jpeg',\n",
       " 'data/test/Normal/NORMAL2-IM-0315-0001.jpeg',\n",
       " 'data/test/Normal/NORMAL2-IM-0316-0001.jpeg',\n",
       " 'data/test/Normal/NORMAL2-IM-0317-0001.jpeg',\n",
       " 'data/test/Normal/NORMAL2-IM-0319-0001.jpeg',\n",
       " 'data/test/Normal/NORMAL2-IM-0321-0001.jpeg',\n",
       " 'data/test/Normal/NORMAL2-IM-0322-0001.jpeg',\n",
       " 'data/test/Normal/NORMAL2-IM-0323-0001.jpeg',\n",
       " 'data/test/Normal/NORMAL2-IM-0325-0001.jpeg',\n",
       " 'data/test/Normal/NORMAL2-IM-0326-0001.jpeg',\n",
       " 'data/test/Normal/NORMAL2-IM-0327-0001.jpeg',\n",
       " 'data/test/Normal/NORMAL2-IM-0328-0001.jpeg',\n",
       " 'data/test/Normal/NORMAL2-IM-0329-0001.jpeg',\n",
       " 'data/test/Normal/NORMAL2-IM-0330-0001.jpeg',\n",
       " 'data/test/Normal/NORMAL2-IM-0331-0001.jpeg',\n",
       " 'data/test/Normal/NORMAL2-IM-0332-0001.jpeg',\n",
       " 'data/test/Normal/NORMAL2-IM-0333-0001.jpeg',\n",
       " 'data/test/Normal/NORMAL2-IM-0335-0001.jpeg',\n",
       " 'data/test/Normal/NORMAL2-IM-0336-0001.jpeg',\n",
       " 'data/test/Normal/NORMAL2-IM-0337-0001.jpeg',\n",
       " 'data/test/Normal/NORMAL2-IM-0338-0001.jpeg',\n",
       " 'data/test/Normal/NORMAL2-IM-0339-0001.jpeg',\n",
       " 'data/test/Normal/NORMAL2-IM-0340-0001.jpeg',\n",
       " 'data/test/Normal/NORMAL2-IM-0341-0001.jpeg',\n",
       " 'data/test/Normal/NORMAL2-IM-0343-0001.jpeg',\n",
       " 'data/test/Normal/NORMAL2-IM-0345-0001.jpeg',\n",
       " 'data/test/Normal/NORMAL2-IM-0346-0001.jpeg',\n",
       " 'data/test/Normal/NORMAL2-IM-0347-0001.jpeg',\n",
       " 'data/test/Normal/NORMAL2-IM-0348-0001.jpeg',\n",
       " 'data/test/Normal/NORMAL2-IM-0349-0001.jpeg',\n",
       " 'data/test/Normal/NORMAL2-IM-0350-0001.jpeg',\n",
       " 'data/test/Normal/NORMAL2-IM-0351-0001.jpeg',\n",
       " 'data/test/Normal/NORMAL2-IM-0352-0001.jpeg',\n",
       " 'data/test/Normal/NORMAL2-IM-0353-0001.jpeg',\n",
       " 'data/test/Normal/NORMAL2-IM-0354-0001.jpeg',\n",
       " 'data/test/Normal/NORMAL2-IM-0357-0001.jpeg',\n",
       " 'data/test/Normal/NORMAL2-IM-0359-0001.jpeg',\n",
       " 'data/test/Normal/NORMAL2-IM-0360-0001.jpeg',\n",
       " 'data/test/Normal/NORMAL2-IM-0361-0001.jpeg',\n",
       " 'data/test/Normal/NORMAL2-IM-0362-0001.jpeg',\n",
       " 'data/test/Normal/NORMAL2-IM-0364-0001.jpeg',\n",
       " 'data/test/Normal/NORMAL2-IM-0366-0001.jpeg',\n",
       " 'data/test/Normal/NORMAL2-IM-0368-0001.jpeg',\n",
       " 'data/test/Normal/NORMAL2-IM-0369-0001.jpeg',\n",
       " 'data/test/Normal/NORMAL2-IM-0370-0001.jpeg',\n",
       " 'data/test/Normal/NORMAL2-IM-0372-0001.jpeg',\n",
       " 'data/test/Normal/NORMAL2-IM-0373-0001.jpeg',\n",
       " 'data/test/Normal/NORMAL2-IM-0374-0001-0001.jpeg',\n",
       " 'data/test/Normal/NORMAL2-IM-0374-0001-0002.jpeg',\n",
       " 'data/test/Normal/NORMAL2-IM-0374-0001.jpeg',\n",
       " 'data/test/Normal/NORMAL2-IM-0376-0001.jpeg',\n",
       " 'data/test/Normal/NORMAL2-IM-0378-0001.jpeg',\n",
       " 'data/test/Normal/NORMAL2-IM-0380-0001.jpeg',\n",
       " 'data/test/Normal/NORMAL2-IM-0381-0001.jpeg',\n",
       " 'data/test/Pnemonia-Virus-COVID-19/',\n",
       " 'data/test/Pnemonia-Virus-COVID-19/foto_aug_0_0.jpg',\n",
       " 'data/test/Pnemonia-Virus-COVID-19/foto_aug_0_1.jpg',\n",
       " 'data/test/Pnemonia-Virus-COVID-19/foto_aug_0_10.jpg',\n",
       " 'data/test/Pnemonia-Virus-COVID-19/foto_aug_0_11.jpg',\n",
       " 'data/test/Pnemonia-Virus-COVID-19/foto_aug_0_12.jpg',\n",
       " 'data/test/Pnemonia-Virus-COVID-19/foto_aug_0_13.jpg',\n",
       " 'data/test/Pnemonia-Virus-COVID-19/foto_aug_0_14.jpg',\n",
       " 'data/test/Pnemonia-Virus-COVID-19/foto_aug_0_15.jpg',\n",
       " 'data/test/Pnemonia-Virus-COVID-19/foto_aug_0_16.jpg',\n",
       " 'data/test/Pnemonia-Virus-COVID-19/foto_aug_0_17.jpg',\n",
       " 'data/test/Pnemonia-Virus-COVID-19/foto_aug_0_18.jpg',\n",
       " 'data/test/Pnemonia-Virus-COVID-19/foto_aug_0_19.jpg',\n",
       " 'data/test/Pnemonia-Virus-COVID-19/foto_aug_0_2.jpg',\n",
       " 'data/test/Pnemonia-Virus-COVID-19/foto_aug_0_20.jpg',\n",
       " 'data/test/Pnemonia-Virus-COVID-19/foto_aug_0_21.jpg',\n",
       " 'data/test/Pnemonia-Virus-COVID-19/foto_aug_0_22.jpg',\n",
       " 'data/test/Pnemonia-Virus-COVID-19/foto_aug_0_23.jpg',\n",
       " 'data/test/Pnemonia-Virus-COVID-19/foto_aug_0_24.jpg',\n",
       " 'data/test/Pnemonia-Virus-COVID-19/foto_aug_0_3.jpg',\n",
       " 'data/test/Pnemonia-Virus-COVID-19/foto_aug_0_4.jpg',\n",
       " 'data/test/Pnemonia-Virus-COVID-19/foto_aug_0_5.jpg',\n",
       " 'data/test/Pnemonia-Virus-COVID-19/foto_aug_0_6.jpg',\n",
       " 'data/test/Pnemonia-Virus-COVID-19/foto_aug_0_7.jpg',\n",
       " 'data/test/Pnemonia-Virus-COVID-19/foto_aug_0_8.jpg',\n",
       " 'data/test/Pnemonia-Virus-COVID-19/foto_aug_0_9.jpg',\n",
       " 'data/test/Pnemonia-Virus-COVID-19/foto_aug_1_0.jpg',\n",
       " 'data/test/Pnemonia-Virus-COVID-19/foto_aug_1_1.jpg',\n",
       " 'data/test/Pnemonia-Virus-COVID-19/foto_aug_1_10.jpg',\n",
       " 'data/test/Pnemonia-Virus-COVID-19/foto_aug_1_11.jpg',\n",
       " 'data/test/Pnemonia-Virus-COVID-19/foto_aug_1_12.jpg',\n",
       " 'data/test/Pnemonia-Virus-COVID-19/foto_aug_1_13.jpg',\n",
       " 'data/test/Pnemonia-Virus-COVID-19/foto_aug_1_14.jpg',\n",
       " 'data/test/Pnemonia-Virus-COVID-19/foto_aug_1_15.jpg',\n",
       " 'data/test/Pnemonia-Virus-COVID-19/foto_aug_1_16.jpg',\n",
       " 'data/test/Pnemonia-Virus-COVID-19/foto_aug_1_17.jpg',\n",
       " 'data/test/Pnemonia-Virus-COVID-19/foto_aug_1_18.jpg',\n",
       " 'data/test/Pnemonia-Virus-COVID-19/foto_aug_1_19.jpg',\n",
       " 'data/test/Pnemonia-Virus-COVID-19/foto_aug_1_2.jpg',\n",
       " 'data/test/Pnemonia-Virus-COVID-19/foto_aug_1_20.jpg',\n",
       " 'data/test/Pnemonia-Virus-COVID-19/foto_aug_1_21.jpg',\n",
       " 'data/test/Pnemonia-Virus-COVID-19/foto_aug_1_22.jpg',\n",
       " 'data/test/Pnemonia-Virus-COVID-19/foto_aug_1_23.jpg',\n",
       " 'data/test/Pnemonia-Virus-COVID-19/foto_aug_1_24.jpg',\n",
       " 'data/test/Pnemonia-Virus-COVID-19/foto_aug_1_3.jpg',\n",
       " 'data/test/Pnemonia-Virus-COVID-19/foto_aug_1_4.jpg',\n",
       " 'data/test/Pnemonia-Virus-COVID-19/foto_aug_1_5.jpg',\n",
       " 'data/test/Pnemonia-Virus-COVID-19/foto_aug_1_6.jpg',\n",
       " 'data/test/Pnemonia-Virus-COVID-19/foto_aug_1_7.jpg',\n",
       " 'data/test/Pnemonia-Virus-COVID-19/foto_aug_1_8.jpg',\n",
       " 'data/test/Pnemonia-Virus-COVID-19/foto_aug_1_9.jpg',\n",
       " 'data/test/Pnemonia-Virus-COVID-19/foto_aug_2_0.jpg',\n",
       " 'data/test/Pnemonia-Virus-COVID-19/foto_aug_2_1.jpg',\n",
       " 'data/test/Pnemonia-Virus-COVID-19/foto_aug_2_10.jpg',\n",
       " 'data/test/Pnemonia-Virus-COVID-19/foto_aug_2_11.jpg',\n",
       " 'data/test/Pnemonia-Virus-COVID-19/foto_aug_2_12.jpg',\n",
       " 'data/test/Pnemonia-Virus-COVID-19/foto_aug_2_13.jpg',\n",
       " 'data/test/Pnemonia-Virus-COVID-19/foto_aug_2_14.jpg',\n",
       " 'data/test/Pnemonia-Virus-COVID-19/foto_aug_2_15.jpg',\n",
       " 'data/test/Pnemonia-Virus-COVID-19/foto_aug_2_16.jpg',\n",
       " 'data/test/Pnemonia-Virus-COVID-19/foto_aug_2_17.jpg',\n",
       " 'data/test/Pnemonia-Virus-COVID-19/foto_aug_2_18.jpg',\n",
       " 'data/test/Pnemonia-Virus-COVID-19/foto_aug_2_19.jpg',\n",
       " 'data/test/Pnemonia-Virus-COVID-19/foto_aug_2_2.jpg',\n",
       " 'data/test/Pnemonia-Virus-COVID-19/foto_aug_2_20.jpg',\n",
       " 'data/test/Pnemonia-Virus-COVID-19/foto_aug_2_21.jpg',\n",
       " 'data/test/Pnemonia-Virus-COVID-19/foto_aug_2_22.jpg',\n",
       " 'data/test/Pnemonia-Virus-COVID-19/foto_aug_2_23.jpg',\n",
       " 'data/test/Pnemonia-Virus-COVID-19/foto_aug_2_24.jpg',\n",
       " 'data/test/Pnemonia-Virus-COVID-19/foto_aug_2_3.jpg',\n",
       " 'data/test/Pnemonia-Virus-COVID-19/foto_aug_2_4.jpg',\n",
       " 'data/test/Pnemonia-Virus-COVID-19/foto_aug_2_5.jpg',\n",
       " 'data/test/Pnemonia-Virus-COVID-19/foto_aug_2_6.jpg',\n",
       " 'data/test/Pnemonia-Virus-COVID-19/foto_aug_2_7.jpg',\n",
       " 'data/test/Pnemonia-Virus-COVID-19/foto_aug_2_8.jpg',\n",
       " 'data/test/Pnemonia-Virus-COVID-19/foto_aug_2_9.jpg',\n",
       " 'data/test/Pnemonia-Virus-COVID-19/foto_aug_3_0.jpg',\n",
       " 'data/test/Pnemonia-Virus-COVID-19/foto_aug_3_1.jpg',\n",
       " 'data/test/Pnemonia-Virus-COVID-19/foto_aug_3_10.jpg',\n",
       " 'data/test/Pnemonia-Virus-COVID-19/foto_aug_3_11.jpg',\n",
       " 'data/test/Pnemonia-Virus-COVID-19/foto_aug_3_12.jpg',\n",
       " 'data/test/Pnemonia-Virus-COVID-19/foto_aug_3_13.jpg',\n",
       " 'data/test/Pnemonia-Virus-COVID-19/foto_aug_3_14.jpg',\n",
       " 'data/test/Pnemonia-Virus-COVID-19/foto_aug_3_15.jpg',\n",
       " 'data/test/Pnemonia-Virus-COVID-19/foto_aug_3_16.jpg',\n",
       " 'data/test/Pnemonia-Virus-COVID-19/foto_aug_3_17.jpg',\n",
       " 'data/test/Pnemonia-Virus-COVID-19/foto_aug_3_18.jpg',\n",
       " 'data/test/Pnemonia-Virus-COVID-19/foto_aug_3_19.jpg',\n",
       " 'data/test/Pnemonia-Virus-COVID-19/foto_aug_3_2.jpg',\n",
       " 'data/test/Pnemonia-Virus-COVID-19/foto_aug_3_20.jpg',\n",
       " 'data/test/Pnemonia-Virus-COVID-19/foto_aug_3_21.jpg',\n",
       " 'data/test/Pnemonia-Virus-COVID-19/foto_aug_3_22.jpg',\n",
       " 'data/test/Pnemonia-Virus-COVID-19/foto_aug_3_23.jpg',\n",
       " 'data/test/Pnemonia-Virus-COVID-19/foto_aug_3_24.jpg',\n",
       " 'data/test/Pnemonia-Virus-COVID-19/foto_aug_3_3.jpg',\n",
       " 'data/test/Pnemonia-Virus-COVID-19/foto_aug_3_4.jpg',\n",
       " 'data/test/Pnemonia-Virus-COVID-19/foto_aug_3_5.jpg',\n",
       " 'data/test/Pnemonia-Virus-COVID-19/foto_aug_3_6.jpg',\n",
       " 'data/test/Pnemonia-Virus-COVID-19/foto_aug_3_7.jpg',\n",
       " 'data/test/Pnemonia-Virus-COVID-19/foto_aug_3_8.jpg',\n",
       " 'data/test/Pnemonia-Virus-COVID-19/foto_aug_3_9.jpg',\n",
       " 'data/test/Pnemonia-Virus-COVID-19/foto_aug_4_0.jpg',\n",
       " 'data/test/Pnemonia-Virus-COVID-19/foto_aug_4_1.jpg',\n",
       " 'data/test/Pnemonia-Virus-COVID-19/foto_aug_4_10.jpg',\n",
       " 'data/test/Pnemonia-Virus-COVID-19/foto_aug_4_11.jpg',\n",
       " 'data/test/Pnemonia-Virus-COVID-19/foto_aug_4_12.jpg',\n",
       " 'data/test/Pnemonia-Virus-COVID-19/foto_aug_4_13.jpg',\n",
       " 'data/test/Pnemonia-Virus-COVID-19/foto_aug_4_14.jpg',\n",
       " 'data/test/Pnemonia-Virus-COVID-19/foto_aug_4_15.jpg',\n",
       " 'data/test/Pnemonia-Virus-COVID-19/foto_aug_4_16.jpg',\n",
       " 'data/test/Pnemonia-Virus-COVID-19/foto_aug_4_17.jpg',\n",
       " 'data/test/Pnemonia-Virus-COVID-19/foto_aug_4_18.jpg',\n",
       " 'data/test/Pnemonia-Virus-COVID-19/foto_aug_4_19.jpg',\n",
       " 'data/test/Pnemonia-Virus-COVID-19/foto_aug_4_2.jpg',\n",
       " 'data/test/Pnemonia-Virus-COVID-19/foto_aug_4_20.jpg',\n",
       " 'data/test/Pnemonia-Virus-COVID-19/foto_aug_4_21.jpg',\n",
       " 'data/test/Pnemonia-Virus-COVID-19/foto_aug_4_22.jpg',\n",
       " 'data/test/Pnemonia-Virus-COVID-19/foto_aug_4_23.jpg',\n",
       " 'data/test/Pnemonia-Virus-COVID-19/foto_aug_4_24.jpg',\n",
       " 'data/test/Pnemonia-Virus-COVID-19/foto_aug_4_3.jpg',\n",
       " 'data/test/Pnemonia-Virus-COVID-19/foto_aug_4_4.jpg',\n",
       " 'data/test/Pnemonia-Virus-COVID-19/foto_aug_4_5.jpg',\n",
       " 'data/test/Pnemonia-Virus-COVID-19/foto_aug_4_6.jpg',\n",
       " 'data/test/Pnemonia-Virus-COVID-19/foto_aug_4_7.jpg',\n",
       " 'data/test/Pnemonia-Virus-COVID-19/foto_aug_4_8.jpg',\n",
       " 'data/test/Pnemonia-Virus-COVID-19/foto_aug_4_9.jpg',\n",
       " 'data/test/Pnemonia-Virus-COVID-19/foto_aug_5_0.jpg',\n",
       " 'data/test/Pnemonia-Virus-COVID-19/foto_aug_5_1.jpg',\n",
       " 'data/test/Pnemonia-Virus-COVID-19/foto_aug_5_10.jpg',\n",
       " 'data/test/Pnemonia-Virus-COVID-19/foto_aug_5_11.jpg',\n",
       " 'data/test/Pnemonia-Virus-COVID-19/foto_aug_5_12.jpg',\n",
       " 'data/test/Pnemonia-Virus-COVID-19/foto_aug_5_13.jpg',\n",
       " 'data/test/Pnemonia-Virus-COVID-19/foto_aug_5_14.jpg',\n",
       " 'data/test/Pnemonia-Virus-COVID-19/foto_aug_5_15.jpg',\n",
       " 'data/test/Pnemonia-Virus-COVID-19/foto_aug_5_16.jpg',\n",
       " 'data/test/Pnemonia-Virus-COVID-19/foto_aug_5_17.jpg',\n",
       " 'data/test/Pnemonia-Virus-COVID-19/foto_aug_5_18.jpg',\n",
       " 'data/test/Pnemonia-Virus-COVID-19/foto_aug_5_19.jpg',\n",
       " 'data/test/Pnemonia-Virus-COVID-19/foto_aug_5_2.jpg',\n",
       " 'data/test/Pnemonia-Virus-COVID-19/foto_aug_5_20.jpg',\n",
       " 'data/test/Pnemonia-Virus-COVID-19/foto_aug_5_21.jpg',\n",
       " 'data/test/Pnemonia-Virus-COVID-19/foto_aug_5_22.jpg',\n",
       " 'data/test/Pnemonia-Virus-COVID-19/foto_aug_5_23.jpg',\n",
       " 'data/test/Pnemonia-Virus-COVID-19/foto_aug_5_24.jpg',\n",
       " 'data/test/Pnemonia-Virus-COVID-19/foto_aug_5_3.jpg',\n",
       " 'data/test/Pnemonia-Virus-COVID-19/foto_aug_5_4.jpg',\n",
       " 'data/test/Pnemonia-Virus-COVID-19/foto_aug_5_5.jpg',\n",
       " 'data/test/Pnemonia-Virus-COVID-19/foto_aug_5_6.jpg',\n",
       " 'data/test/Pnemonia-Virus-COVID-19/foto_aug_5_7.jpg',\n",
       " 'data/test/Pnemonia-Virus-COVID-19/foto_aug_5_8.jpg',\n",
       " 'data/test/Pnemonia-Virus-COVID-19/foto_aug_5_9.jpg',\n",
       " 'data/test/Pnemonia-Virus-COVID-19/foto_aug_6_0.jpg',\n",
       " 'data/test/Pnemonia-Virus-COVID-19/foto_aug_6_1.jpg',\n",
       " 'data/test/Pnemonia-Virus-COVID-19/foto_aug_6_10.jpg',\n",
       " 'data/test/Pnemonia-Virus-COVID-19/foto_aug_6_11.jpg',\n",
       " 'data/test/Pnemonia-Virus-COVID-19/foto_aug_6_12.jpg',\n",
       " 'data/test/Pnemonia-Virus-COVID-19/foto_aug_6_13.jpg',\n",
       " 'data/test/Pnemonia-Virus-COVID-19/foto_aug_6_14.jpg',\n",
       " 'data/test/Pnemonia-Virus-COVID-19/foto_aug_6_15.jpg',\n",
       " 'data/test/Pnemonia-Virus-COVID-19/foto_aug_6_16.jpg',\n",
       " 'data/test/Pnemonia-Virus-COVID-19/foto_aug_6_17.jpg',\n",
       " 'data/test/Pnemonia-Virus-COVID-19/foto_aug_6_18.jpg',\n",
       " 'data/test/Pnemonia-Virus-COVID-19/foto_aug_6_19.jpg',\n",
       " 'data/test/Pnemonia-Virus-COVID-19/foto_aug_6_2.jpg',\n",
       " 'data/test/Pnemonia-Virus-COVID-19/foto_aug_6_20.jpg',\n",
       " 'data/test/Pnemonia-Virus-COVID-19/foto_aug_6_21.jpg',\n",
       " 'data/test/Pnemonia-Virus-COVID-19/foto_aug_6_22.jpg',\n",
       " 'data/test/Pnemonia-Virus-COVID-19/foto_aug_6_23.jpg',\n",
       " 'data/test/Pnemonia-Virus-COVID-19/foto_aug_6_24.jpg',\n",
       " 'data/test/Pnemonia-Virus-COVID-19/foto_aug_6_3.jpg',\n",
       " 'data/test/Pnemonia-Virus-COVID-19/foto_aug_6_4.jpg',\n",
       " 'data/test/Pnemonia-Virus-COVID-19/foto_aug_6_5.jpg',\n",
       " 'data/test/Pnemonia-Virus-COVID-19/foto_aug_6_6.jpg',\n",
       " 'data/test/Pnemonia-Virus-COVID-19/foto_aug_6_7.jpg',\n",
       " 'data/test/Pnemonia-Virus-COVID-19/foto_aug_6_8.jpg',\n",
       " 'data/test/Pnemonia-Virus-COVID-19/foto_aug_6_9.jpg',\n",
       " 'data/test/Pnemonia-Virus-COVID-19/foto_aug_7_0.jpg',\n",
       " 'data/test/Pnemonia-Virus-COVID-19/foto_aug_7_1.jpg',\n",
       " 'data/test/Pnemonia-Virus-COVID-19/foto_aug_7_10.jpg',\n",
       " 'data/test/Pnemonia-Virus-COVID-19/foto_aug_7_11.jpg',\n",
       " 'data/test/Pnemonia-Virus-COVID-19/foto_aug_7_12.jpg',\n",
       " 'data/test/Pnemonia-Virus-COVID-19/foto_aug_7_13.jpg',\n",
       " 'data/test/Pnemonia-Virus-COVID-19/foto_aug_7_14.jpg',\n",
       " 'data/test/Pnemonia-Virus-COVID-19/foto_aug_7_15.jpg',\n",
       " 'data/test/Pnemonia-Virus-COVID-19/foto_aug_7_16.jpg',\n",
       " 'data/test/Pnemonia-Virus-COVID-19/foto_aug_7_17.jpg',\n",
       " 'data/test/Pnemonia-Virus-COVID-19/foto_aug_7_18.jpg',\n",
       " 'data/test/Pnemonia-Virus-COVID-19/foto_aug_7_19.jpg',\n",
       " 'data/test/Pnemonia-Virus-COVID-19/foto_aug_7_2.jpg',\n",
       " 'data/test/Pnemonia-Virus-COVID-19/foto_aug_7_20.jpg',\n",
       " 'data/test/Pnemonia-Virus-COVID-19/foto_aug_7_21.jpg',\n",
       " 'data/test/Pnemonia-Virus-COVID-19/foto_aug_7_22.jpg',\n",
       " 'data/test/Pnemonia-Virus-COVID-19/foto_aug_7_23.jpg',\n",
       " 'data/test/Pnemonia-Virus-COVID-19/foto_aug_7_24.jpg',\n",
       " 'data/test/Pnemonia-Virus-COVID-19/foto_aug_7_3.jpg',\n",
       " 'data/test/Pnemonia-Virus-COVID-19/foto_aug_7_4.jpg',\n",
       " 'data/test/Pnemonia-Virus-COVID-19/foto_aug_7_5.jpg',\n",
       " 'data/test/Pnemonia-Virus-COVID-19/foto_aug_7_6.jpg',\n",
       " 'data/test/Pnemonia-Virus-COVID-19/foto_aug_7_7.jpg',\n",
       " 'data/test/Pnemonia-Virus-COVID-19/foto_aug_7_8.jpg',\n",
       " 'data/test/Pnemonia-Virus-COVID-19/foto_aug_7_9.jpg',\n",
       " 'data/test/Pnemonia-Virus/',\n",
       " 'data/test/Pnemonia-Virus/person10_virus_35.jpeg',\n",
       " 'data/test/Pnemonia-Virus/person11_virus_38.jpeg',\n",
       " 'data/test/Pnemonia-Virus/person14_virus_44.jpeg',\n",
       " 'data/test/Pnemonia-Virus/person15_virus_46.jpeg',\n",
       " 'data/test/Pnemonia-Virus/person1608_virus_2786.jpeg',\n",
       " 'data/test/Pnemonia-Virus/person1610_virus_2793.jpeg',\n",
       " 'data/test/Pnemonia-Virus/person1612_virus_2797.jpeg',\n",
       " 'data/test/Pnemonia-Virus/person1612_virus_2798.jpeg',\n",
       " 'data/test/Pnemonia-Virus/person1613_virus_2799.jpeg',\n",
       " 'data/test/Pnemonia-Virus/person1614_virus_2800.jpeg',\n",
       " 'data/test/Pnemonia-Virus/person1615_virus_2801.jpeg',\n",
       " 'data/test/Pnemonia-Virus/person1616_virus_2802.jpeg',\n",
       " 'data/test/Pnemonia-Virus/person1618_virus_2805.jpeg',\n",
       " 'data/test/Pnemonia-Virus/person1619_virus_2806.jpeg',\n",
       " 'data/test/Pnemonia-Virus/person1620_virus_2807.jpeg',\n",
       " 'data/test/Pnemonia-Virus/person1622_virus_2810.jpeg',\n",
       " 'data/test/Pnemonia-Virus/person1623_virus_2813.jpeg',\n",
       " 'data/test/Pnemonia-Virus/person1625_virus_2817.jpeg',\n",
       " 'data/test/Pnemonia-Virus/person1626_virus_2818.jpeg',\n",
       " 'data/test/Pnemonia-Virus/person1627_virus_2819.jpeg',\n",
       " 'data/test/Pnemonia-Virus/person1628_virus_2821.jpeg',\n",
       " 'data/test/Pnemonia-Virus/person1628_virus_2822.jpeg',\n",
       " 'data/test/Pnemonia-Virus/person1629_virus_2823.jpeg',\n",
       " 'data/test/Pnemonia-Virus/person1631_virus_2826.jpeg',\n",
       " 'data/test/Pnemonia-Virus/person1632_virus_2827.jpeg',\n",
       " 'data/test/Pnemonia-Virus/person1633_virus_2829.jpeg',\n",
       " 'data/test/Pnemonia-Virus/person1634_virus_2830.jpeg',\n",
       " 'data/test/Pnemonia-Virus/person1635_virus_2831.jpeg',\n",
       " 'data/test/Pnemonia-Virus/person1637_virus_2834.jpeg',\n",
       " 'data/test/Pnemonia-Virus/person1640_virus_2839.jpeg',\n",
       " 'data/test/Pnemonia-Virus/person1641_virus_2840.jpeg',\n",
       " 'data/test/Pnemonia-Virus/person1642_virus_2842.jpeg',\n",
       " 'data/test/Pnemonia-Virus/person1643_virus_2843.jpeg',\n",
       " 'data/test/Pnemonia-Virus/person1644_virus_2844.jpeg',\n",
       " 'data/test/Pnemonia-Virus/person1645_virus_2845.jpeg',\n",
       " 'data/test/Pnemonia-Virus/person1647_virus_2848.jpeg',\n",
       " 'data/test/Pnemonia-Virus/person1649_virus_2850.jpeg',\n",
       " 'data/test/Pnemonia-Virus/person1650_virus_2852.jpeg',\n",
       " 'data/test/Pnemonia-Virus/person1650_virus_2854.jpeg',\n",
       " 'data/test/Pnemonia-Virus/person1651_virus_2855.jpeg',\n",
       " 'data/test/Pnemonia-Virus/person1653_virus_2858.jpeg',\n",
       " 'data/test/Pnemonia-Virus/person1653_virus_2859.jpeg',\n",
       " 'data/test/Pnemonia-Virus/person1655_virus_2861.jpeg',\n",
       " 'data/test/Pnemonia-Virus/person1656_virus_2862.jpeg',\n",
       " 'data/test/Pnemonia-Virus/person1657_virus_2864.jpeg',\n",
       " 'data/test/Pnemonia-Virus/person1659_virus_2867.jpeg',\n",
       " 'data/test/Pnemonia-Virus/person1660_virus_2869.jpeg',\n",
       " 'data/test/Pnemonia-Virus/person1661_virus_2872.jpeg',\n",
       " 'data/test/Pnemonia-Virus/person1661_virus_2873.jpeg',\n",
       " 'data/test/Pnemonia-Virus/person1662_virus_2875.jpeg',\n",
       " 'data/test/Pnemonia-Virus/person1663_virus_2876.jpeg',\n",
       " 'data/test/Pnemonia-Virus/person1664_virus_2877.jpeg',\n",
       " 'data/test/Pnemonia-Virus/person1665_virus_2878.jpeg',\n",
       " 'data/test/Pnemonia-Virus/person1667_virus_2881.jpeg',\n",
       " 'data/test/Pnemonia-Virus/person1668_virus_2882.jpeg',\n",
       " 'data/test/Pnemonia-Virus/person1669_virus_2884.jpeg',\n",
       " 'data/test/Pnemonia-Virus/person1669_virus_2885.jpeg',\n",
       " 'data/test/Pnemonia-Virus/person1670_virus_2886.jpeg',\n",
       " 'data/test/Pnemonia-Virus/person1671_virus_2887.jpeg',\n",
       " 'data/test/Pnemonia-Virus/person1672_virus_2888.jpeg',\n",
       " 'data/test/Pnemonia-Virus/person1673_virus_2889.jpeg',\n",
       " 'data/test/Pnemonia-Virus/person1674_virus_2890.jpeg',\n",
       " 'data/test/Pnemonia-Virus/person1675_virus_2891.jpeg',\n",
       " 'data/test/Pnemonia-Virus/person1676_virus_2892.jpeg',\n",
       " 'data/test/Pnemonia-Virus/person1678_virus_2895.jpeg',\n",
       " 'data/test/Pnemonia-Virus/person1679_virus_2896.jpeg',\n",
       " 'data/test/Pnemonia-Virus/person1680_virus_2897.jpeg',\n",
       " 'data/test/Pnemonia-Virus/person1682_virus_2899.jpeg',\n",
       " 'data/test/Pnemonia-Virus/person1685_virus_2903.jpeg',\n",
       " 'data/test/Pnemonia-Virus/person16_virus_47.jpeg',\n",
       " 'data/test/Pnemonia-Virus/person17_virus_48.jpeg',\n",
       " 'data/test/Pnemonia-Virus/person18_virus_49.jpeg',\n",
       " 'data/test/Pnemonia-Virus/person19_virus_50.jpeg',\n",
       " 'data/test/Pnemonia-Virus/person1_virus_11.jpeg',\n",
       " 'data/test/Pnemonia-Virus/person1_virus_12.jpeg',\n",
       " 'data/test/Pnemonia-Virus/person1_virus_13.jpeg',\n",
       " 'data/test/Pnemonia-Virus/person1_virus_6.jpeg',\n",
       " 'data/test/Pnemonia-Virus/person1_virus_7.jpeg',\n",
       " 'data/test/Pnemonia-Virus/person1_virus_8.jpeg',\n",
       " 'data/test/Pnemonia-Virus/person1_virus_9.jpeg',\n",
       " 'data/test/Pnemonia-Virus/person20_virus_51.jpeg',\n",
       " 'data/test/Pnemonia-Virus/person21_virus_52.jpeg',\n",
       " 'data/test/Pnemonia-Virus/person21_virus_53.jpeg',\n",
       " 'data/test/Pnemonia-Virus/person22_virus_54.jpeg',\n",
       " 'data/test/Pnemonia-Virus/person22_virus_55.jpeg',\n",
       " 'data/test/Pnemonia-Virus/person23_virus_56.jpeg',\n",
       " 'data/test/Pnemonia-Virus/person24_virus_58.jpeg',\n",
       " 'data/test/Pnemonia-Virus/person25_virus_59.jpeg',\n",
       " 'data/test/Pnemonia-Virus/person26_virus_60.jpeg',\n",
       " 'data/test/Pnemonia-Virus/person28_virus_62.jpeg',\n",
       " 'data/test/Pnemonia-Virus/person28_virus_63.jpeg',\n",
       " 'data/test/Pnemonia-Virus/person29_virus_64.jpeg',\n",
       " 'data/test/Pnemonia-Virus/person30_virus_69.jpeg',\n",
       " 'data/test/Pnemonia-Virus/person31_virus_70.jpeg',\n",
       " 'data/test/Pnemonia-Virus/person32_virus_71.jpeg',\n",
       " 'data/test/Pnemonia-Virus/person33_virus_72.jpeg',\n",
       " 'data/test/Pnemonia-Virus/person34_virus_76.jpeg',\n",
       " 'data/test/Pnemonia-Virus/person35_virus_80.jpeg',\n",
       " 'data/test/Pnemonia-Virus/person36_virus_81.jpeg',\n",
       " 'data/test/Pnemonia-Virus/person37_virus_82.jpeg',\n",
       " 'data/test/Pnemonia-Virus/person38_virus_83.jpeg',\n",
       " 'data/test/Pnemonia-Virus/person38_virus_84.jpeg',\n",
       " 'data/test/Pnemonia-Virus/person39_virus_85.jpeg',\n",
       " 'data/test/Pnemonia-Virus/person3_virus_15.jpeg',\n",
       " 'data/test/Pnemonia-Virus/person3_virus_16.jpeg',\n",
       " 'data/test/Pnemonia-Virus/person3_virus_17.jpeg',\n",
       " 'data/test/Pnemonia-Virus/person40_virus_87.jpeg',\n",
       " 'data/test/Pnemonia-Virus/person41_virus_88.jpeg',\n",
       " 'data/test/Pnemonia-Virus/person42_virus_89.jpeg',\n",
       " 'data/test/Pnemonia-Virus/person43_virus_92.jpeg',\n",
       " 'data/test/Pnemonia-Virus/person44_virus_93.jpeg',\n",
       " 'data/test/Pnemonia-Virus/person44_virus_94.jpeg',\n",
       " 'data/test/Pnemonia-Virus/person45_virus_95.jpeg',\n",
       " 'data/test/Pnemonia-Virus/person46_virus_96.jpeg',\n",
       " 'data/test/Pnemonia-Virus/person47_virus_99.jpeg',\n",
       " 'data/test/Pnemonia-Virus/person48_virus_100.jpeg',\n",
       " 'data/test/Pnemonia-Virus/person49_virus_101.jpeg',\n",
       " 'data/test/Pnemonia-Virus/person50_virus_102.jpeg',\n",
       " 'data/test/Pnemonia-Virus/person51_virus_105.jpeg',\n",
       " 'data/test/Pnemonia-Virus/person52_virus_106.jpeg',\n",
       " 'data/test/Pnemonia-Virus/person53_virus_107.jpeg',\n",
       " 'data/test/Pnemonia-Virus/person53_virus_108.jpeg',\n",
       " 'data/test/Pnemonia-Virus/person54_virus_109.jpeg',\n",
       " 'data/test/Pnemonia-Virus/person55_virus_110.jpeg',\n",
       " 'data/test/Pnemonia-Virus/person56_virus_112.jpeg',\n",
       " 'data/test/Pnemonia-Virus/person57_virus_113.jpeg',\n",
       " 'data/test/Pnemonia-Virus/person59_virus_116.jpeg',\n",
       " 'data/test/Pnemonia-Virus/person60_virus_117.jpeg',\n",
       " 'data/test/Pnemonia-Virus/person61_virus_118.jpeg',\n",
       " 'data/test/Pnemonia-Virus/person62_virus_119.jpeg',\n",
       " 'data/test/Pnemonia-Virus/person63_virus_121.jpeg',\n",
       " 'data/test/Pnemonia-Virus/person64_virus_122.jpeg',\n",
       " 'data/test/Pnemonia-Virus/person65_virus_123.jpeg',\n",
       " 'data/test/Pnemonia-Virus/person66_virus_125.jpeg',\n",
       " 'data/test/Pnemonia-Virus/person67_virus_126.jpeg',\n",
       " 'data/test/Pnemonia-Virus/person69_virus_129.jpeg',\n",
       " 'data/test/Pnemonia-Virus/person70_virus_130.jpeg',\n",
       " 'data/test/Pnemonia-Virus/person71_virus_131.jpeg',\n",
       " 'data/test/Pnemonia-Virus/person71_virus_132.jpeg',\n",
       " 'data/test/Pnemonia-Virus/person72_virus_133.jpeg',\n",
       " 'data/test/Pnemonia-Virus/person74_virus_135.jpeg',\n",
       " 'data/test/Pnemonia-Virus/person75_virus_136.jpeg',\n",
       " 'data/test/Pnemonia-Virus/person76_virus_138.jpeg',\n",
       " 'data/test/Pnemonia-Virus/person77_virus_139.jpeg',\n",
       " 'data/test/Pnemonia-Virus/person78_virus_140.jpeg',\n",
       " 'data/test/Pnemonia-Virus/person79_virus_148.jpeg',\n",
       " 'data/test/Pnemonia-Virus/person8_virus_27.jpeg',\n",
       " 'data/test/Pnemonia-Virus/person8_virus_28.jpeg',\n",
       " 'data/test/Pnemonia-bacteria/',\n",
       " 'data/test/Pnemonia-bacteria/person100_bacteria_475.jpeg',\n",
       " 'data/test/Pnemonia-bacteria/person100_bacteria_477.jpeg',\n",
       " 'data/test/Pnemonia-bacteria/person100_bacteria_478.jpeg',\n",
       " 'data/test/Pnemonia-bacteria/person100_bacteria_479.jpeg',\n",
       " 'data/test/Pnemonia-bacteria/person100_bacteria_480.jpeg',\n",
       " 'data/test/Pnemonia-bacteria/person100_bacteria_481.jpeg',\n",
       " 'data/test/Pnemonia-bacteria/person100_bacteria_482.jpeg',\n",
       " 'data/test/Pnemonia-bacteria/person101_bacteria_483.jpeg',\n",
       " 'data/test/Pnemonia-bacteria/person101_bacteria_484.jpeg',\n",
       " 'data/test/Pnemonia-bacteria/person101_bacteria_485.jpeg',\n",
       " 'data/test/Pnemonia-bacteria/person101_bacteria_486.jpeg',\n",
       " 'data/test/Pnemonia-bacteria/person102_bacteria_487.jpeg',\n",
       " 'data/test/Pnemonia-bacteria/person103_bacteria_488.jpeg',\n",
       " 'data/test/Pnemonia-bacteria/person103_bacteria_489.jpeg',\n",
       " 'data/test/Pnemonia-bacteria/person103_bacteria_490.jpeg',\n",
       " 'data/test/Pnemonia-bacteria/person104_bacteria_491.jpeg',\n",
       " 'data/test/Pnemonia-bacteria/person104_bacteria_492.jpeg',\n",
       " 'data/test/Pnemonia-bacteria/person108_bacteria_504.jpeg',\n",
       " 'data/test/Pnemonia-bacteria/person108_bacteria_506.jpeg',\n",
       " 'data/test/Pnemonia-bacteria/person108_bacteria_507.jpeg',\n",
       " 'data/test/Pnemonia-bacteria/person108_bacteria_511.jpeg',\n",
       " 'data/test/Pnemonia-bacteria/person109_bacteria_512.jpeg',\n",
       " 'data/test/Pnemonia-bacteria/person109_bacteria_513.jpeg',\n",
       " 'data/test/Pnemonia-bacteria/person109_bacteria_517.jpeg',\n",
       " 'data/test/Pnemonia-bacteria/person109_bacteria_519.jpeg',\n",
       " 'data/test/Pnemonia-bacteria/person109_bacteria_522.jpeg',\n",
       " 'data/test/Pnemonia-bacteria/person109_bacteria_523.jpeg',\n",
       " 'data/test/Pnemonia-bacteria/person109_bacteria_526.jpeg',\n",
       " 'data/test/Pnemonia-bacteria/person109_bacteria_527.jpeg',\n",
       " 'data/test/Pnemonia-bacteria/person109_bacteria_528.jpeg',\n",
       " 'data/test/Pnemonia-bacteria/person110_bacteria_531.jpeg',\n",
       " 'data/test/Pnemonia-bacteria/person111_bacteria_533.jpeg',\n",
       " 'data/test/Pnemonia-bacteria/person111_bacteria_534.jpeg',\n",
       " 'data/test/Pnemonia-bacteria/person111_bacteria_535.jpeg',\n",
       " 'data/test/Pnemonia-bacteria/person111_bacteria_536.jpeg',\n",
       " 'data/test/Pnemonia-bacteria/person111_bacteria_537.jpeg',\n",
       " 'data/test/Pnemonia-bacteria/person112_bacteria_538.jpeg',\n",
       " 'data/test/Pnemonia-bacteria/person112_bacteria_539.jpeg',\n",
       " 'data/test/Pnemonia-bacteria/person113_bacteria_540.jpeg',\n",
       " 'data/test/Pnemonia-bacteria/person113_bacteria_541.jpeg',\n",
       " 'data/test/Pnemonia-bacteria/person113_bacteria_542.jpeg',\n",
       " 'data/test/Pnemonia-bacteria/person113_bacteria_543.jpeg',\n",
       " 'data/test/Pnemonia-bacteria/person114_bacteria_544.jpeg',\n",
       " 'data/test/Pnemonia-bacteria/person114_bacteria_545.jpeg',\n",
       " 'data/test/Pnemonia-bacteria/person114_bacteria_546.jpeg',\n",
       " 'data/test/Pnemonia-bacteria/person117_bacteria_553.jpeg',\n",
       " 'data/test/Pnemonia-bacteria/person117_bacteria_556.jpeg',\n",
       " 'data/test/Pnemonia-bacteria/person117_bacteria_557.jpeg',\n",
       " 'data/test/Pnemonia-bacteria/person118_bacteria_559.jpeg',\n",
       " 'data/test/Pnemonia-bacteria/person118_bacteria_560.jpeg',\n",
       " 'data/test/Pnemonia-bacteria/person119_bacteria_565.jpeg',\n",
       " 'data/test/Pnemonia-bacteria/person119_bacteria_566.jpeg',\n",
       " 'data/test/Pnemonia-bacteria/person119_bacteria_567.jpeg',\n",
       " 'data/test/Pnemonia-bacteria/person119_bacteria_568.jpeg',\n",
       " 'data/test/Pnemonia-bacteria/person120_bacteria_570.jpeg',\n",
       " 'data/test/Pnemonia-bacteria/person120_bacteria_571.jpeg',\n",
       " 'data/test/Pnemonia-bacteria/person120_bacteria_572.jpeg',\n",
       " 'data/test/Pnemonia-bacteria/person120_bacteria_573.jpeg',\n",
       " 'data/test/Pnemonia-bacteria/person121_bacteria_575.jpeg',\n",
       " 'data/test/Pnemonia-bacteria/person121_bacteria_576.jpeg',\n",
       " 'data/test/Pnemonia-bacteria/person121_bacteria_578.jpeg',\n",
       " 'data/test/Pnemonia-bacteria/person121_bacteria_579.jpeg',\n",
       " 'data/test/Pnemonia-bacteria/person121_bacteria_580.jpeg',\n",
       " 'data/test/Pnemonia-bacteria/person122_bacteria_581.jpeg',\n",
       " 'data/test/Pnemonia-bacteria/person122_bacteria_582.jpeg',\n",
       " 'data/test/Pnemonia-bacteria/person122_bacteria_583.jpeg',\n",
       " 'data/test/Pnemonia-bacteria/person122_bacteria_584.jpeg',\n",
       " 'data/test/Pnemonia-bacteria/person122_bacteria_585.jpeg',\n",
       " 'data/test/Pnemonia-bacteria/person122_bacteria_586.jpeg',\n",
       " 'data/test/Pnemonia-bacteria/person123_bacteria_587.jpeg',\n",
       " 'data/test/Pnemonia-bacteria/person124_bacteria_589.jpeg',\n",
       " 'data/test/Pnemonia-bacteria/person124_bacteria_590.jpeg',\n",
       " 'data/test/Pnemonia-bacteria/person124_bacteria_591.jpeg',\n",
       " 'data/test/Pnemonia-bacteria/person124_bacteria_592.jpeg',\n",
       " 'data/test/Pnemonia-bacteria/person125_bacteria_594.jpeg',\n",
       " 'data/test/Pnemonia-bacteria/person125_bacteria_595.jpeg',\n",
       " 'data/test/Pnemonia-bacteria/person126_bacteria_598.jpeg',\n",
       " 'data/test/Pnemonia-bacteria/person126_bacteria_599.jpeg',\n",
       " 'data/test/Pnemonia-bacteria/person126_bacteria_600.jpeg',\n",
       " 'data/test/Pnemonia-bacteria/person127_bacteria_602.jpeg',\n",
       " 'data/test/Pnemonia-bacteria/person127_bacteria_603.jpeg',\n",
       " 'data/test/Pnemonia-bacteria/person127_bacteria_604.jpeg',\n",
       " 'data/test/Pnemonia-bacteria/person128_bacteria_605.jpeg',\n",
       " 'data/test/Pnemonia-bacteria/person128_bacteria_606.jpeg',\n",
       " 'data/test/Pnemonia-bacteria/person128_bacteria_607.jpeg',\n",
       " 'data/test/Pnemonia-bacteria/person128_bacteria_608.jpeg',\n",
       " 'data/test/Pnemonia-bacteria/person130_bacteria_623.jpeg',\n",
       " 'data/test/Pnemonia-bacteria/person130_bacteria_625.jpeg',\n",
       " 'data/test/Pnemonia-bacteria/person130_bacteria_626.jpeg',\n",
       " 'data/test/Pnemonia-bacteria/person130_bacteria_627.jpeg',\n",
       " 'data/test/Pnemonia-bacteria/person130_bacteria_628.jpeg',\n",
       " 'data/test/Pnemonia-bacteria/person131_bacteria_629.jpeg',\n",
       " 'data/test/Pnemonia-bacteria/person132_bacteria_632.jpeg',\n",
       " 'data/test/Pnemonia-bacteria/person133_bacteria_633.jpeg',\n",
       " 'data/test/Pnemonia-bacteria/person133_bacteria_634.jpeg',\n",
       " 'data/test/Pnemonia-bacteria/person133_bacteria_635.jpeg',\n",
       " 'data/test/Pnemonia-bacteria/person133_bacteria_637.jpeg',\n",
       " 'data/test/Pnemonia-bacteria/person133_bacteria_638.jpeg',\n",
       " 'data/test/Pnemonia-bacteria/person134_bacteria_640.jpeg',\n",
       " 'data/test/Pnemonia-bacteria/person134_bacteria_641.jpeg',\n",
       " 'data/test/Pnemonia-bacteria/person134_bacteria_642.jpeg',\n",
       " 'data/test/Pnemonia-bacteria/person134_bacteria_643.jpeg',\n",
       " 'data/test/Pnemonia-bacteria/person134_bacteria_644.jpeg',\n",
       " 'data/test/Pnemonia-bacteria/person135_bacteria_646.jpeg',\n",
       " 'data/test/Pnemonia-bacteria/person135_bacteria_647.jpeg',\n",
       " 'data/test/Pnemonia-bacteria/person136_bacteria_648.jpeg',\n",
       " 'data/test/Pnemonia-bacteria/person136_bacteria_649.jpeg',\n",
       " 'data/test/Pnemonia-bacteria/person136_bacteria_650.jpeg',\n",
       " 'data/test/Pnemonia-bacteria/person136_bacteria_652.jpeg',\n",
       " 'data/test/Pnemonia-bacteria/person136_bacteria_654.jpeg',\n",
       " 'data/test/Pnemonia-bacteria/person137_bacteria_655.jpeg',\n",
       " 'data/test/Pnemonia-bacteria/person138_bacteria_657.jpeg',\n",
       " 'data/test/Pnemonia-bacteria/person138_bacteria_658.jpeg',\n",
       " 'data/test/Pnemonia-bacteria/person138_bacteria_659.jpeg',\n",
       " 'data/test/Pnemonia-bacteria/person139_bacteria_661.jpeg',\n",
       " 'data/test/Pnemonia-bacteria/person139_bacteria_662.jpeg',\n",
       " 'data/test/Pnemonia-bacteria/person139_bacteria_663.jpeg',\n",
       " 'data/test/Pnemonia-bacteria/person139_bacteria_664.jpeg',\n",
       " 'data/test/Pnemonia-bacteria/person139_bacteria_665.jpeg',\n",
       " 'data/test/Pnemonia-bacteria/person139_bacteria_666.jpeg',\n",
       " 'data/test/Pnemonia-bacteria/person140_bacteria_667.jpeg',\n",
       " 'data/test/Pnemonia-bacteria/person140_bacteria_668.jpeg',\n",
       " 'data/test/Pnemonia-bacteria/person141_bacteria_670.jpeg',\n",
       " 'data/test/Pnemonia-bacteria/person141_bacteria_676.jpeg',\n",
       " 'data/test/Pnemonia-bacteria/person141_bacteria_677.jpeg',\n",
       " 'data/test/Pnemonia-bacteria/person141_bacteria_678.jpeg',\n",
       " 'data/test/Pnemonia-bacteria/person141_bacteria_681.jpeg',\n",
       " 'data/test/Pnemonia-bacteria/person142_bacteria_682.jpeg',\n",
       " 'data/test/Pnemonia-bacteria/person142_bacteria_683.jpeg',\n",
       " 'data/test/Pnemonia-bacteria/person142_bacteria_684.jpeg',\n",
       " 'data/test/Pnemonia-bacteria/person143_bacteria_687.jpeg',\n",
       " 'data/test/Pnemonia-bacteria/person143_bacteria_688.jpeg',\n",
       " 'data/test/Pnemonia-bacteria/person143_bacteria_689.jpeg',\n",
       " 'data/test/Pnemonia-bacteria/person144_bacteria_690.jpeg',\n",
       " 'data/test/Pnemonia-bacteria/person145_bacteria_696.jpeg',\n",
       " 'data/test/Pnemonia-bacteria/person146_bacteria_700.jpeg',\n",
       " 'data/test/Pnemonia-bacteria/person146_bacteria_703.jpeg',\n",
       " 'data/test/Pnemonia-bacteria/person146_bacteria_704.jpeg',\n",
       " 'data/test/Pnemonia-bacteria/person147_bacteria_705.jpeg',\n",
       " 'data/test/Pnemonia-bacteria/person147_bacteria_706.jpeg',\n",
       " 'data/test/Pnemonia-bacteria/person147_bacteria_707.jpeg',\n",
       " 'data/test/Pnemonia-bacteria/person147_bacteria_711.jpeg',\n",
       " 'data/test/Pnemonia-bacteria/person149_bacteria_713.jpeg',\n",
       " 'data/test/Pnemonia-bacteria/person150_bacteria_715.jpeg',\n",
       " 'data/test/Pnemonia-bacteria/person150_bacteria_716.jpeg',\n",
       " 'data/test/Pnemonia-bacteria/person150_bacteria_717.jpeg',\n",
       " 'data/test/Pnemonia-bacteria/person151_bacteria_718.jpeg',\n",
       " 'data/test/Pnemonia-bacteria/person152_bacteria_720.jpeg',\n",
       " 'data/test/Pnemonia-bacteria/person152_bacteria_721.jpeg',\n",
       " 'data/test/Pnemonia-bacteria/person152_bacteria_722.jpeg',\n",
       " 'data/test/Pnemonia-bacteria/person152_bacteria_723.jpeg',\n",
       " 'data/test/Pnemonia-bacteria/person152_bacteria_724.jpeg',\n",
       " 'data/test/Pnemonia-bacteria/person153_bacteria_725.jpeg',\n",
       " 'data/test/Pnemonia-bacteria/person153_bacteria_726.jpeg',\n",
       " 'data/test/Pnemonia-bacteria/person154_bacteria_728.jpeg',\n",
       " 'data/test/Pnemonia-bacteria/person155_bacteria_729.jpeg',\n",
       " 'data/test/Pnemonia-bacteria/person155_bacteria_730.jpeg',\n",
       " 'data/test/Pnemonia-bacteria/person155_bacteria_731.jpeg',\n",
       " 'data/test/Pnemonia-bacteria/person157_bacteria_735.jpeg',\n",
       " 'data/test/Pnemonia-bacteria/person157_bacteria_739.jpeg',\n",
       " 'data/test/Pnemonia-bacteria/person157_bacteria_740.jpeg',\n",
       " 'data/test/Pnemonia-bacteria/person158_bacteria_742.jpeg',\n",
       " 'data/test/Pnemonia-bacteria/person158_bacteria_743.jpeg',\n",
       " 'data/test/Pnemonia-bacteria/person158_bacteria_744.jpeg',\n",
       " 'data/test/Pnemonia-bacteria/person158_bacteria_745.jpeg',\n",
       " 'data/test/Pnemonia-bacteria/person159_bacteria_746.jpeg',\n",
       " 'data/test/Pnemonia-bacteria/person159_bacteria_747.jpeg',\n",
       " 'data/test/Pnemonia-bacteria/person161_bacteria_757.jpeg',\n",
       " 'data/test/Pnemonia-bacteria/person161_bacteria_759.jpeg',\n",
       " 'data/test/Pnemonia-bacteria/person161_bacteria_762.jpeg',\n",
       " 'data/test/Pnemonia-bacteria/person171_bacteria_826.jpeg',\n",
       " 'data/test/Pnemonia-bacteria/person172_bacteria_827.jpeg',\n",
       " 'data/test/Pnemonia-bacteria/person172_bacteria_828.jpeg',\n",
       " 'data/test/Pnemonia-bacteria/person173_bacteria_829.jpeg',\n",
       " 'data/test/Pnemonia-bacteria/person173_bacteria_830.jpeg',\n",
       " 'data/test/Pnemonia-bacteria/person173_bacteria_831.jpeg',\n",
       " 'data/test/Pnemonia-bacteria/person174_bacteria_832.jpeg',\n",
       " 'data/test/Pnemonia-bacteria/person175_bacteria_833.jpeg',\n",
       " 'data/test/Pnemonia-bacteria/person175_bacteria_834.jpeg',\n",
       " 'data/test/Pnemonia-bacteria/person175_bacteria_835.jpeg',\n",
       " 'data/test/Pnemonia-bacteria/person78_bacteria_378.jpeg',\n",
       " 'data/test/Pnemonia-bacteria/person78_bacteria_380.jpeg',\n",
       " 'data/test/Pnemonia-bacteria/person78_bacteria_381.jpeg',\n",
       " 'data/test/Pnemonia-bacteria/person78_bacteria_382.jpeg',\n",
       " 'data/test/Pnemonia-bacteria/person78_bacteria_384.jpeg',\n",
       " 'data/test/Pnemonia-bacteria/person78_bacteria_385.jpeg',\n",
       " 'data/test/Pnemonia-bacteria/person78_bacteria_386.jpeg',\n",
       " 'data/test/Pnemonia-bacteria/person78_bacteria_387.jpeg',\n",
       " 'data/test/Pnemonia-bacteria/person80_bacteria_389.jpeg',\n",
       " 'data/test/Pnemonia-bacteria/person80_bacteria_390.jpeg',\n",
       " 'data/test/Pnemonia-bacteria/person80_bacteria_391.jpeg',\n",
       " 'data/test/Pnemonia-bacteria/person80_bacteria_392.jpeg',\n",
       " 'data/test/Pnemonia-bacteria/person80_bacteria_393.jpeg',\n",
       " 'data/test/Pnemonia-bacteria/person81_bacteria_395.jpeg',\n",
       " 'data/test/Pnemonia-bacteria/person81_bacteria_396.jpeg',\n",
       " 'data/test/Pnemonia-bacteria/person81_bacteria_397.jpeg',\n",
       " 'data/test/Pnemonia-bacteria/person81_bacteria_398.jpeg',\n",
       " 'data/test/Pnemonia-bacteria/person82_bacteria_402.jpeg',\n",
       " 'data/test/Pnemonia-bacteria/person82_bacteria_403.jpeg',\n",
       " 'data/test/Pnemonia-bacteria/person82_bacteria_404.jpeg',\n",
       " 'data/test/Pnemonia-bacteria/person82_bacteria_405.jpeg',\n",
       " 'data/test/Pnemonia-bacteria/person83_bacteria_407.jpeg',\n",
       " 'data/test/Pnemonia-bacteria/person83_bacteria_409.jpeg',\n",
       " 'data/test/Pnemonia-bacteria/person83_bacteria_410.jpeg',\n",
       " 'data/test/Pnemonia-bacteria/person83_bacteria_411.jpeg',\n",
       " 'data/test/Pnemonia-bacteria/person83_bacteria_412.jpeg',\n",
       " 'data/test/Pnemonia-bacteria/person83_bacteria_414.jpeg',\n",
       " 'data/test/Pnemonia-bacteria/person85_bacteria_417.jpeg',\n",
       " 'data/test/Pnemonia-bacteria/person85_bacteria_419.jpeg',\n",
       " 'data/test/Pnemonia-bacteria/person85_bacteria_421.jpeg',\n",
       " 'data/test/Pnemonia-bacteria/person85_bacteria_422.jpeg',\n",
       " 'data/test/Pnemonia-bacteria/person85_bacteria_423.jpeg',\n",
       " 'data/test/Pnemonia-bacteria/person85_bacteria_424.jpeg',\n",
       " 'data/test/Pnemonia-bacteria/person86_bacteria_428.jpeg',\n",
       " 'data/test/Pnemonia-bacteria/person86_bacteria_429.jpeg',\n",
       " 'data/test/Pnemonia-bacteria/person87_bacteria_433.jpeg',\n",
       " 'data/test/Pnemonia-bacteria/person87_bacteria_434.jpeg',\n",
       " 'data/test/Pnemonia-bacteria/person88_bacteria_437.jpeg',\n",
       " 'data/test/Pnemonia-bacteria/person88_bacteria_438.jpeg',\n",
       " 'data/test/Pnemonia-bacteria/person88_bacteria_439.jpeg',\n",
       " 'data/test/Pnemonia-bacteria/person89_bacteria_440.jpeg',\n",
       " 'data/test/Pnemonia-bacteria/person90_bacteria_442.jpeg',\n",
       " 'data/test/Pnemonia-bacteria/person90_bacteria_443.jpeg',\n",
       " 'data/test/Pnemonia-bacteria/person91_bacteria_445.jpeg',\n",
       " 'data/test/Pnemonia-bacteria/person91_bacteria_446.jpeg',\n",
       " 'data/test/Pnemonia-bacteria/person91_bacteria_447.jpeg',\n",
       " 'data/test/Pnemonia-bacteria/person91_bacteria_448.jpeg',\n",
       " 'data/test/Pnemonia-bacteria/person91_bacteria_449.jpeg',\n",
       " 'data/test/Pnemonia-bacteria/person92_bacteria_450.jpeg',\n",
       " 'data/test/Pnemonia-bacteria/person92_bacteria_451.jpeg',\n",
       " 'data/test/Pnemonia-bacteria/person93_bacteria_453.jpeg',\n",
       " 'data/test/Pnemonia-bacteria/person93_bacteria_454.jpeg',\n",
       " 'data/test/Pnemonia-bacteria/person94_bacteria_456.jpeg',\n",
       " 'data/test/Pnemonia-bacteria/person94_bacteria_457.jpeg',\n",
       " 'data/test/Pnemonia-bacteria/person94_bacteria_458.jpeg',\n",
       " 'data/test/Pnemonia-bacteria/person95_bacteria_463.jpeg',\n",
       " 'data/test/Pnemonia-bacteria/person96_bacteria_464.jpeg',\n",
       " 'data/test/Pnemonia-bacteria/person96_bacteria_465.jpeg',\n",
       " 'data/test/Pnemonia-bacteria/person96_bacteria_466.jpeg',\n",
       " 'data/test/Pnemonia-bacteria/person97_bacteria_468.jpeg',\n",
       " 'data/test/Pnemonia-bacteria/person99_bacteria_473.jpeg',\n",
       " 'data/test/Pnemonia-bacteria/person99_bacteria_474.jpeg']"
      ]
     },
     "execution_count": 59,
     "metadata": {},
     "output_type": "execute_result"
    }
   ],
   "source": [
    "# Attempt to download images from S3\n",
    "sagemaker_session.list_s3_files(bucket=bucket, key_prefix = prefix)"
   ]
  },
  {
   "cell_type": "code",
   "execution_count": 76,
   "metadata": {},
   "outputs": [
    {
     "ename": "TypeError",
     "evalue": "'NoneType' object is not iterable",
     "output_type": "error",
     "traceback": [
      "\u001b[0;31m---------------------------------------------------------------------------\u001b[0m",
      "\u001b[0;31mTypeError\u001b[0m                                 Traceback (most recent call last)",
      "\u001b[0;32m<ipython-input-76-2d0b0b7620db>\u001b[0m in \u001b[0;36m<module>\u001b[0;34m()\u001b[0m\n\u001b[0;32m----> 1\u001b[0;31m \u001b[0msagemaker_session\u001b[0m\u001b[0;34m.\u001b[0m\u001b[0mdownload_data\u001b[0m\u001b[0;34m(\u001b[0m\u001b[0mpath\u001b[0m\u001b[0;34m=\u001b[0m\u001b[0mdata_dir\u001b[0m\u001b[0;34m,\u001b[0m \u001b[0mbucket\u001b[0m\u001b[0;34m=\u001b[0m\u001b[0mbucket\u001b[0m\u001b[0;34m,\u001b[0m \u001b[0mkey_prefix\u001b[0m\u001b[0;34m=\u001b[0m\u001b[0mprefix\u001b[0m\u001b[0;34m)\u001b[0m\u001b[0;34m\u001b[0m\u001b[0m\n\u001b[0m",
      "\u001b[0;32m~/anaconda3/envs/pytorch_p36/lib/python3.6/site-packages/sagemaker/session.py\u001b[0m in \u001b[0;36mdownload_data\u001b[0;34m(self, path, bucket, key_prefix, extra_args)\u001b[0m\n\u001b[1;32m    281\u001b[0m             \u001b[0mcontents\u001b[0m \u001b[0;34m=\u001b[0m \u001b[0mresponse\u001b[0m\u001b[0;34m.\u001b[0m\u001b[0mget\u001b[0m\u001b[0;34m(\u001b[0m\u001b[0;34m\"Contents\"\u001b[0m\u001b[0;34m)\u001b[0m\u001b[0;34m\u001b[0m\u001b[0m\n\u001b[1;32m    282\u001b[0m             \u001b[0;31m# For each object, save its key or directory.\u001b[0m\u001b[0;34m\u001b[0m\u001b[0;34m\u001b[0m\u001b[0m\n\u001b[0;32m--> 283\u001b[0;31m             \u001b[0;32mfor\u001b[0m \u001b[0ms3_object\u001b[0m \u001b[0;32min\u001b[0m \u001b[0mcontents\u001b[0m\u001b[0;34m:\u001b[0m\u001b[0;34m\u001b[0m\u001b[0m\n\u001b[0m\u001b[1;32m    284\u001b[0m                 \u001b[0mkey\u001b[0m \u001b[0;34m=\u001b[0m \u001b[0ms3_object\u001b[0m\u001b[0;34m.\u001b[0m\u001b[0mget\u001b[0m\u001b[0;34m(\u001b[0m\u001b[0;34m\"Key\"\u001b[0m\u001b[0;34m)\u001b[0m\u001b[0;34m\u001b[0m\u001b[0m\n\u001b[1;32m    285\u001b[0m                 \u001b[0mkeys\u001b[0m\u001b[0;34m.\u001b[0m\u001b[0mappend\u001b[0m\u001b[0;34m(\u001b[0m\u001b[0mkey\u001b[0m\u001b[0;34m)\u001b[0m\u001b[0;34m\u001b[0m\u001b[0m\n",
      "\u001b[0;31mTypeError\u001b[0m: 'NoneType' object is not iterable"
     ]
    }
   ],
   "source": [
    "sagemaker_session.download_data(path=data_dir, bucket=bucket, key_prefix=prefix) # it did not work, had to be done manually.\n",
    "\n",
    "# try a different downloader for the test data in S3 bucket\n",
    "downloader = sagemaker.s3.S3Downloader()\n",
    "s3_uri = 's3://{}/{}'.format(bucket,prefix)\n",
    "s3_uri\n",
    "downloader.download(s3_uri, data_dir) # did not work either"
   ]
  },
  {
   "cell_type": "code",
   "execution_count": 79,
   "metadata": {},
   "outputs": [
    {
     "name": "stdout",
     "output_type": "stream",
     "text": [
      "Archive:  data/test.zip\n",
      "   creating: test/\n",
      "   creating: test/Normal/\n",
      "  inflating: test/Normal/IM-0001-0001.jpeg  \n",
      "  inflating: test/Normal/IM-0003-0001.jpeg  \n",
      "  inflating: test/Normal/IM-0005-0001.jpeg  \n",
      "  inflating: test/Normal/IM-0006-0001.jpeg  \n",
      "  inflating: test/Normal/IM-0007-0001.jpeg  \n",
      "  inflating: test/Normal/IM-0009-0001.jpeg  \n",
      "  inflating: test/Normal/IM-0010-0001.jpeg  \n",
      "  inflating: test/Normal/IM-0011-0001-0001.jpeg  \n",
      "  inflating: test/Normal/IM-0011-0001-0002.jpeg  \n",
      "  inflating: test/Normal/IM-0011-0001.jpeg  \n",
      "  inflating: test/Normal/IM-0013-0001.jpeg  \n",
      "  inflating: test/Normal/IM-0015-0001.jpeg  \n",
      "  inflating: test/Normal/IM-0016-0001.jpeg  \n",
      "  inflating: test/Normal/IM-0017-0001.jpeg  \n",
      "  inflating: test/Normal/IM-0019-0001.jpeg  \n",
      "  inflating: test/Normal/IM-0021-0001.jpeg  \n",
      "  inflating: test/Normal/IM-0022-0001.jpeg  \n",
      "  inflating: test/Normal/IM-0023-0001.jpeg  \n",
      "  inflating: test/Normal/IM-0025-0001.jpeg  \n",
      "  inflating: test/Normal/IM-0027-0001.jpeg  \n",
      "  inflating: test/Normal/IM-0028-0001.jpeg  \n",
      "  inflating: test/Normal/IM-0029-0001.jpeg  \n",
      "  inflating: test/Normal/IM-0030-0001.jpeg  \n",
      "  inflating: test/Normal/IM-0031-0001.jpeg  \n",
      "  inflating: test/Normal/IM-0033-0001-0001.jpeg  \n",
      "  inflating: test/Normal/IM-0033-0001-0002.jpeg  \n",
      "  inflating: test/Normal/IM-0033-0001.jpeg  \n",
      "  inflating: test/Normal/IM-0035-0001.jpeg  \n",
      "  inflating: test/Normal/IM-0036-0001.jpeg  \n",
      "  inflating: test/Normal/IM-0037-0001.jpeg  \n",
      "  inflating: test/Normal/IM-0039-0001.jpeg  \n",
      "  inflating: test/Normal/IM-0041-0001.jpeg  \n",
      "  inflating: test/Normal/IM-0043-0001.jpeg  \n",
      "  inflating: test/Normal/IM-0045-0001.jpeg  \n",
      "  inflating: test/Normal/IM-0046-0001.jpeg  \n",
      "  inflating: test/Normal/IM-0049-0001.jpeg  \n",
      "  inflating: test/Normal/IM-0050-0001.jpeg  \n",
      "  inflating: test/Normal/IM-0059-0001.jpeg  \n",
      "  inflating: test/Normal/IM-0061-0001.jpeg  \n",
      "  inflating: test/Normal/IM-0063-0001.jpeg  \n",
      "  inflating: test/Normal/IM-0065-0001.jpeg  \n",
      "  inflating: test/Normal/IM-0067-0001.jpeg  \n",
      "  inflating: test/Normal/IM-0069-0001.jpeg  \n",
      "  inflating: test/Normal/IM-0070-0001.jpeg  \n",
      "  inflating: test/Normal/IM-0071-0001.jpeg  \n",
      "  inflating: test/Normal/IM-0073-0001.jpeg  \n",
      "  inflating: test/Normal/IM-0075-0001.jpeg  \n",
      "  inflating: test/Normal/IM-0077-0001.jpeg  \n",
      "  inflating: test/Normal/IM-0079-0001.jpeg  \n",
      "  inflating: test/Normal/IM-0081-0001.jpeg  \n",
      "  inflating: test/Normal/IM-0083-0001.jpeg  \n",
      "  inflating: test/Normal/IM-0084-0001.jpeg  \n",
      "  inflating: test/Normal/IM-0085-0001.jpeg  \n",
      "  inflating: test/Normal/IM-0086-0001.jpeg  \n",
      "  inflating: test/Normal/IM-0087-0001.jpeg  \n",
      "  inflating: test/Normal/IM-0089-0001.jpeg  \n",
      "  inflating: test/Normal/IM-0091-0001.jpeg  \n",
      "  inflating: test/Normal/IM-0093-0001.jpeg  \n",
      "  inflating: test/Normal/IM-0095-0001.jpeg  \n",
      "  inflating: test/Normal/IM-0097-0001.jpeg  \n",
      "  inflating: test/Normal/IM-0099-0001.jpeg  \n",
      "  inflating: test/Normal/IM-0101-0001.jpeg  \n",
      "  inflating: test/Normal/IM-0102-0001.jpeg  \n",
      "  inflating: test/Normal/IM-0103-0001.jpeg  \n",
      "  inflating: test/Normal/IM-0105-0001.jpeg  \n",
      "  inflating: test/Normal/IM-0107-0001.jpeg  \n",
      "  inflating: test/Normal/IM-0109-0001.jpeg  \n",
      "  inflating: test/Normal/IM-0110-0001.jpeg  \n",
      "  inflating: test/Normal/IM-0111-0001.jpeg  \n",
      "  inflating: test/Normal/NORMAL2-IM-0007-0001.jpeg  \n",
      "  inflating: test/Normal/NORMAL2-IM-0012-0001.jpeg  \n",
      "  inflating: test/Normal/NORMAL2-IM-0013-0001.jpeg  \n",
      "  inflating: test/Normal/NORMAL2-IM-0019-0001.jpeg  \n",
      "  inflating: test/Normal/NORMAL2-IM-0023-0001.jpeg  \n",
      "  inflating: test/Normal/NORMAL2-IM-0027-0001.jpeg  \n",
      "  inflating: test/Normal/NORMAL2-IM-0028-0001.jpeg  \n",
      "  inflating: test/Normal/NORMAL2-IM-0029-0001.jpeg  \n",
      "  inflating: test/Normal/NORMAL2-IM-0030-0001.jpeg  \n",
      "  inflating: test/Normal/NORMAL2-IM-0033-0001.jpeg  \n",
      "  inflating: test/Normal/NORMAL2-IM-0035-0001.jpeg  \n",
      "  inflating: test/Normal/NORMAL2-IM-0041-0001.jpeg  \n",
      "  inflating: test/Normal/NORMAL2-IM-0045-0001.jpeg  \n",
      "  inflating: test/Normal/NORMAL2-IM-0051-0001.jpeg  \n",
      "  inflating: test/Normal/NORMAL2-IM-0052-0001.jpeg  \n",
      "  inflating: test/Normal/NORMAL2-IM-0058-0001.jpeg  \n",
      "  inflating: test/Normal/NORMAL2-IM-0059-0001.jpeg  \n",
      "  inflating: test/Normal/NORMAL2-IM-0060-0001.jpeg  \n",
      "  inflating: test/Normal/NORMAL2-IM-0066-0001.jpeg  \n",
      "  inflating: test/Normal/NORMAL2-IM-0072-0001.jpeg  \n",
      "  inflating: test/Normal/NORMAL2-IM-0073-0001.jpeg  \n",
      "  inflating: test/Normal/NORMAL2-IM-0079-0001.jpeg  \n",
      "  inflating: test/Normal/NORMAL2-IM-0081-0001.jpeg  \n",
      "  inflating: test/Normal/NORMAL2-IM-0086-0001.jpeg  \n",
      "  inflating: test/Normal/NORMAL2-IM-0092-0001.jpeg  \n",
      "  inflating: test/Normal/NORMAL2-IM-0095-0001.jpeg  \n",
      "  inflating: test/Normal/NORMAL2-IM-0096-0001.jpeg  \n",
      "  inflating: test/Normal/NORMAL2-IM-0098-0001.jpeg  \n",
      "  inflating: test/Normal/NORMAL2-IM-0102-0001.jpeg  \n",
      "  inflating: test/Normal/NORMAL2-IM-0105-0001.jpeg  \n",
      "  inflating: test/Normal/NORMAL2-IM-0107-0001.jpeg  \n",
      "  inflating: test/Normal/NORMAL2-IM-0110-0001.jpeg  \n",
      "  inflating: test/Normal/NORMAL2-IM-0111-0001.jpeg  \n",
      "  inflating: test/Normal/NORMAL2-IM-0112-0001.jpeg  \n",
      "  inflating: test/Normal/NORMAL2-IM-0117-0001.jpeg  \n",
      "  inflating: test/Normal/NORMAL2-IM-0120-0001.jpeg  \n",
      "  inflating: test/Normal/NORMAL2-IM-0123-0001.jpeg  \n",
      "  inflating: test/Normal/NORMAL2-IM-0129-0001.jpeg  \n",
      "  inflating: test/Normal/NORMAL2-IM-0130-0001.jpeg  \n",
      "  inflating: test/Normal/NORMAL2-IM-0131-0001.jpeg  \n",
      "  inflating: test/Normal/NORMAL2-IM-0132-0001.jpeg  \n",
      "  inflating: test/Normal/NORMAL2-IM-0135-0001.jpeg  \n",
      "  inflating: test/Normal/NORMAL2-IM-0139-0001.jpeg  \n",
      "  inflating: test/Normal/NORMAL2-IM-0141-0001.jpeg  \n",
      "  inflating: test/Normal/NORMAL2-IM-0145-0001.jpeg  \n",
      "  inflating: test/Normal/NORMAL2-IM-0146-0001.jpeg  \n",
      "  inflating: test/Normal/NORMAL2-IM-0150-0001.jpeg  \n",
      "  inflating: test/Normal/NORMAL2-IM-0171-0001.jpeg  \n",
      "  inflating: test/Normal/NORMAL2-IM-0173-0001-0001.jpeg  \n",
      "  inflating: test/Normal/NORMAL2-IM-0173-0001-0002.jpeg  \n",
      "  inflating: test/Normal/NORMAL2-IM-0195-0001.jpeg  \n",
      "  inflating: test/Normal/NORMAL2-IM-0196-0001.jpeg  \n",
      "  inflating: test/Normal/NORMAL2-IM-0198-0001.jpeg  \n",
      "  inflating: test/Normal/NORMAL2-IM-0199-0001.jpeg  \n",
      "  inflating: test/Normal/NORMAL2-IM-0201-0001.jpeg  \n",
      "  inflating: test/Normal/NORMAL2-IM-0206-0001.jpeg  \n",
      "  inflating: test/Normal/NORMAL2-IM-0207-0001.jpeg  \n",
      "  inflating: test/Normal/NORMAL2-IM-0210-0001.jpeg  \n",
      "  inflating: test/Normal/NORMAL2-IM-0213-0001.jpeg  \n",
      "  inflating: test/Normal/NORMAL2-IM-0217-0001.jpeg  \n",
      "  inflating: test/Normal/NORMAL2-IM-0219-0001.jpeg  \n",
      "  inflating: test/Normal/NORMAL2-IM-0221-0001.jpeg  \n",
      "  inflating: test/Normal/NORMAL2-IM-0222-0001.jpeg  \n",
      "  inflating: test/Normal/NORMAL2-IM-0229-0001.jpeg  \n",
      "  inflating: test/Normal/NORMAL2-IM-0232-0001.jpeg  \n",
      "  inflating: test/Normal/NORMAL2-IM-0233-0001.jpeg  \n",
      "  inflating: test/Normal/NORMAL2-IM-0237-0001.jpeg  \n",
      "  inflating: test/Normal/NORMAL2-IM-0238-0001.jpeg  \n",
      "  inflating: test/Normal/NORMAL2-IM-0241-0001.jpeg  \n",
      "  inflating: test/Normal/NORMAL2-IM-0246-0001-0001.jpeg  \n",
      "  inflating: test/Normal/NORMAL2-IM-0246-0001-0002.jpeg  \n",
      "  inflating: test/Normal/NORMAL2-IM-0246-0001.jpeg  \n",
      "  inflating: test/Normal/NORMAL2-IM-0249-0001.jpeg  \n",
      "  inflating: test/Normal/NORMAL2-IM-0251-0001.jpeg  \n",
      "  inflating: test/Normal/NORMAL2-IM-0252-0001.jpeg  \n",
      "  inflating: test/Normal/NORMAL2-IM-0256-0001.jpeg  \n",
      "  inflating: test/Normal/NORMAL2-IM-0259-0001.jpeg  \n",
      "  inflating: test/Normal/NORMAL2-IM-0267-0001.jpeg  \n",
      "  inflating: test/Normal/NORMAL2-IM-0271-0001.jpeg  \n",
      "  inflating: test/Normal/NORMAL2-IM-0272-0001.jpeg  \n",
      "  inflating: test/Normal/NORMAL2-IM-0273-0001.jpeg  \n",
      "  inflating: test/Normal/NORMAL2-IM-0274-0001.jpeg  \n",
      "  inflating: test/Normal/NORMAL2-IM-0275-0001.jpeg  \n",
      "  inflating: test/Normal/NORMAL2-IM-0276-0001.jpeg  \n",
      "  inflating: test/Normal/NORMAL2-IM-0277-0001.jpeg  \n",
      "  inflating: test/Normal/NORMAL2-IM-0278-0001.jpeg  \n",
      "  inflating: test/Normal/NORMAL2-IM-0279-0001.jpeg  \n",
      "  inflating: test/Normal/NORMAL2-IM-0280-0001.jpeg  \n",
      "  inflating: test/Normal/NORMAL2-IM-0281-0001.jpeg  \n",
      "  inflating: test/Normal/NORMAL2-IM-0282-0001.jpeg  \n",
      "  inflating: test/Normal/NORMAL2-IM-0283-0001.jpeg  \n",
      "  inflating: test/Normal/NORMAL2-IM-0285-0001.jpeg  \n",
      "  inflating: test/Normal/NORMAL2-IM-0286-0001.jpeg  \n",
      "  inflating: test/Normal/NORMAL2-IM-0287-0001.jpeg  \n",
      "  inflating: test/Normal/NORMAL2-IM-0288-0001.jpeg  \n",
      "  inflating: test/Normal/NORMAL2-IM-0289-0001.jpeg  \n",
      "  inflating: test/Normal/NORMAL2-IM-0290-0001.jpeg  \n",
      "  inflating: test/Normal/NORMAL2-IM-0292-0001.jpeg  \n",
      "  inflating: test/Normal/NORMAL2-IM-0294-0001.jpeg  \n",
      "  inflating: test/Normal/NORMAL2-IM-0297-0001.jpeg  \n",
      "  inflating: test/Normal/NORMAL2-IM-0300-0001.jpeg  \n",
      "  inflating: test/Normal/NORMAL2-IM-0301-0001.jpeg  \n",
      "  inflating: test/Normal/NORMAL2-IM-0302-0001.jpeg  \n",
      "  inflating: test/Normal/NORMAL2-IM-0303-0001.jpeg  \n",
      "  inflating: test/Normal/NORMAL2-IM-0304-0001.jpeg  \n",
      "  inflating: test/Normal/NORMAL2-IM-0305-0001.jpeg  \n",
      "  inflating: test/Normal/NORMAL2-IM-0307-0001.jpeg  \n",
      "  inflating: test/Normal/NORMAL2-IM-0309-0001.jpeg  \n",
      "  inflating: test/Normal/NORMAL2-IM-0310-0001.jpeg  \n",
      "  inflating: test/Normal/NORMAL2-IM-0311-0001.jpeg  \n",
      "  inflating: test/Normal/NORMAL2-IM-0312-0001.jpeg  \n",
      "  inflating: test/Normal/NORMAL2-IM-0313-0001.jpeg  \n",
      "  inflating: test/Normal/NORMAL2-IM-0315-0001.jpeg  \n"
     ]
    },
    {
     "name": "stdout",
     "output_type": "stream",
     "text": [
      "  inflating: test/Normal/NORMAL2-IM-0316-0001.jpeg  \n",
      "  inflating: test/Normal/NORMAL2-IM-0317-0001.jpeg  \n",
      "  inflating: test/Normal/NORMAL2-IM-0319-0001.jpeg  \n",
      "  inflating: test/Normal/NORMAL2-IM-0321-0001.jpeg  \n",
      "  inflating: test/Normal/NORMAL2-IM-0322-0001.jpeg  \n",
      "  inflating: test/Normal/NORMAL2-IM-0323-0001.jpeg  \n",
      "  inflating: test/Normal/NORMAL2-IM-0325-0001.jpeg  \n",
      "  inflating: test/Normal/NORMAL2-IM-0326-0001.jpeg  \n",
      "  inflating: test/Normal/NORMAL2-IM-0327-0001.jpeg  \n",
      "  inflating: test/Normal/NORMAL2-IM-0328-0001.jpeg  \n",
      "  inflating: test/Normal/NORMAL2-IM-0329-0001.jpeg  \n",
      "  inflating: test/Normal/NORMAL2-IM-0330-0001.jpeg  \n",
      "  inflating: test/Normal/NORMAL2-IM-0331-0001.jpeg  \n",
      "  inflating: test/Normal/NORMAL2-IM-0332-0001.jpeg  \n",
      "  inflating: test/Normal/NORMAL2-IM-0333-0001.jpeg  \n",
      "  inflating: test/Normal/NORMAL2-IM-0335-0001.jpeg  \n",
      "  inflating: test/Normal/NORMAL2-IM-0336-0001.jpeg  \n",
      "  inflating: test/Normal/NORMAL2-IM-0337-0001.jpeg  \n",
      "  inflating: test/Normal/NORMAL2-IM-0338-0001.jpeg  \n",
      "  inflating: test/Normal/NORMAL2-IM-0339-0001.jpeg  \n",
      "  inflating: test/Normal/NORMAL2-IM-0340-0001.jpeg  \n",
      "  inflating: test/Normal/NORMAL2-IM-0341-0001.jpeg  \n",
      "  inflating: test/Normal/NORMAL2-IM-0343-0001.jpeg  \n",
      "  inflating: test/Normal/NORMAL2-IM-0345-0001.jpeg  \n",
      "  inflating: test/Normal/NORMAL2-IM-0346-0001.jpeg  \n",
      "  inflating: test/Normal/NORMAL2-IM-0347-0001.jpeg  \n",
      "  inflating: test/Normal/NORMAL2-IM-0348-0001.jpeg  \n",
      "  inflating: test/Normal/NORMAL2-IM-0349-0001.jpeg  \n",
      "  inflating: test/Normal/NORMAL2-IM-0350-0001.jpeg  \n",
      "  inflating: test/Normal/NORMAL2-IM-0351-0001.jpeg  \n",
      "  inflating: test/Normal/NORMAL2-IM-0352-0001.jpeg  \n",
      "  inflating: test/Normal/NORMAL2-IM-0353-0001.jpeg  \n",
      "  inflating: test/Normal/NORMAL2-IM-0354-0001.jpeg  \n",
      "  inflating: test/Normal/NORMAL2-IM-0357-0001.jpeg  \n",
      "  inflating: test/Normal/NORMAL2-IM-0359-0001.jpeg  \n",
      "  inflating: test/Normal/NORMAL2-IM-0360-0001.jpeg  \n",
      "  inflating: test/Normal/NORMAL2-IM-0361-0001.jpeg  \n",
      "  inflating: test/Normal/NORMAL2-IM-0362-0001.jpeg  \n",
      "  inflating: test/Normal/NORMAL2-IM-0364-0001.jpeg  \n",
      "  inflating: test/Normal/NORMAL2-IM-0366-0001.jpeg  \n",
      "  inflating: test/Normal/NORMAL2-IM-0368-0001.jpeg  \n",
      "  inflating: test/Normal/NORMAL2-IM-0369-0001.jpeg  \n",
      "  inflating: test/Normal/NORMAL2-IM-0370-0001.jpeg  \n",
      "  inflating: test/Normal/NORMAL2-IM-0372-0001.jpeg  \n",
      "  inflating: test/Normal/NORMAL2-IM-0373-0001.jpeg  \n",
      "  inflating: test/Normal/NORMAL2-IM-0374-0001-0001.jpeg  \n",
      "  inflating: test/Normal/NORMAL2-IM-0374-0001-0002.jpeg  \n",
      "  inflating: test/Normal/NORMAL2-IM-0374-0001.jpeg  \n",
      "  inflating: test/Normal/NORMAL2-IM-0376-0001.jpeg  \n",
      "  inflating: test/Normal/NORMAL2-IM-0378-0001.jpeg  \n",
      "  inflating: test/Normal/NORMAL2-IM-0380-0001.jpeg  \n",
      "  inflating: test/Normal/NORMAL2-IM-0381-0001.jpeg  \n",
      "   creating: test/Pnemonia-bacteria/\n",
      "  inflating: test/Pnemonia-bacteria/person100_bacteria_475.jpeg  \n",
      "  inflating: test/Pnemonia-bacteria/person100_bacteria_477.jpeg  \n",
      "  inflating: test/Pnemonia-bacteria/person100_bacteria_478.jpeg  \n",
      "  inflating: test/Pnemonia-bacteria/person100_bacteria_479.jpeg  \n",
      "  inflating: test/Pnemonia-bacteria/person100_bacteria_480.jpeg  \n",
      "  inflating: test/Pnemonia-bacteria/person100_bacteria_481.jpeg  \n",
      "  inflating: test/Pnemonia-bacteria/person100_bacteria_482.jpeg  \n",
      "  inflating: test/Pnemonia-bacteria/person101_bacteria_483.jpeg  \n",
      "  inflating: test/Pnemonia-bacteria/person101_bacteria_484.jpeg  \n",
      "  inflating: test/Pnemonia-bacteria/person101_bacteria_485.jpeg  \n",
      "  inflating: test/Pnemonia-bacteria/person101_bacteria_486.jpeg  \n",
      "  inflating: test/Pnemonia-bacteria/person102_bacteria_487.jpeg  \n",
      "  inflating: test/Pnemonia-bacteria/person103_bacteria_488.jpeg  \n",
      "  inflating: test/Pnemonia-bacteria/person103_bacteria_489.jpeg  \n",
      "  inflating: test/Pnemonia-bacteria/person103_bacteria_490.jpeg  \n",
      "  inflating: test/Pnemonia-bacteria/person104_bacteria_491.jpeg  \n",
      "  inflating: test/Pnemonia-bacteria/person104_bacteria_492.jpeg  \n",
      "  inflating: test/Pnemonia-bacteria/person108_bacteria_504.jpeg  \n",
      "  inflating: test/Pnemonia-bacteria/person108_bacteria_506.jpeg  \n",
      "  inflating: test/Pnemonia-bacteria/person108_bacteria_507.jpeg  \n",
      "  inflating: test/Pnemonia-bacteria/person108_bacteria_511.jpeg  \n",
      "  inflating: test/Pnemonia-bacteria/person109_bacteria_512.jpeg  \n",
      "  inflating: test/Pnemonia-bacteria/person109_bacteria_513.jpeg  \n",
      "  inflating: test/Pnemonia-bacteria/person109_bacteria_517.jpeg  \n",
      "  inflating: test/Pnemonia-bacteria/person109_bacteria_519.jpeg  \n",
      "  inflating: test/Pnemonia-bacteria/person109_bacteria_522.jpeg  \n",
      "  inflating: test/Pnemonia-bacteria/person109_bacteria_523.jpeg  \n",
      "  inflating: test/Pnemonia-bacteria/person109_bacteria_526.jpeg  \n",
      "  inflating: test/Pnemonia-bacteria/person109_bacteria_527.jpeg  \n",
      "  inflating: test/Pnemonia-bacteria/person109_bacteria_528.jpeg  \n",
      "  inflating: test/Pnemonia-bacteria/person110_bacteria_531.jpeg  \n",
      "  inflating: test/Pnemonia-bacteria/person111_bacteria_533.jpeg  \n",
      "  inflating: test/Pnemonia-bacteria/person111_bacteria_534.jpeg  \n",
      "  inflating: test/Pnemonia-bacteria/person111_bacteria_535.jpeg  \n",
      "  inflating: test/Pnemonia-bacteria/person111_bacteria_536.jpeg  \n",
      "  inflating: test/Pnemonia-bacteria/person111_bacteria_537.jpeg  \n",
      "  inflating: test/Pnemonia-bacteria/person112_bacteria_538.jpeg  \n",
      "  inflating: test/Pnemonia-bacteria/person112_bacteria_539.jpeg  \n",
      "  inflating: test/Pnemonia-bacteria/person113_bacteria_540.jpeg  \n",
      "  inflating: test/Pnemonia-bacteria/person113_bacteria_541.jpeg  \n",
      "  inflating: test/Pnemonia-bacteria/person113_bacteria_542.jpeg  \n",
      "  inflating: test/Pnemonia-bacteria/person113_bacteria_543.jpeg  \n",
      "  inflating: test/Pnemonia-bacteria/person114_bacteria_544.jpeg  \n",
      "  inflating: test/Pnemonia-bacteria/person114_bacteria_545.jpeg  \n",
      "  inflating: test/Pnemonia-bacteria/person114_bacteria_546.jpeg  \n",
      "  inflating: test/Pnemonia-bacteria/person117_bacteria_553.jpeg  \n",
      "  inflating: test/Pnemonia-bacteria/person117_bacteria_556.jpeg  \n",
      "  inflating: test/Pnemonia-bacteria/person117_bacteria_557.jpeg  \n",
      "  inflating: test/Pnemonia-bacteria/person118_bacteria_559.jpeg  \n",
      "  inflating: test/Pnemonia-bacteria/person118_bacteria_560.jpeg  \n",
      "  inflating: test/Pnemonia-bacteria/person119_bacteria_565.jpeg  \n",
      "  inflating: test/Pnemonia-bacteria/person119_bacteria_566.jpeg  \n",
      "  inflating: test/Pnemonia-bacteria/person119_bacteria_567.jpeg  \n",
      "  inflating: test/Pnemonia-bacteria/person119_bacteria_568.jpeg  \n",
      "  inflating: test/Pnemonia-bacteria/person120_bacteria_570.jpeg  \n",
      "  inflating: test/Pnemonia-bacteria/person120_bacteria_571.jpeg  \n",
      "  inflating: test/Pnemonia-bacteria/person120_bacteria_572.jpeg  \n",
      "  inflating: test/Pnemonia-bacteria/person120_bacteria_573.jpeg  \n",
      "  inflating: test/Pnemonia-bacteria/person121_bacteria_575.jpeg  \n",
      "  inflating: test/Pnemonia-bacteria/person121_bacteria_576.jpeg  \n",
      "  inflating: test/Pnemonia-bacteria/person121_bacteria_578.jpeg  \n",
      "  inflating: test/Pnemonia-bacteria/person121_bacteria_579.jpeg  \n",
      "  inflating: test/Pnemonia-bacteria/person121_bacteria_580.jpeg  \n",
      "  inflating: test/Pnemonia-bacteria/person122_bacteria_581.jpeg  \n",
      "  inflating: test/Pnemonia-bacteria/person122_bacteria_582.jpeg  \n",
      "  inflating: test/Pnemonia-bacteria/person122_bacteria_583.jpeg  \n",
      "  inflating: test/Pnemonia-bacteria/person122_bacteria_584.jpeg  \n",
      "  inflating: test/Pnemonia-bacteria/person122_bacteria_585.jpeg  \n",
      "  inflating: test/Pnemonia-bacteria/person122_bacteria_586.jpeg  \n",
      "  inflating: test/Pnemonia-bacteria/person123_bacteria_587.jpeg  \n",
      "  inflating: test/Pnemonia-bacteria/person124_bacteria_589.jpeg  \n",
      "  inflating: test/Pnemonia-bacteria/person124_bacteria_590.jpeg  \n",
      "  inflating: test/Pnemonia-bacteria/person124_bacteria_591.jpeg  \n",
      "  inflating: test/Pnemonia-bacteria/person124_bacteria_592.jpeg  \n",
      "  inflating: test/Pnemonia-bacteria/person125_bacteria_594.jpeg  \n",
      "  inflating: test/Pnemonia-bacteria/person125_bacteria_595.jpeg  \n",
      "  inflating: test/Pnemonia-bacteria/person126_bacteria_598.jpeg  \n",
      "  inflating: test/Pnemonia-bacteria/person126_bacteria_599.jpeg  \n",
      "  inflating: test/Pnemonia-bacteria/person126_bacteria_600.jpeg  \n",
      "  inflating: test/Pnemonia-bacteria/person127_bacteria_602.jpeg  \n",
      "  inflating: test/Pnemonia-bacteria/person127_bacteria_603.jpeg  \n",
      "  inflating: test/Pnemonia-bacteria/person127_bacteria_604.jpeg  \n",
      "  inflating: test/Pnemonia-bacteria/person128_bacteria_605.jpeg  \n",
      "  inflating: test/Pnemonia-bacteria/person128_bacteria_606.jpeg  \n",
      "  inflating: test/Pnemonia-bacteria/person128_bacteria_607.jpeg  \n",
      "  inflating: test/Pnemonia-bacteria/person128_bacteria_608.jpeg  \n",
      "  inflating: test/Pnemonia-bacteria/person130_bacteria_623.jpeg  \n",
      "  inflating: test/Pnemonia-bacteria/person130_bacteria_625.jpeg  \n",
      "  inflating: test/Pnemonia-bacteria/person130_bacteria_626.jpeg  \n",
      "  inflating: test/Pnemonia-bacteria/person130_bacteria_627.jpeg  \n",
      "  inflating: test/Pnemonia-bacteria/person130_bacteria_628.jpeg  \n",
      "  inflating: test/Pnemonia-bacteria/person131_bacteria_629.jpeg  \n",
      "  inflating: test/Pnemonia-bacteria/person132_bacteria_632.jpeg  \n",
      "  inflating: test/Pnemonia-bacteria/person133_bacteria_633.jpeg  \n",
      "  inflating: test/Pnemonia-bacteria/person133_bacteria_634.jpeg  \n",
      "  inflating: test/Pnemonia-bacteria/person133_bacteria_635.jpeg  \n",
      "  inflating: test/Pnemonia-bacteria/person133_bacteria_637.jpeg  \n",
      "  inflating: test/Pnemonia-bacteria/person133_bacteria_638.jpeg  \n",
      "  inflating: test/Pnemonia-bacteria/person134_bacteria_640.jpeg  \n",
      "  inflating: test/Pnemonia-bacteria/person134_bacteria_641.jpeg  \n",
      "  inflating: test/Pnemonia-bacteria/person134_bacteria_642.jpeg  \n"
     ]
    },
    {
     "name": "stdout",
     "output_type": "stream",
     "text": [
      "  inflating: test/Pnemonia-bacteria/person134_bacteria_643.jpeg  \n",
      "  inflating: test/Pnemonia-bacteria/person134_bacteria_644.jpeg  \n",
      "  inflating: test/Pnemonia-bacteria/person135_bacteria_646.jpeg  \n",
      "  inflating: test/Pnemonia-bacteria/person135_bacteria_647.jpeg  \n",
      "  inflating: test/Pnemonia-bacteria/person136_bacteria_648.jpeg  \n",
      "  inflating: test/Pnemonia-bacteria/person136_bacteria_649.jpeg  \n",
      "  inflating: test/Pnemonia-bacteria/person136_bacteria_650.jpeg  \n",
      "  inflating: test/Pnemonia-bacteria/person136_bacteria_652.jpeg  \n",
      "  inflating: test/Pnemonia-bacteria/person136_bacteria_654.jpeg  \n",
      "  inflating: test/Pnemonia-bacteria/person137_bacteria_655.jpeg  \n",
      "  inflating: test/Pnemonia-bacteria/person138_bacteria_657.jpeg  \n",
      "  inflating: test/Pnemonia-bacteria/person138_bacteria_658.jpeg  \n",
      "  inflating: test/Pnemonia-bacteria/person138_bacteria_659.jpeg  \n",
      "  inflating: test/Pnemonia-bacteria/person139_bacteria_661.jpeg  \n",
      "  inflating: test/Pnemonia-bacteria/person139_bacteria_662.jpeg  \n",
      "  inflating: test/Pnemonia-bacteria/person139_bacteria_663.jpeg  \n",
      "  inflating: test/Pnemonia-bacteria/person139_bacteria_664.jpeg  \n",
      "  inflating: test/Pnemonia-bacteria/person139_bacteria_665.jpeg  \n",
      "  inflating: test/Pnemonia-bacteria/person139_bacteria_666.jpeg  \n",
      "  inflating: test/Pnemonia-bacteria/person140_bacteria_667.jpeg  \n",
      "  inflating: test/Pnemonia-bacteria/person140_bacteria_668.jpeg  \n",
      "  inflating: test/Pnemonia-bacteria/person141_bacteria_670.jpeg  \n",
      "  inflating: test/Pnemonia-bacteria/person141_bacteria_676.jpeg  \n",
      "  inflating: test/Pnemonia-bacteria/person141_bacteria_677.jpeg  \n",
      "  inflating: test/Pnemonia-bacteria/person141_bacteria_678.jpeg  \n",
      "  inflating: test/Pnemonia-bacteria/person141_bacteria_681.jpeg  \n",
      "  inflating: test/Pnemonia-bacteria/person142_bacteria_682.jpeg  \n",
      "  inflating: test/Pnemonia-bacteria/person142_bacteria_683.jpeg  \n",
      "  inflating: test/Pnemonia-bacteria/person142_bacteria_684.jpeg  \n",
      "  inflating: test/Pnemonia-bacteria/person143_bacteria_687.jpeg  \n",
      "  inflating: test/Pnemonia-bacteria/person143_bacteria_688.jpeg  \n",
      "  inflating: test/Pnemonia-bacteria/person143_bacteria_689.jpeg  \n",
      "  inflating: test/Pnemonia-bacteria/person144_bacteria_690.jpeg  \n",
      "  inflating: test/Pnemonia-bacteria/person145_bacteria_696.jpeg  \n",
      "  inflating: test/Pnemonia-bacteria/person146_bacteria_700.jpeg  \n",
      "  inflating: test/Pnemonia-bacteria/person146_bacteria_703.jpeg  \n",
      "  inflating: test/Pnemonia-bacteria/person146_bacteria_704.jpeg  \n",
      "  inflating: test/Pnemonia-bacteria/person147_bacteria_705.jpeg  \n",
      "  inflating: test/Pnemonia-bacteria/person147_bacteria_706.jpeg  \n",
      "  inflating: test/Pnemonia-bacteria/person147_bacteria_707.jpeg  \n",
      "  inflating: test/Pnemonia-bacteria/person147_bacteria_711.jpeg  \n",
      "  inflating: test/Pnemonia-bacteria/person149_bacteria_713.jpeg  \n",
      "  inflating: test/Pnemonia-bacteria/person150_bacteria_715.jpeg  \n",
      "  inflating: test/Pnemonia-bacteria/person150_bacteria_716.jpeg  \n",
      "  inflating: test/Pnemonia-bacteria/person150_bacteria_717.jpeg  \n",
      "  inflating: test/Pnemonia-bacteria/person151_bacteria_718.jpeg  \n",
      "  inflating: test/Pnemonia-bacteria/person152_bacteria_720.jpeg  \n",
      "  inflating: test/Pnemonia-bacteria/person152_bacteria_721.jpeg  \n",
      "  inflating: test/Pnemonia-bacteria/person152_bacteria_722.jpeg  \n",
      "  inflating: test/Pnemonia-bacteria/person152_bacteria_723.jpeg  \n",
      "  inflating: test/Pnemonia-bacteria/person152_bacteria_724.jpeg  \n",
      "  inflating: test/Pnemonia-bacteria/person153_bacteria_725.jpeg  \n",
      "  inflating: test/Pnemonia-bacteria/person153_bacteria_726.jpeg  \n",
      "  inflating: test/Pnemonia-bacteria/person154_bacteria_728.jpeg  \n",
      "  inflating: test/Pnemonia-bacteria/person155_bacteria_729.jpeg  \n",
      "  inflating: test/Pnemonia-bacteria/person155_bacteria_730.jpeg  \n",
      "  inflating: test/Pnemonia-bacteria/person155_bacteria_731.jpeg  \n",
      "  inflating: test/Pnemonia-bacteria/person157_bacteria_735.jpeg  \n",
      "  inflating: test/Pnemonia-bacteria/person157_bacteria_739.jpeg  \n",
      "  inflating: test/Pnemonia-bacteria/person157_bacteria_740.jpeg  \n",
      "  inflating: test/Pnemonia-bacteria/person158_bacteria_742.jpeg  \n",
      "  inflating: test/Pnemonia-bacteria/person158_bacteria_743.jpeg  \n",
      "  inflating: test/Pnemonia-bacteria/person158_bacteria_744.jpeg  \n",
      "  inflating: test/Pnemonia-bacteria/person158_bacteria_745.jpeg  \n",
      "  inflating: test/Pnemonia-bacteria/person159_bacteria_746.jpeg  \n",
      "  inflating: test/Pnemonia-bacteria/person159_bacteria_747.jpeg  \n",
      "  inflating: test/Pnemonia-bacteria/person161_bacteria_757.jpeg  \n",
      "  inflating: test/Pnemonia-bacteria/person161_bacteria_759.jpeg  \n",
      "  inflating: test/Pnemonia-bacteria/person161_bacteria_762.jpeg  \n",
      "  inflating: test/Pnemonia-bacteria/person171_bacteria_826.jpeg  \n",
      "  inflating: test/Pnemonia-bacteria/person172_bacteria_827.jpeg  \n",
      "  inflating: test/Pnemonia-bacteria/person172_bacteria_828.jpeg  \n",
      "  inflating: test/Pnemonia-bacteria/person173_bacteria_829.jpeg  \n",
      "  inflating: test/Pnemonia-bacteria/person173_bacteria_830.jpeg  \n",
      "  inflating: test/Pnemonia-bacteria/person173_bacteria_831.jpeg  \n",
      "  inflating: test/Pnemonia-bacteria/person174_bacteria_832.jpeg  \n",
      "  inflating: test/Pnemonia-bacteria/person175_bacteria_833.jpeg  \n",
      "  inflating: test/Pnemonia-bacteria/person175_bacteria_834.jpeg  \n",
      "  inflating: test/Pnemonia-bacteria/person175_bacteria_835.jpeg  \n",
      "  inflating: test/Pnemonia-bacteria/person78_bacteria_378.jpeg  \n",
      "  inflating: test/Pnemonia-bacteria/person78_bacteria_380.jpeg  \n",
      "  inflating: test/Pnemonia-bacteria/person78_bacteria_381.jpeg  \n",
      "  inflating: test/Pnemonia-bacteria/person78_bacteria_382.jpeg  \n",
      "  inflating: test/Pnemonia-bacteria/person78_bacteria_384.jpeg  \n",
      "  inflating: test/Pnemonia-bacteria/person78_bacteria_385.jpeg  \n",
      "  inflating: test/Pnemonia-bacteria/person78_bacteria_386.jpeg  \n",
      "  inflating: test/Pnemonia-bacteria/person78_bacteria_387.jpeg  \n",
      "  inflating: test/Pnemonia-bacteria/person80_bacteria_389.jpeg  \n",
      "  inflating: test/Pnemonia-bacteria/person80_bacteria_390.jpeg  \n",
      "  inflating: test/Pnemonia-bacteria/person80_bacteria_391.jpeg  \n",
      "  inflating: test/Pnemonia-bacteria/person80_bacteria_392.jpeg  \n",
      "  inflating: test/Pnemonia-bacteria/person80_bacteria_393.jpeg  \n",
      "  inflating: test/Pnemonia-bacteria/person81_bacteria_395.jpeg  \n",
      "  inflating: test/Pnemonia-bacteria/person81_bacteria_396.jpeg  \n",
      "  inflating: test/Pnemonia-bacteria/person81_bacteria_397.jpeg  \n",
      "  inflating: test/Pnemonia-bacteria/person81_bacteria_398.jpeg  \n",
      "  inflating: test/Pnemonia-bacteria/person82_bacteria_402.jpeg  \n",
      "  inflating: test/Pnemonia-bacteria/person82_bacteria_403.jpeg  \n",
      "  inflating: test/Pnemonia-bacteria/person82_bacteria_404.jpeg  \n",
      "  inflating: test/Pnemonia-bacteria/person82_bacteria_405.jpeg  \n",
      "  inflating: test/Pnemonia-bacteria/person83_bacteria_407.jpeg  \n",
      "  inflating: test/Pnemonia-bacteria/person83_bacteria_409.jpeg  \n",
      "  inflating: test/Pnemonia-bacteria/person83_bacteria_410.jpeg  \n",
      "  inflating: test/Pnemonia-bacteria/person83_bacteria_411.jpeg  \n",
      "  inflating: test/Pnemonia-bacteria/person83_bacteria_412.jpeg  \n",
      "  inflating: test/Pnemonia-bacteria/person83_bacteria_414.jpeg  \n",
      "  inflating: test/Pnemonia-bacteria/person85_bacteria_417.jpeg  \n",
      "  inflating: test/Pnemonia-bacteria/person85_bacteria_419.jpeg  \n",
      "  inflating: test/Pnemonia-bacteria/person85_bacteria_421.jpeg  \n",
      "  inflating: test/Pnemonia-bacteria/person85_bacteria_422.jpeg  \n",
      "  inflating: test/Pnemonia-bacteria/person85_bacteria_423.jpeg  \n",
      "  inflating: test/Pnemonia-bacteria/person85_bacteria_424.jpeg  \n",
      "  inflating: test/Pnemonia-bacteria/person86_bacteria_428.jpeg  \n",
      "  inflating: test/Pnemonia-bacteria/person86_bacteria_429.jpeg  \n",
      "  inflating: test/Pnemonia-bacteria/person87_bacteria_433.jpeg  \n",
      "  inflating: test/Pnemonia-bacteria/person87_bacteria_434.jpeg  \n",
      "  inflating: test/Pnemonia-bacteria/person88_bacteria_437.jpeg  \n",
      "  inflating: test/Pnemonia-bacteria/person88_bacteria_438.jpeg  \n",
      "  inflating: test/Pnemonia-bacteria/person88_bacteria_439.jpeg  \n",
      "  inflating: test/Pnemonia-bacteria/person89_bacteria_440.jpeg  \n",
      "  inflating: test/Pnemonia-bacteria/person90_bacteria_442.jpeg  \n",
      "  inflating: test/Pnemonia-bacteria/person90_bacteria_443.jpeg  \n",
      "  inflating: test/Pnemonia-bacteria/person91_bacteria_445.jpeg  \n",
      "  inflating: test/Pnemonia-bacteria/person91_bacteria_446.jpeg  \n",
      "  inflating: test/Pnemonia-bacteria/person91_bacteria_447.jpeg  \n",
      "  inflating: test/Pnemonia-bacteria/person91_bacteria_448.jpeg  \n",
      "  inflating: test/Pnemonia-bacteria/person91_bacteria_449.jpeg  \n",
      "  inflating: test/Pnemonia-bacteria/person92_bacteria_450.jpeg  \n",
      "  inflating: test/Pnemonia-bacteria/person92_bacteria_451.jpeg  \n",
      "  inflating: test/Pnemonia-bacteria/person93_bacteria_453.jpeg  \n",
      "  inflating: test/Pnemonia-bacteria/person93_bacteria_454.jpeg  \n",
      "  inflating: test/Pnemonia-bacteria/person94_bacteria_456.jpeg  \n",
      "  inflating: test/Pnemonia-bacteria/person94_bacteria_457.jpeg  \n",
      "  inflating: test/Pnemonia-bacteria/person94_bacteria_458.jpeg  \n",
      "  inflating: test/Pnemonia-bacteria/person95_bacteria_463.jpeg  \n",
      "  inflating: test/Pnemonia-bacteria/person96_bacteria_464.jpeg  \n",
      "  inflating: test/Pnemonia-bacteria/person96_bacteria_465.jpeg  \n",
      "  inflating: test/Pnemonia-bacteria/person96_bacteria_466.jpeg  \n",
      "  inflating: test/Pnemonia-bacteria/person97_bacteria_468.jpeg  \n",
      "  inflating: test/Pnemonia-bacteria/person99_bacteria_473.jpeg  \n",
      "  inflating: test/Pnemonia-bacteria/person99_bacteria_474.jpeg  \n",
      "   creating: test/Pnemonia-Virus/\n",
      "   creating: test/Pnemonia-Virus-COVID-19/\n",
      "  inflating: test/Pnemonia-Virus-COVID-19/gr1_lrg-b.jpg  \n",
      "  inflating: test/Pnemonia-Virus-COVID-19/jkms-35-e79-g001-l-a.jpg  \n",
      "  inflating: test/Pnemonia-Virus-COVID-19/jkms-35-e79-g001-l-b.jpg  \n",
      "  inflating: test/Pnemonia-Virus-COVID-19/jkms-35-e79-g001-l-c.jpg  \n",
      "  inflating: test/Pnemonia-Virus-COVID-19/kjr-21-e24-g001-l-a.jpg  \n",
      "  inflating: test/Pnemonia-Virus-COVID-19/kjr-21-e24-g002-l-a.jpg  \n",
      "  inflating: test/Pnemonia-Virus-COVID-19/kjr-21-e24-g003-l-a.jpg  \n",
      "  inflating: test/Pnemonia-Virus-COVID-19/kjr-21-e25-g001-l-a.jpg  \n",
      "  inflating: test/Pnemonia-Virus/person10_virus_35.jpeg  \n",
      "  inflating: test/Pnemonia-Virus/person11_virus_38.jpeg  \n"
     ]
    },
    {
     "name": "stdout",
     "output_type": "stream",
     "text": [
      "  inflating: test/Pnemonia-Virus/person14_virus_44.jpeg  \n",
      "  inflating: test/Pnemonia-Virus/person15_virus_46.jpeg  \n",
      "  inflating: test/Pnemonia-Virus/person1608_virus_2786.jpeg  \n",
      "  inflating: test/Pnemonia-Virus/person1610_virus_2793.jpeg  \n",
      "  inflating: test/Pnemonia-Virus/person1612_virus_2797.jpeg  \n",
      "  inflating: test/Pnemonia-Virus/person1612_virus_2798.jpeg  \n",
      "  inflating: test/Pnemonia-Virus/person1613_virus_2799.jpeg  \n",
      "  inflating: test/Pnemonia-Virus/person1614_virus_2800.jpeg  \n",
      "  inflating: test/Pnemonia-Virus/person1615_virus_2801.jpeg  \n",
      "  inflating: test/Pnemonia-Virus/person1616_virus_2802.jpeg  \n",
      "  inflating: test/Pnemonia-Virus/person1618_virus_2805.jpeg  \n",
      "  inflating: test/Pnemonia-Virus/person1619_virus_2806.jpeg  \n",
      "  inflating: test/Pnemonia-Virus/person1620_virus_2807.jpeg  \n",
      "  inflating: test/Pnemonia-Virus/person1622_virus_2810.jpeg  \n",
      "  inflating: test/Pnemonia-Virus/person1623_virus_2813.jpeg  \n",
      "  inflating: test/Pnemonia-Virus/person1625_virus_2817.jpeg  \n",
      "  inflating: test/Pnemonia-Virus/person1626_virus_2818.jpeg  \n",
      "  inflating: test/Pnemonia-Virus/person1627_virus_2819.jpeg  \n",
      "  inflating: test/Pnemonia-Virus/person1628_virus_2821.jpeg  \n",
      "  inflating: test/Pnemonia-Virus/person1628_virus_2822.jpeg  \n",
      "  inflating: test/Pnemonia-Virus/person1629_virus_2823.jpeg  \n",
      "  inflating: test/Pnemonia-Virus/person1631_virus_2826.jpeg  \n",
      "  inflating: test/Pnemonia-Virus/person1632_virus_2827.jpeg  \n",
      "  inflating: test/Pnemonia-Virus/person1633_virus_2829.jpeg  \n",
      "  inflating: test/Pnemonia-Virus/person1634_virus_2830.jpeg  \n",
      "  inflating: test/Pnemonia-Virus/person1635_virus_2831.jpeg  \n",
      "  inflating: test/Pnemonia-Virus/person1637_virus_2834.jpeg  \n",
      "  inflating: test/Pnemonia-Virus/person1640_virus_2839.jpeg  \n",
      "  inflating: test/Pnemonia-Virus/person1641_virus_2840.jpeg  \n",
      "  inflating: test/Pnemonia-Virus/person1642_virus_2842.jpeg  \n",
      "  inflating: test/Pnemonia-Virus/person1643_virus_2843.jpeg  \n",
      "  inflating: test/Pnemonia-Virus/person1644_virus_2844.jpeg  \n",
      "  inflating: test/Pnemonia-Virus/person1645_virus_2845.jpeg  \n",
      "  inflating: test/Pnemonia-Virus/person1647_virus_2848.jpeg  \n",
      "  inflating: test/Pnemonia-Virus/person1649_virus_2850.jpeg  \n",
      "  inflating: test/Pnemonia-Virus/person1650_virus_2852.jpeg  \n",
      "  inflating: test/Pnemonia-Virus/person1650_virus_2854.jpeg  \n",
      "  inflating: test/Pnemonia-Virus/person1651_virus_2855.jpeg  \n",
      "  inflating: test/Pnemonia-Virus/person1653_virus_2858.jpeg  \n",
      "  inflating: test/Pnemonia-Virus/person1653_virus_2859.jpeg  \n",
      "  inflating: test/Pnemonia-Virus/person1655_virus_2861.jpeg  \n",
      "  inflating: test/Pnemonia-Virus/person1656_virus_2862.jpeg  \n",
      "  inflating: test/Pnemonia-Virus/person1657_virus_2864.jpeg  \n",
      "  inflating: test/Pnemonia-Virus/person1659_virus_2867.jpeg  \n",
      "  inflating: test/Pnemonia-Virus/person1660_virus_2869.jpeg  \n",
      "  inflating: test/Pnemonia-Virus/person1661_virus_2872.jpeg  \n",
      "  inflating: test/Pnemonia-Virus/person1661_virus_2873.jpeg  \n",
      "  inflating: test/Pnemonia-Virus/person1662_virus_2875.jpeg  \n",
      "  inflating: test/Pnemonia-Virus/person1663_virus_2876.jpeg  \n",
      "  inflating: test/Pnemonia-Virus/person1664_virus_2877.jpeg  \n",
      "  inflating: test/Pnemonia-Virus/person1665_virus_2878.jpeg  \n",
      "  inflating: test/Pnemonia-Virus/person1667_virus_2881.jpeg  \n",
      "  inflating: test/Pnemonia-Virus/person1668_virus_2882.jpeg  \n",
      "  inflating: test/Pnemonia-Virus/person1669_virus_2884.jpeg  \n",
      "  inflating: test/Pnemonia-Virus/person1669_virus_2885.jpeg  \n",
      "  inflating: test/Pnemonia-Virus/person1670_virus_2886.jpeg  \n",
      "  inflating: test/Pnemonia-Virus/person1671_virus_2887.jpeg  \n",
      "  inflating: test/Pnemonia-Virus/person1672_virus_2888.jpeg  \n",
      "  inflating: test/Pnemonia-Virus/person1673_virus_2889.jpeg  \n",
      "  inflating: test/Pnemonia-Virus/person1674_virus_2890.jpeg  \n",
      "  inflating: test/Pnemonia-Virus/person1675_virus_2891.jpeg  \n",
      "  inflating: test/Pnemonia-Virus/person1676_virus_2892.jpeg  \n",
      "  inflating: test/Pnemonia-Virus/person1678_virus_2895.jpeg  \n",
      "  inflating: test/Pnemonia-Virus/person1679_virus_2896.jpeg  \n",
      "  inflating: test/Pnemonia-Virus/person1680_virus_2897.jpeg  \n",
      "  inflating: test/Pnemonia-Virus/person1682_virus_2899.jpeg  \n",
      "  inflating: test/Pnemonia-Virus/person1685_virus_2903.jpeg  \n",
      "  inflating: test/Pnemonia-Virus/person16_virus_47.jpeg  \n",
      "  inflating: test/Pnemonia-Virus/person17_virus_48.jpeg  \n",
      "  inflating: test/Pnemonia-Virus/person18_virus_49.jpeg  \n",
      "  inflating: test/Pnemonia-Virus/person19_virus_50.jpeg  \n",
      "  inflating: test/Pnemonia-Virus/person1_virus_11.jpeg  \n",
      "  inflating: test/Pnemonia-Virus/person1_virus_12.jpeg  \n",
      "  inflating: test/Pnemonia-Virus/person1_virus_13.jpeg  \n",
      "  inflating: test/Pnemonia-Virus/person1_virus_6.jpeg  \n",
      "  inflating: test/Pnemonia-Virus/person1_virus_7.jpeg  \n",
      "  inflating: test/Pnemonia-Virus/person1_virus_8.jpeg  \n",
      "  inflating: test/Pnemonia-Virus/person1_virus_9.jpeg  \n",
      "  inflating: test/Pnemonia-Virus/person20_virus_51.jpeg  \n",
      "  inflating: test/Pnemonia-Virus/person21_virus_52.jpeg  \n",
      "  inflating: test/Pnemonia-Virus/person21_virus_53.jpeg  \n",
      "  inflating: test/Pnemonia-Virus/person22_virus_54.jpeg  \n",
      "  inflating: test/Pnemonia-Virus/person22_virus_55.jpeg  \n",
      "  inflating: test/Pnemonia-Virus/person23_virus_56.jpeg  \n",
      "  inflating: test/Pnemonia-Virus/person24_virus_58.jpeg  \n",
      "  inflating: test/Pnemonia-Virus/person25_virus_59.jpeg  \n",
      "  inflating: test/Pnemonia-Virus/person26_virus_60.jpeg  \n",
      "  inflating: test/Pnemonia-Virus/person28_virus_62.jpeg  \n",
      "  inflating: test/Pnemonia-Virus/person28_virus_63.jpeg  \n",
      "  inflating: test/Pnemonia-Virus/person29_virus_64.jpeg  \n",
      "  inflating: test/Pnemonia-Virus/person30_virus_69.jpeg  \n",
      "  inflating: test/Pnemonia-Virus/person31_virus_70.jpeg  \n",
      "  inflating: test/Pnemonia-Virus/person32_virus_71.jpeg  \n",
      "  inflating: test/Pnemonia-Virus/person33_virus_72.jpeg  \n",
      "  inflating: test/Pnemonia-Virus/person34_virus_76.jpeg  \n",
      "  inflating: test/Pnemonia-Virus/person35_virus_80.jpeg  \n",
      "  inflating: test/Pnemonia-Virus/person36_virus_81.jpeg  \n",
      "  inflating: test/Pnemonia-Virus/person37_virus_82.jpeg  \n",
      "  inflating: test/Pnemonia-Virus/person38_virus_83.jpeg  \n",
      "  inflating: test/Pnemonia-Virus/person38_virus_84.jpeg  \n",
      "  inflating: test/Pnemonia-Virus/person39_virus_85.jpeg  \n",
      "  inflating: test/Pnemonia-Virus/person3_virus_15.jpeg  \n",
      "  inflating: test/Pnemonia-Virus/person3_virus_16.jpeg  \n",
      "  inflating: test/Pnemonia-Virus/person3_virus_17.jpeg  \n",
      "  inflating: test/Pnemonia-Virus/person40_virus_87.jpeg  \n",
      "  inflating: test/Pnemonia-Virus/person41_virus_88.jpeg  \n",
      "  inflating: test/Pnemonia-Virus/person42_virus_89.jpeg  \n",
      "  inflating: test/Pnemonia-Virus/person43_virus_92.jpeg  \n",
      "  inflating: test/Pnemonia-Virus/person44_virus_93.jpeg  \n",
      "  inflating: test/Pnemonia-Virus/person44_virus_94.jpeg  \n",
      "  inflating: test/Pnemonia-Virus/person45_virus_95.jpeg  \n",
      "  inflating: test/Pnemonia-Virus/person46_virus_96.jpeg  \n",
      "  inflating: test/Pnemonia-Virus/person47_virus_99.jpeg  \n",
      "  inflating: test/Pnemonia-Virus/person48_virus_100.jpeg  \n",
      "  inflating: test/Pnemonia-Virus/person49_virus_101.jpeg  \n",
      "  inflating: test/Pnemonia-Virus/person50_virus_102.jpeg  \n",
      "  inflating: test/Pnemonia-Virus/person51_virus_105.jpeg  \n",
      "  inflating: test/Pnemonia-Virus/person52_virus_106.jpeg  \n",
      "  inflating: test/Pnemonia-Virus/person53_virus_107.jpeg  \n",
      "  inflating: test/Pnemonia-Virus/person53_virus_108.jpeg  \n",
      "  inflating: test/Pnemonia-Virus/person54_virus_109.jpeg  \n",
      "  inflating: test/Pnemonia-Virus/person55_virus_110.jpeg  \n",
      "  inflating: test/Pnemonia-Virus/person56_virus_112.jpeg  \n",
      "  inflating: test/Pnemonia-Virus/person57_virus_113.jpeg  \n",
      "  inflating: test/Pnemonia-Virus/person59_virus_116.jpeg  \n",
      "  inflating: test/Pnemonia-Virus/person60_virus_117.jpeg  \n",
      "  inflating: test/Pnemonia-Virus/person61_virus_118.jpeg  \n",
      "  inflating: test/Pnemonia-Virus/person62_virus_119.jpeg  \n",
      "  inflating: test/Pnemonia-Virus/person63_virus_121.jpeg  \n",
      "  inflating: test/Pnemonia-Virus/person64_virus_122.jpeg  \n",
      "  inflating: test/Pnemonia-Virus/person65_virus_123.jpeg  \n",
      "  inflating: test/Pnemonia-Virus/person66_virus_125.jpeg  \n",
      "  inflating: test/Pnemonia-Virus/person67_virus_126.jpeg  \n",
      "  inflating: test/Pnemonia-Virus/person69_virus_129.jpeg  \n",
      "  inflating: test/Pnemonia-Virus/person70_virus_130.jpeg  \n",
      "  inflating: test/Pnemonia-Virus/person71_virus_131.jpeg  \n",
      "  inflating: test/Pnemonia-Virus/person71_virus_132.jpeg  \n",
      "  inflating: test/Pnemonia-Virus/person72_virus_133.jpeg  \n",
      "  inflating: test/Pnemonia-Virus/person74_virus_135.jpeg  \n",
      "  inflating: test/Pnemonia-Virus/person75_virus_136.jpeg  \n",
      "  inflating: test/Pnemonia-Virus/person76_virus_138.jpeg  \n",
      "  inflating: test/Pnemonia-Virus/person77_virus_139.jpeg  \n",
      "  inflating: test/Pnemonia-Virus/person78_virus_140.jpeg  \n",
      "  inflating: test/Pnemonia-Virus/person79_virus_148.jpeg  \n",
      "  inflating: test/Pnemonia-Virus/person8_virus_27.jpeg  \n",
      "  inflating: test/Pnemonia-Virus/person8_virus_28.jpeg  \n"
     ]
    }
   ],
   "source": [
    "# After manually uploading the test data in a zip, extract it to the 'data' folder.\n",
    "!unzip data/test.zip"
   ]
  },
  {
   "cell_type": "markdown",
   "metadata": {},
   "source": [
    "### Calculate performance"
   ]
  },
  {
   "cell_type": "code",
   "execution_count": 86,
   "metadata": {
    "scrolled": true
   },
   "outputs": [
    {
     "name": "stderr",
     "output_type": "stream",
     "text": [
      "100%|██████████| 416/416 [04:48<00:00,  1.44it/s]"
     ]
    },
    {
     "name": "stdout",
     "output_type": "stream",
     "text": [
      "Test Accuracy of Normal: 54% (128/234)\n",
      "Test Accuracy of Pnemonia-Virus: 83% (123/148)\n",
      "Test Accuracy of Pnemonia-Virus-COVID-19: 73% (153/208)\n",
      "Test Accuracy of Pnemonia-bacteria: 86% (210/242)\n",
      "\n",
      "Test Accuracy (Overall): 73% (614/832)\n"
     ]
    },
    {
     "name": "stderr",
     "output_type": "stream",
     "text": [
      "\n"
     ]
    },
    {
     "data": {
      "text/html": [
       "\n",
       "                <audio controls=\"controls\" autoplay=\"autoplay\">\n",
       "                    <source src=\"data:audio/mpeg;base64,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\" type=\"audio/mpeg\" />\n",
       "                    Your browser does not support the audio element.\n",
       "                </audio>\n",
       "              "
      ],
      "text/plain": [
       "<IPython.lib.display.Audio object>"
      ]
     },
     "execution_count": 86,
     "metadata": {},
     "output_type": "execute_result"
    }
   ],
   "source": [
    "# test over 4 x-ray classes\n",
    "classes = test_loader.dataset.classes\n",
    "class_correct = list(0. for i in range(4))\n",
    "class_total = list(0. for i in range(4))\n",
    "\n",
    "\n",
    "# iterate over test data\n",
    "for data, target in tqdm(test_loader):\n",
    "\n",
    "    # forward pass: compute predicted outputs by passing inputs to the model\n",
    "    output = cnn_predictor.predict(data)\n",
    "\n",
    "    \n",
    "    # convert output probabilities to predicted class\n",
    "    output = torch.from_numpy(output.astype('float32'))\n",
    "    _, pred = torch.max(output, 1) \n",
    "    \n",
    "    # compare predictions to true label\n",
    "    correct_tensor = pred.eq(target.data.view_as(pred))\n",
    "    correct = np.squeeze(correct_tensor.numpy()) \n",
    "\n",
    "    # calculate test accuracy for each object class\n",
    "    for i in range(batch_size):\n",
    "        label = target.data[i]\n",
    "        class_correct[label] += correct[i].item()\n",
    "        class_total[label] += 1\n",
    "\n",
    "for i in range(4):\n",
    "    if class_total[i] > 0:\n",
    "        print('Test Accuracy of %5s: %2d%% (%2d/%2d)' % (\n",
    "            classes[i], 100 * class_correct[i] / class_total[i],\n",
    "            np.sum(class_correct[i]), np.sum(class_total[i])))\n",
    "    else:\n",
    "        print('Test Accuracy of %5s: N/A (no training examples)' % (classes[i]))\n",
    "\n",
    "print('\\nTest Accuracy (Overall): %2d%% (%2d/%2d)' % (\n",
    "    100. * np.sum(class_correct) / np.sum(class_total),\n",
    "    np.sum(class_correct), np.sum(class_total)))\n",
    "\n",
    "Audio(sound_file, autoplay=True)"
   ]
  },
  {
   "cell_type": "code",
   "execution_count": 87,
   "metadata": {},
   "outputs": [],
   "source": [
    "def delete_endpoint(predictor):\n",
    "    try:\n",
    "        boto3.client('sagemaker').delete_endpoint(EndpointName=predictor.endpoint)\n",
    "        print('Deleted {}'.format(predictor.endpoint))\n",
    "    except:\n",
    "        print('Already deleted: {}'.format(predictor.endpoint))"
   ]
  },
  {
   "cell_type": "code",
   "execution_count": 88,
   "metadata": {},
   "outputs": [
    {
     "name": "stdout",
     "output_type": "stream",
     "text": [
      "Deleted sagemaker-pytorch-2020-06-24-01-21-33-652\n"
     ]
    }
   ],
   "source": [
    "# Delete the predictor endpoint \n",
    "delete_endpoint(cnn_predictor)"
   ]
  },
  {
   "cell_type": "code",
   "execution_count": 6,
   "metadata": {},
   "outputs": [
    {
     "name": "stdout",
     "output_type": "stream",
     "text": [
      "  adding: model_data/\t(in=0) (out=0) (stored 0%)\r\n",
      "  adding: model_data/output.tar.gz\t(in=394) (out=394) (stored 0%)\r\n",
      "  adding: model_data/CNN_unfreeze_features_summary.csv\t(in=458) (out=255) (deflated 44%)\r\n",
      "  adding: model_data/model_test_1_summary.csv\t(in=68) (out=66) (deflated 3%)\r\n",
      "  adding: model_data/CNN_lr_0001_summary.csv\t(in=455) (out=255) (deflated 44%)\r\n",
      "  adding: model_data/.ipynb_checkpoints/\t(in=0) (out=0) (stored 0%)\r\n",
      "  adding: model_data/CNN_freeze_all_features_summary.csv\t(in=459) (out=255) (deflated 44%)\r\n",
      "  adding: model_data/CNN_lr_0.1_summary.csv\t(in=454) (out=254) (deflated 44%)\r\n",
      "total bytes=16029, compressed=5890 -> 63% savings\r\n"
     ]
    }
   ],
   "source": [
    "!zip -rvu capstone.zip Data_analysis"
   ]
  },
  {
   "cell_type": "code",
   "execution_count": null,
   "metadata": {},
   "outputs": [],
   "source": []
  }
 ],
 "metadata": {
  "kernelspec": {
   "display_name": "Python 3",
   "language": "python",
   "name": "python3"
  },
  "language_info": {
   "codemirror_mode": {
    "name": "ipython",
    "version": 3
   },
   "file_extension": ".py",
   "mimetype": "text/x-python",
   "name": "python",
   "nbconvert_exporter": "python",
   "pygments_lexer": "ipython3",
   "version": "3.8.2"
  }
 },
 "nbformat": 4,
 "nbformat_minor": 4
}
