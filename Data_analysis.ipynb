{
 "cells": [
  {
   "cell_type": "code",
   "execution_count": 3,
   "metadata": {},
   "outputs": [],
   "source": [
    "# Analysis of the data. \n",
    "\n",
    "%matplotlib inline\n",
    "%config InlineBackend.figure_format = 'retina'\n",
    "import numpy as np\n",
    "import matplotlib.pyplot as plt\n",
    "from pylab import rcParams\n",
    "from tqdm import tqdm, trange\n",
    "from pandas.plotting import register_matplotlib_converters\n",
    "\n",
    "import pandas as pd\n",
    "import os\n",
    "import glob\n",
    "import shutil\n",
    "from pathlib import Path\n",
    "from os import listdir\n",
    "from os.path import isfile, join\n",
    "import torch\n",
    "from torchvision import datasets, transforms, models\n",
    "from torch import nn, optim\n",
    "from torch.utils.data import Dataset\n",
    "import cv2\n",
    "\n",
    "import torch_model #helper functions\n",
    "import helper\n",
    "\n",
    "import albumentations as A\n",
    "from albumentations.pytorch import ToTensor\n",
    "\n",
    "import random\n",
    "RANDOM_SEED = 42\n",
    "random.seed(RANDOM_SEED)\n",
    "np.random.seed(RANDOM_SEED)\n",
    "\n",
    "import importlib\n"
   ]
  },
  {
   "cell_type": "code",
   "execution_count": null,
   "metadata": {},
   "outputs": [],
   "source": [
    "# check if CUDA is available\n",
    "train_on_gpu = torch.cuda.is_available()\n",
    "print (train_on_gpu)\n",
    "if not train_on_gpu:\n",
    "    print('CUDA is not available.  Training on CPU ...')\n",
    "else:\n",
    "    print('CUDA is available!  Training on GPU ...')"
   ]
  },
  {
   "cell_type": "code",
   "execution_count": 2,
   "metadata": {},
   "outputs": [
    {
     "name": "stdout",
     "output_type": "stream",
     "text": [
      "Wall time: 461 ms\n",
      "Chest_xray_Corona_dataset_Summary.csv  imported\n",
      "Wall time: 30.8 ms\n",
      "Chest_xray_Corona_Metadata.csv  imported\n"
     ]
    }
   ],
   "source": [
    "# Import dataset summary and metadata.\n",
    "\n",
    "dir_summary = Path(\"data\")\n",
    "fileName = 'Chest_xray_Corona_dataset_Summary.csv'\n",
    "%time data_summary = pd.read_csv(dir_summary / fileName)\n",
    "data_summary = data_summary.iloc[:,1:] # delete first column\n",
    "print(fileName, ' imported')\n",
    "\n",
    "fileName = 'Chest_xray_Corona_Metadata.csv'\n",
    "%time metadata = pd.read_csv(dir_summary / fileName)\n",
    "metadata = metadata.iloc[:,1:] # delete first column\n",
    "metadata = metadata.fillna(\"\")\n",
    "print(fileName, ' imported')\n",
    "metadata['folder'] = \"\"\n",
    "\n",
    "# indicate a folder to each image\n",
    "for i in range(0,len(metadata)) :\n",
    "    if metadata.iloc[i,3] != \"\":\n",
    "        metadata.iloc[i,5] =  metadata.iloc[i,1] + \"-\" +  metadata.iloc[i,4] + \"-\" +  metadata.iloc[i,3]\n",
    "    elif metadata.iloc[i,4] != \"\":\n",
    "        metadata.iloc[i,5] =  metadata.iloc[i,1] + \"-\" +  metadata.iloc[i,4]\n",
    "    else:\n",
    "        metadata.iloc[i,5] =  metadata.iloc[i,1]"
   ]
  },
  {
   "cell_type": "code",
   "execution_count": null,
   "metadata": {},
   "outputs": [],
   "source": [
    "metadata.loc[metadata['Dataset_type'] == 'TEST'].groupby(['folder']).count()"
   ]
  },
  {
   "cell_type": "code",
   "execution_count": null,
   "metadata": {},
   "outputs": [],
   "source": [
    "data_summary"
   ]
  },
  {
   "cell_type": "code",
   "execution_count": null,
   "metadata": {},
   "outputs": [],
   "source": [
    "os.makedirs(\"data/train/Normal\", exist_ok=True)\n",
    "os.makedirs(\"data/train/Pnemonia-bacteria\", exist_ok=True)\n",
    "os.makedirs(\"data/train/Pnemonia-bacteria-Streptococcus\", exist_ok=True)\n",
    "os.makedirs(\"data/train/Pnemonia-Stress-Smoking-ARDS\", exist_ok=True)\n",
    "os.makedirs(\"data/train/Pnemonia-Virus\", exist_ok=True)\n",
    "os.makedirs(\"data/train/Pnemonia-Virus-COVID-19\", exist_ok=True)\n",
    "os.makedirs(\"data/train/Pnemonia-Virus-SARS\", exist_ok=True)\n"
   ]
  },
  {
   "cell_type": "code",
   "execution_count": null,
   "metadata": {},
   "outputs": [],
   "source": [
    "## Move images to train folder ##\n",
    "\n",
    "# Get images names\n",
    "src_folder = \"data/Coronahack-Chest-XRay-Dataset/train\"\n",
    "dest_folder = \"data/train\" \n",
    "images = [f for f in listdir(src_folder) if isfile(join(src_folder, f))]\n",
    "# Save each image in its corresponding class directory\n",
    "counter = 0\n",
    "for f in tqdm(images):\n",
    "    if metadata.loc[metadata['X_ray_image_name'] == f].shape[0] > 0:\n",
    "#         if 'Pnemonia-Virus-COVID-19' == metadata.loc[metadata['X_ray_image_name'] == f, 'folder' ].to_list()[0]:\n",
    "        class_folder = metadata.loc[metadata['X_ray_image_name'] == f, 'folder' ].to_list()[0]\n",
    "        shutil.copy(os.path.join(src_folder, f), os.path.join(dest_folder, class_folder))\n",
    "        counter += 1\n",
    "\n",
    "print(\"archives: \", counter)"
   ]
  },
  {
   "cell_type": "code",
   "execution_count": null,
   "metadata": {},
   "outputs": [],
   "source": [
    "## Move images to test folder ##\n",
    "\n",
    "# Get images names\n",
    "src_folder = \"data/Coronahack-Chest-XRay-Dataset/test\"\n",
    "dest_folder = \"data/test\" \n",
    "images = [f for f in listdir(src_folder) if isfile(join(src_folder, f))]\n",
    "# Save each image in its corresponding class directory\n",
    "counter = 0\n",
    "for f in tqdm(images):\n",
    "    if metadata.loc[metadata['X_ray_image_name'] == f].shape[0] > 0:\n",
    "#         if 'Pnemonia-Virus-COVID-19' == metadata.loc[metadata['X_ray_image_name'] == f, 'folder' ].to_list()[0]:\n",
    "        class_folder = metadata.loc[metadata['X_ray_image_name'] == f, 'folder' ].to_list()[0]\n",
    "        shutil.copy(os.path.join(src_folder, f), os.path.join(dest_folder, class_folder))\n",
    "        counter += 1\n",
    "\n",
    "print(\"archives: \", counter)"
   ]
  },
  {
   "cell_type": "code",
   "execution_count": 10,
   "metadata": {},
   "outputs": [],
   "source": [
    "# Compose transforms\n",
    "editions = transforms.Compose([transforms.Resize(256),\n",
    "                               transforms.CenterCrop(256),\n",
    "#                                transforms.ColorJitter(),\n",
    "#                                transforms.RandomGrayscale(),\n",
    "                               transforms.RandomRotation(4),\n",
    "                               transforms.ToTensor(),\n",
    "                               transforms.Normalize((0.5, 0.5, 0.5), (0.5, 0.5, 0.5))   # new thing                            \n",
    "                              ])\n",
    "\n",
    "# editions = A.Compose([\n",
    "#                     A.HorizontalFlip(p=0.5),\n",
    "#                     A.RandomGamma(gamma_limit=(20, 300), p=0.5),\n",
    "#                     A.Blur(always_apply=False, p=1.0, blur_limit=(3, 7)),\n",
    "#                     A.RandomBrightnessContrast(p=0.85),\n",
    "#                     A.Rotate(limit=4, p=0.9),\n",
    "#                     A.GaussNoise(p=0.25),\n",
    "#                     A.HueSaturationValue(p=0.5, hue_shift_limit=(-20, 20), sat_shift_limit=(-30, 30), val_shift_limit=(-20, 20)),\n",
    "# #                     A.Normalize(mean=[0.5, 0.5, 0.5], std=[0.5, 0.5, 0.5]),\n",
    "# #                     ToTensor()\n",
    "#                     ])\n",
    "\n",
    "train_data =  datasets.ImageFolder('data/train', transform=editions) # create the ImageFolder\n",
    "train_loader = torch.utils.data.DataLoader(train_data, batch_size=4, shuffle=True) # use the ImageFolder dataset to create the DataLoader\n",
    "test_data =  datasets.ImageFolder('data/test', transform=editions) # create the ImageFolder\n",
    "test_loader = torch.utils.data.DataLoader(test_data, batch_size=4, shuffle=True) "
   ]
  },
  {
   "cell_type": "code",
   "execution_count": null,
   "metadata": {},
   "outputs": [],
   "source": [
    "\n",
    "helper.imshow(train_data[3][0], normalize=False)"
   ]
  },
  {
   "cell_type": "code",
   "execution_count": null,
   "metadata": {
    "scrolled": true
   },
   "outputs": [],
   "source": [
    "# test data loader\n",
    "images, labels = next(iter(train_loader))\n",
    "helper.imshow(images[0], normalize=False)"
   ]
  },
  {
   "cell_type": "code",
   "execution_count": null,
   "metadata": {},
   "outputs": [],
   "source": [
    "# change this to the trainloader or testloader \n",
    "data_iter = iter(train_loader)\n",
    "\n",
    "images, labels = next(data_iter)\n",
    "fig, axes = plt.subplots(figsize=(10,4), ncols=4)\n",
    "for ii in range(4):\n",
    "    ax = axes[ii]\n",
    "    helper.imshow(images[ii], ax=ax)"
   ]
  },
  {
   "cell_type": "code",
   "execution_count": null,
   "metadata": {},
   "outputs": [],
   "source": [
    "# Create the network, define the criterion and optimizer\n",
    "model = torch_model.Network(196608, 7, [512, 256, 128, 64], drop_p=0.1)\n",
    "criterion = nn.NLLLoss()\n",
    "optimizer = optim.Adam(model.parameters(), lr=0.003)\n",
    "print(model)"
   ]
  },
  {
   "cell_type": "code",
   "execution_count": null,
   "metadata": {},
   "outputs": [],
   "source": [
    "importlib.reload(torch_model)\n",
    "import train"
   ]
  },
  {
   "cell_type": "code",
   "execution_count": 12,
   "metadata": {},
   "outputs": [
    {
     "name": "stdout",
     "output_type": "stream",
     "text": [
      "modulo importado como name\n"
     ]
    },
    {
     "data": {
      "text/plain": [
       "<module 'prova' from 'C:\\\\Users\\\\rodri\\\\OneDrive\\\\Documentos\\\\GitHub\\\\Xrays_covid_model\\\\prova.py'>"
      ]
     },
     "execution_count": 12,
     "metadata": {},
     "output_type": "execute_result"
    }
   ],
   "source": [
    "importlib.reload(prova)"
   ]
  },
  {
   "cell_type": "code",
   "execution_count": 29,
   "metadata": {},
   "outputs": [
    {
     "name": "stdout",
     "output_type": "stream",
     "text": [
      "Get data loader."
     ]
    },
    {
     "name": "stderr",
     "output_type": "stream",
     "text": [
      "\n",
      "  0%|          | 0/5 [00:00<?, ?it/s]\n",
      " 20%|##        | 1/5 [08:18<33:12, 498.12s/it]\n",
      " 40%|####      | 2/5 [16:08<24:29, 489.91s/it]\n",
      " 60%|######    | 3/5 [23:52<16:03, 481.97s/it]\n",
      " 80%|########  | 4/5 [32:08<08:06, 486.30s/it]\n",
      "100%|##########| 5/5 [40:53<00:00, 497.73s/it]\n",
      "100%|##########| 5/5 [40:53<00:00, 490.62s/it]\n",
      "Traceback (most recent call last):\n",
      "  File \"feed_forward_net/train.py\", line 234, in <module>\n",
      "    train(model, train_loader, test_loader, args.epochs, optimizer, criterion, device)\n",
      "  File \"feed_forward_net/train.py\", line 122, in train\n",
      "    save_model(model, args.model_dir)\n",
      "  File \"feed_forward_net/train.py\", line 136, in save_model\n",
      "    torch.save(checkpoint, path)\n",
      "NameError: name 'path' is not defined\n"
     ]
    },
    {
     "name": "stdout",
     "output_type": "stream",
     "text": [
      "\n",
      "Num of batches in train data:  204\n",
      "Get data loader.\n",
      "Num of batches in test data:  20\n",
      "Starting training with 5 epochs\n",
      "Epoch: 1/5..  Training Loss: 3.626..  Test Loss: 1.640..  Test Accuracy: 0.516 Test Accuracy2: 0.739\n",
      "Epoch: 2/5..  Training Loss: 1.331..  Test Loss: 1.259..  Test Accuracy: 0.489 Test Accuracy2: 0.718\n",
      "Epoch: 3/5..  Training Loss: 1.334..  Test Loss: 1.376..  Test Accuracy: 0.386 Test Accuracy2: 0.631\n",
      "Epoch: 4/5..  Training Loss: 1.369..  Test Loss: 1.355..  Test Accuracy: 0.382 Test Accuracy2: 0.631\n",
      "Epoch: 5/5..  Training Loss: 1.357..  Test Loss: 1.340..  Test Accuracy: 0.384 Test Accuracy2: 0.630\n",
      "Saving the model.\n"
     ]
    }
   ],
   "source": [
    "!python feed_forward_net/train.py"
   ]
  },
  {
   "cell_type": "code",
   "execution_count": null,
   "metadata": {},
   "outputs": [],
   "source": [
    "import feed_forward_net.train"
   ]
  },
  {
   "cell_type": "code",
   "execution_count": null,
   "metadata": {},
   "outputs": [],
   "source": [
    "# move tensors to GPU if CUDA is available\n",
    "if train_on_gpu:\n",
    "#     model.cuda()\n",
    "    model.to(\"cuda\")"
   ]
  },
  {
   "cell_type": "code",
   "execution_count": null,
   "metadata": {},
   "outputs": [],
   "source": [
    "# import a PyTorch wrapper\n",
    "from sagemaker.pytorch import PyTorch\n",
    "\n",
    "# specify an output path\n",
    "output_path = 's3://{}/{}'.format(bucket, prefix)\n",
    "\n",
    "# instantiate a pytorch estimator\n",
    "estimator = PyTorch(entry_point=\"train.py\",\n",
    "                    source_dir=\"train\",\n",
    "                    role=role,\n",
    "                    framework_version='0.4.0',\n",
    "                    train_instance_count=1,\n",
    "                    train_instance_type='ml.p2.xlarge',\n",
    "                    output_path = output_path\n",
    "                    hyperparameters={\n",
    "                        'input_dim': 2,\n",
    "                        'hidden_dim': 20,\n",
    "                        'ouput_dim': 1,\n",
    "                        'epochs': 80\n",
    "                    })"
   ]
  },
  {
   "cell_type": "code",
   "execution_count": null,
   "metadata": {},
   "outputs": [],
   "source": [
    "%%time\n",
    "criterion = nn.NLLLoss()\n",
    "optimizer = optim.Adam(model.parameters(), lr=0.003)\n",
    "torch_model.train(model, train_loader, test_loader, criterion, optimizer, \"cpu\", epochs=1)"
   ]
  },
  {
   "cell_type": "code",
   "execution_count": null,
   "metadata": {},
   "outputs": [],
   "source": [
    "def view_classify_covid_19(img, ps):\n",
    "    ''' Function for viewing an image and it's predicted classes.\n",
    "    '''\n",
    "    ps = ps.data.numpy().squeeze()\n",
    "\n",
    "    fig, (ax1, ax2) = plt.subplots(figsize=(6,9), ncols=2)\n",
    "    ax1.imshow(img.resize_(1, 256, 256).numpy().squeeze())\n",
    "    ax1.axis('off')\n",
    "    ax2.barh(np.arange(1,8), ps)\n",
    "    ax2.set_aspect(0.1)\n",
    "    ax2.set_yticks(np.arange(1,8))\n",
    "    ax2.set_yticklabels(np.arange(1,8))\n",
    "    ax2.set_title('Class Probability')\n",
    "    ax2.set_xlim(0, 1.1)\n",
    "    plt.tight_layout()"
   ]
  },
  {
   "cell_type": "code",
   "execution_count": null,
   "metadata": {},
   "outputs": [],
   "source": [
    "# Test network\n",
    "model.eval()\n",
    "dataiter = iter(test_loader)\n",
    "images, labels = dataiter.next()\n",
    "img = images[1]\n",
    "img_squezeed = img.view(1, 196608)\n",
    "# Calculate the class probabilities (softmax) for img\n",
    "with torch.no_grad():\n",
    "    output = model.forward(img_squezeed)\n",
    "ps = torch.exp(output)\n",
    "\n",
    "print(labels[1])"
   ]
  },
  {
   "cell_type": "code",
   "execution_count": null,
   "metadata": {},
   "outputs": [],
   "source": [
    "%%time\n",
    "# model.cpu()\n",
    "torch_model.validation(model,test_loader)\n",
    "# preciso medir os falsos positivos. "
   ]
  },
  {
   "cell_type": "code",
   "execution_count": null,
   "metadata": {},
   "outputs": [],
   "source": []
  },
  {
   "cell_type": "code",
   "execution_count": null,
   "metadata": {},
   "outputs": [],
   "source": [
    "metadata.loc[metadata[\"Dataset_type\"] == \"TEST\"].groupby([\"folder\"]).count()"
   ]
  },
  {
   "cell_type": "code",
   "execution_count": null,
   "metadata": {},
   "outputs": [],
   "source": [
    "# save model\n",
    "\n",
    "checkpoint = {'input_size': 196608,\n",
    "              'output_size': 7,\n",
    "              'hidden_layers': [each.out_features for each in model.hidden_layers],\n",
    "              'state_dict': model.state_dict()}\n",
    "\n",
    "nome = 'normalizado'\n",
    "torch.save(checkpoint, nome + '.pth')"
   ]
  },
  {
   "cell_type": "code",
   "execution_count": null,
   "metadata": {},
   "outputs": [],
   "source": [
    "def load_checkpoint(filepath):\n",
    "    checkpoint = torch.load(filepath)\n",
    "    model = torch_model.Network(checkpoint['input_size'],\n",
    "                             checkpoint['output_size'],\n",
    "                             checkpoint['hidden_layers'])\n",
    "    model.load_state_dict(checkpoint['state_dict'])\n",
    "    \n",
    "    return model\n",
    "nome = 'normalizado'\n",
    "model = load_checkpoint(nome + '.pth')\n",
    "print(model)"
   ]
  },
  {
   "cell_type": "markdown",
   "metadata": {},
   "source": [
    "# Data augmentation"
   ]
  },
  {
   "cell_type": "code",
   "execution_count": null,
   "metadata": {},
   "outputs": [],
   "source": [
    "# From https://www.curiousily.com/posts/image-data-augmentation-for-tensorflow-2-keras-and-pytorch-with-albumentations-in-python/\n",
    "def show_image(image):\n",
    "    f = plt.figure(figsize=(18, 12))\n",
    "    plt.imshow(\n",
    "    cv2.cvtColor(image, cv2.COLOR_BGR2RGB),\n",
    "    interpolation='nearest'\n",
    "    )\n",
    "    plt.axis('off')\n",
    "    f.tight_layout()\n",
    "    plt.show()\n",
    "\n",
    "def show_augmented(augmentation, image):\n",
    "    augmented = augmentation(image=image)\n",
    "    show_image(augmented['image'])"
   ]
  },
  {
   "cell_type": "code",
   "execution_count": null,
   "metadata": {},
   "outputs": [],
   "source": [
    "doc_aug = A.Compose([\n",
    "                    A.HorizontalFlip(p=0.5),\n",
    "                    A.RandomGamma(gamma_limit=(20, 300), p=0.5),\n",
    "                    A.Blur(always_apply=False, p=1.0, blur_limit=(3, 7)),\n",
    "                    A.RandomBrightnessContrast(p=0.85),\n",
    "                    A.Rotate(limit=4, p=0.9),\n",
    "                    A.GaussNoise(p=0.25),\n",
    "                    A.HueSaturationValue(p=0.5, hue_shift_limit=(-20, 20), sat_shift_limit=(-30, 30), val_shift_limit=(-20, 20))\n",
    "                    ])"
   ]
  },
  {
   "cell_type": "code",
   "execution_count": null,
   "metadata": {},
   "outputs": [],
   "source": [
    "# First test augmentation of 1 image\n",
    "# Second, test augmentation of n different images for each \n",
    "\n",
    "\n",
    "src_folder = \"data/train/Pnemonia-Virus-COVID-19\"\n",
    "DATASET_PATH = 'data/augmented'\n",
    "IMAGES_PATH = f'{DATASET_PATH}/Pnemonia-Virus-COVID-19'\n",
    "os.makedirs(DATASET_PATH, exist_ok=True)\n",
    "os.makedirs(IMAGES_PATH, exist_ok=True)\n",
    "images = [f for f in listdir(src_folder) if isfile(join(src_folder, f))] # get images names\n",
    "\n",
    "for i in trange(50):\n",
    "    xray = cv2.imread( os.path.join(\"data/train/Pnemonia-Virus-COVID-19\", images[i]) )\n",
    "    for k in range(25):\n",
    "        augmented = doc_aug(image=xray)\n",
    "        file_name = f'foto_aug_{i}_{k}.jpg'\n",
    "        cv2.imwrite(f'{IMAGES_PATH}/{file_name}', augmented['image'])"
   ]
  },
  {
   "cell_type": "markdown",
   "metadata": {},
   "source": [
    "# CNN with transfer learning"
   ]
  },
  {
   "cell_type": "code",
   "execution_count": 4,
   "metadata": {},
   "outputs": [
    {
     "name": "stderr",
     "output_type": "stream",
     "text": [
      "Downloading: \"https://download.pytorch.org/models/vgg16-397923af.pth\" to C:\\Users\\rodri/.cache\\torch\\checkpoints\\vgg16-397923af.pth\n"
     ]
    },
    {
     "data": {
      "application/vnd.jupyter.widget-view+json": {
       "model_id": "be729a9046d54c33afa9d59edd90f33f",
       "version_major": 2,
       "version_minor": 0
      },
      "text/plain": [
       "HBox(children=(FloatProgress(value=0.0, max=553433881.0), HTML(value='')))"
      ]
     },
     "metadata": {},
     "output_type": "display_data"
    },
    {
     "name": "stdout",
     "output_type": "stream",
     "text": [
      "\n",
      "VGG(\n",
      "  (features): Sequential(\n",
      "    (0): Conv2d(3, 64, kernel_size=(3, 3), stride=(1, 1), padding=(1, 1))\n",
      "    (1): ReLU(inplace=True)\n",
      "    (2): Conv2d(64, 64, kernel_size=(3, 3), stride=(1, 1), padding=(1, 1))\n",
      "    (3): ReLU(inplace=True)\n",
      "    (4): MaxPool2d(kernel_size=2, stride=2, padding=0, dilation=1, ceil_mode=False)\n",
      "    (5): Conv2d(64, 128, kernel_size=(3, 3), stride=(1, 1), padding=(1, 1))\n",
      "    (6): ReLU(inplace=True)\n",
      "    (7): Conv2d(128, 128, kernel_size=(3, 3), stride=(1, 1), padding=(1, 1))\n",
      "    (8): ReLU(inplace=True)\n",
      "    (9): MaxPool2d(kernel_size=2, stride=2, padding=0, dilation=1, ceil_mode=False)\n",
      "    (10): Conv2d(128, 256, kernel_size=(3, 3), stride=(1, 1), padding=(1, 1))\n",
      "    (11): ReLU(inplace=True)\n",
      "    (12): Conv2d(256, 256, kernel_size=(3, 3), stride=(1, 1), padding=(1, 1))\n",
      "    (13): ReLU(inplace=True)\n",
      "    (14): Conv2d(256, 256, kernel_size=(3, 3), stride=(1, 1), padding=(1, 1))\n",
      "    (15): ReLU(inplace=True)\n",
      "    (16): MaxPool2d(kernel_size=2, stride=2, padding=0, dilation=1, ceil_mode=False)\n",
      "    (17): Conv2d(256, 512, kernel_size=(3, 3), stride=(1, 1), padding=(1, 1))\n",
      "    (18): ReLU(inplace=True)\n",
      "    (19): Conv2d(512, 512, kernel_size=(3, 3), stride=(1, 1), padding=(1, 1))\n",
      "    (20): ReLU(inplace=True)\n",
      "    (21): Conv2d(512, 512, kernel_size=(3, 3), stride=(1, 1), padding=(1, 1))\n",
      "    (22): ReLU(inplace=True)\n",
      "    (23): MaxPool2d(kernel_size=2, stride=2, padding=0, dilation=1, ceil_mode=False)\n",
      "    (24): Conv2d(512, 512, kernel_size=(3, 3), stride=(1, 1), padding=(1, 1))\n",
      "    (25): ReLU(inplace=True)\n",
      "    (26): Conv2d(512, 512, kernel_size=(3, 3), stride=(1, 1), padding=(1, 1))\n",
      "    (27): ReLU(inplace=True)\n",
      "    (28): Conv2d(512, 512, kernel_size=(3, 3), stride=(1, 1), padding=(1, 1))\n",
      "    (29): ReLU(inplace=True)\n",
      "    (30): MaxPool2d(kernel_size=2, stride=2, padding=0, dilation=1, ceil_mode=False)\n",
      "  )\n",
      "  (avgpool): AdaptiveAvgPool2d(output_size=(7, 7))\n",
      "  (classifier): Sequential(\n",
      "    (0): Linear(in_features=25088, out_features=4096, bias=True)\n",
      "    (1): ReLU(inplace=True)\n",
      "    (2): Dropout(p=0.5, inplace=False)\n",
      "    (3): Linear(in_features=4096, out_features=4096, bias=True)\n",
      "    (4): ReLU(inplace=True)\n",
      "    (5): Dropout(p=0.5, inplace=False)\n",
      "    (6): Linear(in_features=4096, out_features=1000, bias=True)\n",
      "  )\n",
      ")\n"
     ]
    }
   ],
   "source": [
    "# Load the pretrained model from pytorch\n",
    "vgg16 = models.vgg16(pretrained=True)\n",
    "\n",
    "# print out the model structure\n",
    "print(vgg16)"
   ]
  },
  {
   "cell_type": "code",
   "execution_count": 5,
   "metadata": {},
   "outputs": [
    {
     "name": "stdout",
     "output_type": "stream",
     "text": [
      "4096\n",
      "1000\n"
     ]
    }
   ],
   "source": [
    "print(vgg16.classifier[6].in_features) \n",
    "print(vgg16.classifier[6].out_features) "
   ]
  },
  {
   "cell_type": "code",
   "execution_count": 6,
   "metadata": {},
   "outputs": [],
   "source": [
    "# Freeze training for all \"features\" layers\n",
    "for param in vgg16.features.parameters():\n",
    "    param.requires_grad = False"
   ]
  },
  {
   "cell_type": "code",
   "execution_count": 8,
   "metadata": {},
   "outputs": [
    {
     "name": "stdout",
     "output_type": "stream",
     "text": [
      "7\n"
     ]
    }
   ],
   "source": [
    "n_inputs = vgg16.classifier[6].in_features\n",
    "classes= [1,2,3,4,5,6,7]\n",
    "# add last linear layer (n_inputs -> 7 lung classes)\n",
    "# new layers automatically have requires_grad = True\n",
    "last_layer = nn.Linear(n_inputs, len(classes))\n",
    "\n",
    "vgg16.classifier[6] = last_layer\n",
    "\n",
    "# if GPU is available, move the model to GPU\n",
    "# if train_on_gpu:\n",
    "#     vgg16.cuda()\n",
    "\n",
    "# check to see that your last layer produces the expected number of outputs\n",
    "print(vgg16.classifier[6].out_features)\n",
    "#print(vgg16)"
   ]
  },
  {
   "cell_type": "code",
   "execution_count": 9,
   "metadata": {},
   "outputs": [],
   "source": [
    "# specify loss function (categorical cross-entropy)\n",
    "criterion = nn.CrossEntropyLoss()\n",
    "\n",
    "# specify optimizer (stochastic gradient descent) and learning rate = 0.001\n",
    "optimizer = optim.SGD(vgg16.classifier.parameters(), lr=0.001)"
   ]
  },
  {
   "cell_type": "code",
   "execution_count": 12,
   "metadata": {},
   "outputs": [
    {
     "name": "stdout",
     "output_type": "stream",
     "text": [
      "Epoch: 1/2..  Training Loss: 0.666..  Test Loss: 0.861..  Test Accuracy: 0.723 Test Accuracy2: 0.797\n",
      "Epoch: 2/2..  Training Loss: 0.489..  Test Loss: 0.731..  Test Accuracy: 0.763 Test Accuracy2: 0.835\n"
     ]
    },
    {
     "data": {
      "text/plain": [
       "<matplotlib.legend.Legend at 0x1ec5631a610>"
      ]
     },
     "execution_count": 12,
     "metadata": {},
     "output_type": "execute_result"
    },
    {
     "data": {
      "image/png": "[encoded data removed]",
      "text/plain": [
       "<Figure size 432x288 with 1 Axes>"
      ]
     },
     "metadata": {
      "image/png": {
       "height": 248,
       "width": 378
      },
      "needs_background": "light"
     },
     "output_type": "display_data"
    }
   ],
   "source": [
    "%%time\n",
    "steps = 0\n",
    "train_losses, test_losses = [], []\n",
    "device=\"cpu\"\n",
    "epochs = 2\n",
    "for e in range(epochs):\n",
    "    running_loss = 0\n",
    "    for images, labels in train_loader:\n",
    "        images, labels = images.to(device), labels.to(device)\n",
    "        optimizer.zero_grad()\n",
    "\n",
    "        log_ps = vgg16(images)\n",
    "        loss = criterion(log_ps, labels)\n",
    "        loss.backward()\n",
    "        optimizer.step()\n",
    "\n",
    "        running_loss += loss.item()\n",
    "\n",
    "    else:\n",
    "        test_loss = 0\n",
    "        accuracy = 0\n",
    "        accuracy2 = 0\n",
    "\n",
    "        # Turn off gradients for validation, saves memory and computations\n",
    "        with torch.no_grad():\n",
    "            vgg16.eval()\n",
    "            for images, labels in test_loader:\n",
    "                images, labels = images.to(device), labels.to(device)\n",
    "                log_ps = vgg16(images)\n",
    "                test_loss += criterion(log_ps, labels)\n",
    "\n",
    "                ps = torch.exp(log_ps)\n",
    "                top_p, top_class = ps.topk(1, dim=1) # get highest probability. It returns a tuple with the probability and its index\n",
    "                equals = top_class == labels.view(*top_class.shape) # transform labels to size (batch, 1) to compare with top class\n",
    "                accuracy += torch.mean(equals.type(torch.FloatTensor))\n",
    "\n",
    "                # calculate accuracy only between normal lung and sick (2 classes):\n",
    "                originais = labels.view(*top_class.shape)\n",
    "                mask = originais[:,0]>=1\n",
    "                originais[mask,:] = 1\n",
    "                new_pred = top_class\n",
    "                mask = new_pred[:,0]>=1\n",
    "                new_pred[mask,:] = 1\n",
    "                equals2 = new_pred == originais\n",
    "                accuracy2 += torch.mean(equals2.type(torch.FloatTensor))\n",
    "\n",
    "        vgg16.train()\n",
    "\n",
    "        # Save values to show on a graph later\n",
    "        train_losses.append(running_loss/len(train_loader))\n",
    "        test_losses.append(test_loss/len(test_loader))\n",
    "\n",
    "        # Print stats\n",
    "        print(\"Epoch: {}/{}.. \".format(e+1, epochs),\n",
    "              \"Training Loss: {:.3f}.. \".format(train_losses[-1]),\n",
    "              \"Test Loss: {:.3f}.. \".format(test_losses[-1]),\n",
    "              \"Test Accuracy: {:.3f}\".format(accuracy/len(test_loader)),\n",
    "              \"Test Accuracy2: {:.3f}\".format(accuracy2/len(test_loader))\n",
    "             )\n",
    "\n",
    "plt.plot(train_losses, label='Training loss')\n",
    "plt.plot(test_losses, label='Validation loss')\n",
    "plt.legend(frameon=False)"
   ]
  },
  {
   "cell_type": "code",
   "execution_count": null,
   "metadata": {},
   "outputs": [],
   "source": []
  }
 ],
 "metadata": {
  "kernelspec": {
   "display_name": "Python 3",
   "language": "python",
   "name": "python3"
  },
  "language_info": {
   "codemirror_mode": {
    "name": "ipython",
    "version": 3
   },
   "file_extension": ".py",
   "mimetype": "text/x-python",
   "name": "python",
   "nbconvert_exporter": "python",
   "pygments_lexer": "ipython3",
   "version": "3.8.2"
  }
 },
 "nbformat": 4,
 "nbformat_minor": 4
}
